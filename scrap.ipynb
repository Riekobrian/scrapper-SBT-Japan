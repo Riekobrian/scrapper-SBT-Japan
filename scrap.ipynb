{
 "cells": [
  {
   "cell_type": "code",
   "execution_count": 1,
   "metadata": {},
   "outputs": [
    {
     "name": "stdout",
     "output_type": "stream",
     "text": [
      "Scraping: https://www.sbtjapan.com/used-cars/japan-inventory/\n",
      "Scraped 25 cars. Data saved to 'sbtjapan_cars.csv'.\n"
     ]
    }
   ],
   "source": [
    "import requests\n",
    "from bs4 import BeautifulSoup\n",
    "import pandas as pd\n",
    "import time\n",
    "\n",
    "# Base URL of the inventory page\n",
    "base_url = \"https://www.sbtjapan.com/used-cars/japan-inventory/\"\n",
    "headers = {\n",
    "    \"User-Agent\": \"Mozilla/5.0 (Windows NT 10.0; Win64; x64) AppleWebKit/537.36 (KHTML, like Gecko) Chrome/91.0.4472.124 Safari/537.36\"\n",
    "}\n",
    "\n",
    "# List to store all car data\n",
    "all_cars = []\n",
    "\n",
    "def scrape_page(url):\n",
    "    \"\"\"Scrape car listings from a single page.\"\"\"\n",
    "    print(f\"Scraping: {url}\")\n",
    "    response = requests.get(url, headers=headers)\n",
    "    if response.status_code != 200:\n",
    "        print(f\"Failed to fetch page: {response.status_code}\")\n",
    "        return False\n",
    "\n",
    "    soup = BeautifulSoup(response.text, 'html.parser')\n",
    "    listings = soup.find_all('li', class_='car_listitem')\n",
    "\n",
    "    for listing in listings:\n",
    "        try:\n",
    "            # Extract Stock ID\n",
    "            stock_id = listing['id'].split('_')[-1]\n",
    "\n",
    "            # Extract Make and Model from detail URL\n",
    "            detail_link = listing.find('h2').find('a')['href']\n",
    "            make, model = detail_link.split('/')[-3:-1]\n",
    "\n",
    "            # Extract Year and Month\n",
    "            year_month = listing.find('h2').text.strip().split()[0]\n",
    "            year, month = year_month.split('/')\n",
    "\n",
    "            # Extract Prices\n",
    "            price_div = listing.find('div', class_='car_prices')\n",
    "            prices = price_div.find_all('p', class_='price_para') if price_div else []\n",
    "            fob_price = prices[0].text.strip() if len(prices) > 0 else \"N/A\"\n",
    "            total_price = prices[1].text.strip() if len(prices) > 1 else \"N/A\"\n",
    "\n",
    "            # Extract Specifications\n",
    "            specs_table = listing.find('ul', class_='speclist_table')\n",
    "            specs = specs_table.find_all('li') if specs_table else []\n",
    "            mileage = specs[0].text.strip() if len(specs) > 0 else \"N/A\"\n",
    "            engine = specs[1].text.strip() if len(specs) > 1 else \"N/A\"\n",
    "            transmission = specs[2].text.strip() if len(specs) > 2 else \"N/A\"\n",
    "\n",
    "            # Extract Image URL\n",
    "            img_tag = listing.find('img')\n",
    "            image_url = img_tag.get('data-original', \"N/A\") if img_tag else \"N/A\"\n",
    "\n",
    "            # Store car data\n",
    "            car_data = {\n",
    "                'stock_id': stock_id,\n",
    "                'make': make,\n",
    "                'model': model,\n",
    "                'year': year,\n",
    "                'month': month,\n",
    "                'fob_price': fob_price,\n",
    "                'total_price': total_price,\n",
    "                'mileage': mileage,\n",
    "                'engine': engine,\n",
    "                'transmission': transmission,\n",
    "                'image_url': image_url\n",
    "            }\n",
    "            all_cars.append(car_data)\n",
    "\n",
    "        except Exception as e:\n",
    "            print(f\"Error processing listing {stock_id}: {e}\")\n",
    "\n",
    "    # Check for next page\n",
    "    next_page = soup.find('a', rel='next')\n",
    "    if next_page:\n",
    "        next_url = next_page['href']\n",
    "        if not next_url.startswith('http'):\n",
    "            next_url = \"https://www.sbtjapan.com\" + next_url\n",
    "        time.sleep(1)  # Be polite to the server\n",
    "        return next_url\n",
    "    return False\n",
    "\n",
    "# Start scraping from the base URL\n",
    "current_url = base_url\n",
    "while current_url:\n",
    "    next_url = scrape_page(current_url)\n",
    "    current_url = next_url\n",
    "\n",
    "# Save data to CSV\n",
    "df = pd.DataFrame(all_cars)\n",
    "df.to_csv('sbtjapan_cars.csv', index=False)\n",
    "print(f\"Scraped {len(all_cars)} cars. Data saved to 'sbtjapan_cars.csv'.\")"
   ]
  },
  {
   "cell_type": "markdown",
   "metadata": {},
   "source": []
  },
  {
   "cell_type": "code",
   "execution_count": 4,
   "metadata": {},
   "outputs": [
    {
     "name": "stdout",
     "output_type": "stream",
     "text": [
      "Scraping: https://www.sbtjapan.com/used-cars/japan-inventory/\n",
      "Scraped 25 cars. Data saved to 'sbtjapan_cars.csv'.\n"
     ]
    }
   ],
   "source": [
    "import requests\n",
    "from bs4 import BeautifulSoup\n",
    "import pandas as pd\n",
    "import time\n",
    "\n",
    "# Base URL of the inventory page\n",
    "base_url = \"https://www.sbtjapan.com/used-cars/japan-inventory/\"\n",
    "headers = {\n",
    "    \"User-Agent\": \"Mozilla/5.0 (Windows NT 10.0; Win64; x64) AppleWebKit/537.36 (KHTML, like Gecko) Chrome/91.0.4472.124 Safari/537.36\"\n",
    "}\n",
    "\n",
    "# List to store all car data\n",
    "all_cars = []\n",
    "\n",
    "def scrape_page(url):\n",
    "    \"\"\"Scrape car listings from a single page and return the next page URL if available.\"\"\"\n",
    "    print(f\"Scraping: {url}\")\n",
    "    response = requests.get(url, headers=headers)\n",
    "    if response.status_code != 200:\n",
    "        print(f\"Failed to fetch page: {response.status_code}\")\n",
    "        return False\n",
    "\n",
    "    soup = BeautifulSoup(response.text, 'html.parser')\n",
    "    listings = soup.find_all('li', class_='car_listitem')\n",
    "\n",
    "    for listing in listings:\n",
    "        try:\n",
    "            # Extract Stock ID from the 'id' attribute\n",
    "            stock_id = listing['id'].split('_')[-1]\n",
    "\n",
    "            # Extract Make and Model from the detail URL\n",
    "            detail_link = listing.find('h2').find('a')['href']\n",
    "            url_parts = detail_link.split('/')\n",
    "            make, model = url_parts[-3], url_parts[-2]  # e.g., 'toyota', 'harrier'\n",
    "\n",
    "            # Extract Year and Month from <h2> text (e.g., \"2018/5 TOYOTA HARRIER...\")\n",
    "            h2_text = listing.find('h2').text.strip()\n",
    "            year_month = h2_text.split()[0]  # \"2018/5\"\n",
    "            year, month = year_month.split('/')\n",
    "\n",
    "            # Extract and clean Prices\n",
    "            price_div = listing.find('div', class_='car_prices')\n",
    "            prices = price_div.find_all('p', class_='price_para') if price_div else []\n",
    "            fob_price = prices[0].text.strip().replace('USD ', '').replace(',', '') if len(prices) > 0 else \"N/A\"\n",
    "            total_price = prices[1].text.strip().replace('USD ', '').replace(',', '') if len(prices) > 1 else \"N/A\"\n",
    "\n",
    "            # Extract Specifications (mileage, engine, transmission)\n",
    "            specs_table = listing.find('ul', class_='speclist_table')\n",
    "            specs = specs_table.find_all('li') if specs_table else []\n",
    "            mileage = specs[0].find('p').text.strip() if len(specs) > 0 else \"N/A\"  # e.g., \"28,000km\"\n",
    "            engine = specs[1].find('p').text.strip() if len(specs) > 1 else \"N/A\"  # e.g., \"2,690cc (2TR)\"\n",
    "            transmission = specs[2].find('p').text.strip() if len(specs) > 2 else \"N/A\"  # e.g., \"AT\"\n",
    "\n",
    "            # Store data in a dictionary (excluding image_url)\n",
    "            car_data = {\n",
    "                'stock_id': stock_id,\n",
    "                'make': make,\n",
    "                'model': model,\n",
    "                'year': year,\n",
    "                'month': month,\n",
    "                'fob_price': fob_price,\n",
    "                'total_price': total_price,\n",
    "                'mileage': mileage,\n",
    "                'engine': engine,\n",
    "                'transmission': transmission\n",
    "            }\n",
    "            all_cars.append(car_data)\n",
    "\n",
    "        except Exception as e:\n",
    "            print(f\"Error processing listing {stock_id}: {e}\")\n",
    "\n",
    "    # Check for the next page\n",
    "    next_page = soup.find('a', rel='next')\n",
    "    if next_page:\n",
    "        next_url = next_page['href']\n",
    "        if not next_url.startswith('http'):\n",
    "            next_url = \"https://www.sbtjapan.com\" + next_url\n",
    "        time.sleep(1)  # Delay to avoid overwhelming the server\n",
    "        return next_url\n",
    "    return False\n",
    "\n",
    "# Start scraping from the base URL and iterate through all pages\n",
    "current_url = base_url\n",
    "while current_url:\n",
    "    next_url = scrape_page(current_url)\n",
    "    current_url = next_url\n",
    "\n",
    "# Define the column order for the CSV\n",
    "columns = ['stock_id', 'make', 'model', 'year', 'month', 'fob_price', 'total_price', 'mileage', 'engine', 'transmission']\n",
    "\n",
    "# Save data to CSV using pandas\n",
    "df = pd.DataFrame(all_cars, columns=columns)\n",
    "df.to_csv('sbtjapan_cars.csv', index=False)\n",
    "print(f\"Scraped {len(all_cars)} cars. Data saved to 'sbtjapan_cars.csv'.\")"
   ]
  },
  {
   "cell_type": "code",
   "execution_count": 8,
   "metadata": {},
   "outputs": [
    {
     "name": "stdout",
     "output_type": "stream",
     "text": [
      "Scraping complete. Data saved to 'car_listings.csv'.\n"
     ]
    }
   ],
   "source": [
    "import requests\n",
    "from bs4 import BeautifulSoup\n",
    "import pandas as pd\n",
    "\n",
    "headers = {'User-Agent': 'Mozilla/5.0'}\n",
    "\n",
    "def scrape_list_page(url):\n",
    "    response = requests.get(url, headers=headers)\n",
    "    if response.status_code != 200:\n",
    "        print(f\"Failed to fetch list page: {response.status_code}\")\n",
    "        return []\n",
    "    \n",
    "    soup = BeautifulSoup(response.text, 'html.parser')\n",
    "    listings = soup.find_all('li', class_='car_listitem')\n",
    "    car_data_list = []\n",
    "    \n",
    "    for listing in listings:\n",
    "        try:\n",
    "            stock_id = listing['id'].split('_')[-1]\n",
    "            price_div = listing.find('div', class_='car_prices')\n",
    "            prices = price_div.find_all('p', class_='price_para') if price_div else []\n",
    "            fob_price = prices[0].text.strip().replace('USD ', '').replace(',', '') if prices else \"N/A\"\n",
    "            total_price = prices[1].text.strip().replace('USD ', '').replace(',', '') if len(prices) > 1 else \"N/A\"\n",
    "            \n",
    "            car_data_list.append({\n",
    "                'stock_id': stock_id,\n",
    "                'fob_price': fob_price,\n",
    "                'total_price': total_price\n",
    "            })\n",
    "        except Exception as e:\n",
    "            print(f\"Error processing listing: {e}\")\n",
    "    \n",
    "    return car_data_list\n",
    "\n",
    "# Main process\n",
    "list_url = \"https://www.sbtjapan.com/used-cars/japan-inventory/\"  # Replace with your actual list page URL\n",
    "car_list_data = scrape_list_page(list_url)\n",
    "\n",
    "# Define columns (adjust based on what your previous scraper collected)\n",
    "columns = ['stock_id', 'fob_price', 'total_price']\n",
    "\n",
    "# Create DataFrame and save to CSV\n",
    "df = pd.DataFrame(car_list_data)\n",
    "df = df[columns]\n",
    "df.to_csv('car_listings.csv', index=False)\n",
    "print(\"Scraping complete. Data saved to 'car_listings.csv'.\")"
   ]
  },
  {
   "cell_type": "code",
   "execution_count": 10,
   "metadata": {},
   "outputs": [
    {
     "name": "stdout",
     "output_type": "stream",
     "text": [
      "Scraping complete. Data saved to 'car_listings.csv'.\n"
     ]
    }
   ],
   "source": [
    "import requests\n",
    "from bs4 import BeautifulSoup\n",
    "import pandas as pd\n",
    "import time\n",
    "\n",
    "headers = {'User-Agent': 'Mozilla/5.0'}\n",
    "\n",
    "# Scrape the list page for stock_id, prices, and detail URLs\n",
    "def scrape_list_page(url):\n",
    "    response = requests.get(url, headers=headers)\n",
    "    if response.status_code != 200:\n",
    "        print(f\"Failed to fetch list page: {response.status_code}\")\n",
    "        return []\n",
    "    \n",
    "    soup = BeautifulSoup(response.text, 'html.parser')\n",
    "    listings = soup.find_all('li', class_='car_listitem')\n",
    "    car_data_list = []\n",
    "    \n",
    "    for listing in listings:\n",
    "        try:\n",
    "            # Extract Stock ID\n",
    "            stock_id = listing['id'].split('_')[-1]\n",
    "            \n",
    "            # Extract Prices\n",
    "            price_div = listing.find('div', class_='car_prices')\n",
    "            prices = price_div.find_all('p', class_='price_para') if price_div else []\n",
    "            fob_price = prices[0].text.strip().replace('USD ', '').replace(',', '') if prices else \"N/A\"\n",
    "            total_price = prices[1].text.strip().replace('USD ', '').replace(',', '') if len(prices) > 1 else \"N/A\"\n",
    "            \n",
    "            # Extract Detail URL\n",
    "            a_tag = listing.find('h2').find('a')\n",
    "            detail_url = a_tag['href']\n",
    "            if not detail_url.startswith('http'):\n",
    "                detail_url = \"https://www.sbtjapan.com\" + detail_url\n",
    "            \n",
    "            car_data_list.append({\n",
    "                'stock_id': stock_id,\n",
    "                'fob_price': fob_price,\n",
    "                'total_price': total_price,\n",
    "                'detail_url': detail_url\n",
    "            })\n",
    "        except Exception as e:\n",
    "            print(f\"Error processing listing: {e}\")\n",
    "    \n",
    "    return car_data_list\n",
    "\n",
    "# Scrape the detail page for additional fields\n",
    "def scrape_detail_page(url):\n",
    "    response = requests.get(url, headers=headers)\n",
    "    if response.status_code != 200:\n",
    "        print(f\"Failed to fetch detail page: {response.status_code}\")\n",
    "        return {}\n",
    "    \n",
    "    soup = BeautifulSoup(response.text, 'html.parser')\n",
    "    car_data = {}\n",
    "    \n",
    "    # Extract Make and Model from <h3>\n",
    "    h3 = soup.find('h3')\n",
    "    if h3:\n",
    "        full_name = h3.text.split(\" - \")[0].strip()\n",
    "        parts = full_name.split(\" \", 1)\n",
    "        car_data['make'] = parts[0]\n",
    "        car_data['model'] = parts[1] if len(parts) > 1 else \"\"\n",
    "    \n",
    "    # Extract other fields from the table\n",
    "    table = soup.find('table', class_='tabA')\n",
    "    if table:\n",
    "        for tr in table.find_all('tr'):\n",
    "            ths = tr.find_all('th')\n",
    "            tds = tr.find_all('td')\n",
    "            for i in range(len(ths)):\n",
    "                key = ths[i].text.strip().lower().replace(' ', '_')\n",
    "                value = tds[i].text.strip() if i < len(tds) else \"N/A\"\n",
    "                car_data[key] = value\n",
    "    \n",
    "    return car_data\n",
    "\n",
    "# Main process\n",
    "list_url = \"https://www.sbtjapan.com/used-cars/japan-inventory/\"  # Replace with your actual list page URL\n",
    "car_list_data = scrape_list_page(list_url)\n",
    "\n",
    "all_cars = []\n",
    "for car in car_list_data:\n",
    "    detail_data = scrape_detail_page(car['detail_url'])\n",
    "    # Combine list page data (prices) with detail page data\n",
    "    combined_data = {**car, **detail_data}\n",
    "    all_cars.append(combined_data)\n",
    "    time.sleep(1)  # Avoid overwhelming the server\n",
    "\n",
    "# Define desired columns\n",
    "columns = [\n",
    "    'stock_id', 'make', 'model', 'inventory_location', 'model_code', 'year',\n",
    "    'transmission', 'color', 'drive', 'doors', 'steering', 'seats', 'engine_type',\n",
    "    'body_type', 'engine_size', 'mileage', 'fuel', 'fob_price', 'total_price'\n",
    "]\n",
    "\n",
    "# Create DataFrame and save to CSV\n",
    "df = pd.DataFrame(all_cars)\n",
    "df = df.rename(columns={'door': 'doors'})  # Rename 'door' to 'doors' if needed\n",
    "df = df.reindex(columns=columns, fill_value=\"N/A\")  # Include all columns, fill missing with \"N/A\"\n",
    "df.to_csv('car_listings7.csv', index=False)\n",
    "print(\"Scraping complete. Data saved to 'car_listings.csv'.\")"
   ]
  },
  {
   "cell_type": "code",
   "execution_count": 12,
   "metadata": {},
   "outputs": [
    {
     "name": "stdout",
     "output_type": "stream",
     "text": [
      "Scraping page: https://www.sbtjapan.com/used-cars/japan-inventory/\n",
      "Scraping complete. Data saved to 'car_listings8.csv'.\n"
     ]
    }
   ],
   "source": [
    "import requests\n",
    "from bs4 import BeautifulSoup\n",
    "import pandas as pd\n",
    "import time\n",
    "\n",
    "# Set headers to mimic a browser\n",
    "headers = {'User-Agent': 'Mozilla/5.0 (Windows NT 10.0; Win64; x64) AppleWebKit/537.36 (KHTML, like Gecko) Chrome/58.0.3029.110 Safari/537.3'}\n",
    "\n",
    "# Function to scrape a list page and find the next page URL\n",
    "def scrape_list_page(url):\n",
    "    response = requests.get(url, headers=headers)\n",
    "    if response.status_code != 200:\n",
    "        print(f\"Failed to fetch list page: {response.status_code}\")\n",
    "        return [], None\n",
    "    \n",
    "    soup = BeautifulSoup(response.text, 'html.parser')\n",
    "    listings = soup.find_all('li', class_='car_listitem')\n",
    "    car_data_list = []\n",
    "    \n",
    "    for listing in listings:\n",
    "        try:\n",
    "            # Extract Stock ID\n",
    "            stock_id = listing['id'].split('_')[-1]\n",
    "            \n",
    "            # Extract Prices\n",
    "            price_div = listing.find('div', class_='car_prices')\n",
    "            prices = price_div.find_all('p', class_='price_para') if price_div else []\n",
    "            fob_price = prices[0].text.strip().replace('USD ', '').replace(',', '') if prices else \"N/A\"\n",
    "            total_price = prices[1].text.strip().replace('USD ', '').replace(',', '') if len(prices) > 1 else \"N/A\"\n",
    "            \n",
    "            # Extract Detail URL\n",
    "            a_tag = listing.find('h2').find('a')\n",
    "            detail_url = a_tag['href']\n",
    "            if not detail_url.startswith('http'):\n",
    "                detail_url = \"https://www.sbtjapan.com\" + detail_url\n",
    "            \n",
    "            car_data_list.append({\n",
    "                'stock_id': stock_id,\n",
    "                'fob_price': fob_price,\n",
    "                'total_price': total_price,\n",
    "                'detail_url': detail_url\n",
    "            })\n",
    "        except Exception as e:\n",
    "            print(f\"Error processing listing: {e}\")\n",
    "    \n",
    "    # Find the next page URL (assuming a \"Next\" button with rel=\"next\")\n",
    "    next_page = soup.find('a', rel='next')\n",
    "    if next_page:\n",
    "        next_url = next_page['href']\n",
    "        if not next_url.startswith('http'):\n",
    "            next_url = \"https://www.sbtjapan.com\" + next_url\n",
    "    else:\n",
    "        next_url = None\n",
    "    \n",
    "    return car_data_list, next_url\n",
    "\n",
    "# Function to scrape the detail page for additional car details\n",
    "def scrape_detail_page(url):\n",
    "    response = requests.get(url, headers=headers)\n",
    "    if response.status_code != 200:\n",
    "        print(f\"Failed to fetch detail page: {response.status_code}\")\n",
    "        return {}\n",
    "    \n",
    "    soup = BeautifulSoup(response.text, 'html.parser')\n",
    "    car_data = {}\n",
    "    \n",
    "    # Extract Make and Model from <h3>\n",
    "    h3 = soup.find('h3')\n",
    "    if h3:\n",
    "        full_name = h3.text.split(\" - \")[0].strip()\n",
    "        parts = full_name.split(\" \", 1)\n",
    "        car_data['make'] = parts[0]\n",
    "        car_data['model'] = parts[1] if len(parts) > 1 else \"\"\n",
    "    \n",
    "    # Extract other fields from the table\n",
    "    table = soup.find('table', class_='tabA')\n",
    "    if table:\n",
    "        for tr in table.find_all('tr'):\n",
    "            ths = tr.find_all('th')\n",
    "            tds = tr.find_all('td')\n",
    "            for i in range(len(ths)):\n",
    "                key = ths[i].text.strip().lower().replace(' ', '_')\n",
    "                value = tds[i].text.strip() if i < len(tds) else \"N/A\"\n",
    "                car_data[key] = value\n",
    "    \n",
    "    return car_data\n",
    "\n",
    "# Main process with pagination\n",
    "base_url = \"https://www.sbtjapan.com/used-cars/japan-inventory/\"  # Replace with your actual starting URL\n",
    "current_url = base_url\n",
    "all_cars = []\n",
    "\n",
    "while current_url:\n",
    "    print(f\"Scraping page: {current_url}\")\n",
    "    car_list_data, next_url = scrape_list_page(current_url)\n",
    "    \n",
    "    for car in car_list_data:\n",
    "        detail_data = scrape_detail_page(car['detail_url'])\n",
    "        # Combine list page data (prices) with detail page data\n",
    "        combined_data = {**car, **detail_data}\n",
    "        all_cars.append(combined_data)\n",
    "        time.sleep(1)  # Delay between detail page requests\n",
    "    \n",
    "    # Move to the next page if available\n",
    "    if next_url:\n",
    "        current_url = next_url\n",
    "        time.sleep(2)  # Delay between list page requests\n",
    "    else:\n",
    "        current_url = None\n",
    "\n",
    "# Define desired columns\n",
    "columns = [\n",
    "    'stock_id', 'make', 'model', 'inventory_location', 'model_code', 'year',\n",
    "    'transmission', 'color', 'drive', 'doors', 'steering', 'seats', 'engine_type',\n",
    "    'body_type', 'engine_size', 'mileage', 'fuel', 'fob_price', 'total_price'\n",
    "]\n",
    "\n",
    "# Create DataFrame and save to CSV\n",
    "df = pd.DataFrame(all_cars)\n",
    "df = df.rename(columns={'door': 'doors'})  # Rename 'door' to 'doors' if needed\n",
    "df = df.reindex(columns=columns, fill_value=\"N/A\")  # Include all columns, fill missing with \"N/A\"\n",
    "df.to_csv('car_listings8.csv', index=False)\n",
    "print(\"Scraping complete. Data saved to 'car_listings8.csv'.\")"
   ]
  },
  {
   "cell_type": "markdown",
   "metadata": {},
   "source": [
    "<center><b>THE FINAL CODE"
   ]
  },
  {
   "cell_type": "markdown",
   "metadata": {},
   "source": [
    "The code below worked well for the scrapper after getting the errors as identified in this code.\n",
    "\n",
    "\n",
    "### Answer to Your Query\n",
    "\n",
    "You're encountering an `SSLError` with the message `[SSL: TLSV1_ALERT_INTERNAL_ERROR]` while running your web scraper on the SBT Japan website, specifically when trying to access a detail page like `/used-cars/honda/vezel/SG1147/`. The scraper works fine for the first few pages but fails with this error after a while. The traceback also mentions `MaxRetryError`, indicating that the `requests` library attempted multiple retries before giving up. Let’s break this down and provide a solution.\n",
    "\n",
    "#### Understanding the Error\n",
    "The `TLSV1_ALERT_INTERNAL_ERROR` is an SSL/TLS error that occurs during the handshake process when establishing a secure connection between your scraper and the server. This error suggests that something went wrong on the server side or in the communication protocol, causing the connection to fail. The `MaxRetryError` indicates that the `requests` library retried the request several times (its default behavior for certain errors) but still couldn’t succeed.\n",
    "\n",
    "Since your scraper successfully scraped the first few pages before hitting this error, the issue is likely not a fundamental problem with your setup but rather something triggered by specific conditions, such as:\n",
    "- **Server-Side Restrictions**: The website may be blocking your requests due to rate limiting or anti-scraping measures after detecting repeated access from the same IP or pattern.\n",
    "- **Intermittent Server Issues**: The server might be experiencing temporary problems specific to certain pages or requests.\n",
    "- **Connection Overload**: Too many rapid requests might overwhelm the server or your network, leading to SSL failures.\n",
    "\n",
    "#### Steps to Resolve the Issue\n",
    "To make your scraper more robust and bypass this error, you can implement several strategies. Below is a step-by-step solution with code adjustments.\n",
    "\n",
    "---\n",
    "\n",
    "### Solution\n",
    "\n",
    "#### 1. Increase Delays Between Requests\n",
    "Rapid requests can trigger server-side protections. Adding delays reduces the request rate and makes your scraper appear more like a human user.\n",
    "\n",
    "- **Action**: Increase the delay to 5 seconds between detail page requests and 10 seconds between list page requests.\n",
    "\n",
    "#### 2. Add Retry Logic for Failed Requests\n",
    "Since the error might be intermittent, retrying failed requests can help recover from temporary issues.\n",
    "\n",
    "- **Action**: Implement a retry mechanism in the `scrape_detail_page` function to attempt the request up to 3 times before giving up, with a delay between retries.\n",
    "\n",
    "#### 3. Handle Exceptions Gracefully\n",
    "If a detail page fails, the scraper should log the error and move on to the next car instead of crashing.\n",
    "\n",
    "- **Action**: Wrap the detail page scraping in a `try-except` block to catch exceptions and continue scraping.\n",
    "\n",
    "#### 4. Use a Session with Custom Retry Settings\n",
    "The `requests` library’s default retry behavior might not handle SSL errors optimally. Using a session with a custom retry adapter can improve resilience.\n",
    "\n",
    "- **Action**: Set up a `requests.Session` with a retry adapter for better control over retries.\n",
    "\n",
    "---\n",
    "\n",
    "### Updated Code\n",
    "Here’s the modified version of your scraper incorporating these fixes:\n",
    "\n",
    "```python\n",
    "import requests\n",
    "from bs4 import BeautifulSoup\n",
    "import pandas as pd\n",
    "import time\n",
    "from requests.adapters import HTTPAdapter\n",
    "from urllib3.util.retry import Retry\n",
    "\n",
    "# Set up a session with retry logic\n",
    "session = requests.Session()\n",
    "retry = Retry(total=5, backoff_factor=1, status_forcelist=[502, 503, 504])\n",
    "adapter = HTTPAdapter(max_retries=retry)\n",
    "session.mount('http://', adapter)\n",
    "session.mount('https://', adapter)\n",
    "\n",
    "# Headers to mimic a browser\n",
    "headers = {\n",
    "    'User-Agent': 'Mozilla/5.0 (Windows NT 10.0; Win64; x64) AppleWebKit/537.36 (KHTML, like Gecko) Chrome/91.0.4472.124 Safari/537.36'\n",
    "}\n",
    "\n",
    "# Function to scrape a list page\n",
    "def scrape_list_page(url):\n",
    "    try:\n",
    "        response = session.get(url, headers=headers, timeout=10)\n",
    "        if response.status_code != 200:\n",
    "            print(f\"Failed to fetch list page: {response.status_code}\")\n",
    "            return [], None\n",
    "    except (requests.exceptions.SSLError, requests.exceptions.ConnectionError) as e:\n",
    "        print(f\"Connection error while fetching list page: {e}\")\n",
    "        return [], None\n",
    "    \n",
    "    soup = BeautifulSoup(response.text, 'html.parser')\n",
    "    listings = soup.find_all('li', class_='car_listitem')\n",
    "    car_data_list = []\n",
    "    \n",
    "    for listing in listings:\n",
    "        try:\n",
    "            stock_id = listing['id'].split('_')[-1]\n",
    "            price_div = listing.find('div', class_='car_prices')\n",
    "            prices = price_div.find_all('p', class_='price_para') if price_div else []\n",
    "            fob_price = prices[0].text.strip().replace('USD ', '').replace(',', '') if prices else \"N/A\"\n",
    "            total_price = prices[1].text.strip().replace('USD ', '').replace(',', '') if len(prices) > 1 else \"N/A\"\n",
    "            a_tag = listing.find('h2').find('a')\n",
    "            detail_url = a_tag['href']\n",
    "            if not detail_url.startswith('http'):\n",
    "                detail_url = \"https://www.sbtjapan.com\" + detail_url\n",
    "            car_data_list.append({\n",
    "                'stock_id': stock_id,\n",
    "                'fob_price': fob_price,\n",
    "                'total_price': total_price,\n",
    "                'detail_url': detail_url\n",
    "            })\n",
    "        except Exception as e:\n",
    "            print(f\"Error processing listing: {e}\")\n",
    "    \n",
    "    next_page_li = soup.find('li', class_='page_next')\n",
    "    next_url = None\n",
    "    if next_page_li:\n",
    "        next_link = next_page_li.find('a')\n",
    "        if next_link and 'href' in next_link.attrs:\n",
    "            next_url = next_link['href']\n",
    "            if not next_url.startswith('http'):\n",
    "                next_url = \"https://www.sbtjapan.com\" + next_url\n",
    "    return car_data_list, next_url\n",
    "\n",
    "# Function to scrape a detail page with retries\n",
    "def scrape_detail_page(url, retries=3):\n",
    "    for attempt in range(retries):\n",
    "        try:\n",
    "            response = session.get(url, headers=headers, timeout=10)\n",
    "            if response.status_code == 200:\n",
    "                soup = BeautifulSoup(response.text, 'html.parser')\n",
    "                car_data = {}\n",
    "                h3 = soup.find('h3')\n",
    "                if h3:\n",
    "                    full_name = h3.text.split(\" - \")[0].strip()\n",
    "                    parts = full_name.split(\" \", 1)\n",
    "                    car_data['make'] = parts[0]\n",
    "                    car_data['model'] = parts[1] if len(parts) > 1 else \"\"\n",
    "                table = soup.find('table', class_='tabA')\n",
    "                if table:\n",
    "                    for tr in table.find_all('tr'):\n",
    "                        ths = tr.find_all('th')\n",
    "                        tds = tr.find_all('td')\n",
    "                        for i in range(len(ths)):\n",
    "                            key = ths[i].text.strip().lower().replace(' ', '_')\n",
    "                            value = tds[i].text.strip() if i < len(tds) else \"N/A\"\n",
    "                            car_data[key] = value\n",
    "                return car_data\n",
    "            else:\n",
    "                print(f\"Failed to fetch detail page: {response.status_code}\")\n",
    "        except (requests.exceptions.SSLError, requests.exceptions.ConnectionError) as e:\n",
    "            print(f\"Connection error on attempt {attempt + 1}: {e}\")\n",
    "            time.sleep(5)  # Wait before retrying\n",
    "    print(f\"Failed to fetch {url} after {retries} attempts.\")\n",
    "    return {}\n",
    "\n",
    "# Main scraping process\n",
    "base_url = \"https://www.sbtjapan.com/used-cars/?custom_search=japan_inventory&location=japan\"\n",
    "current_url = base_url\n",
    "all_cars = []\n",
    "page_count = 0\n",
    "\n",
    "while current_url:\n",
    "    print(f\"Scraping page {page_count + 1}: {current_url}\")\n",
    "    car_list_data, next_url = scrape_list_page(current_url)\n",
    "    page_count += 1\n",
    "    \n",
    "    for car in car_list_data:\n",
    "        try:\n",
    "            detail_data = scrape_detail_page(car['detail_url'])\n",
    "            combined_data = {**car, **detail_data}\n",
    "            all_cars.append(combined_data)\n",
    "        except Exception as e:\n",
    "            print(f\"Failed to scrape detail page for {car['stock_id']}: {e}\")\n",
    "            continue\n",
    "        time.sleep(5)  # Delay between detail page requests\n",
    "    \n",
    "    if next_url and next_url != current_url:\n",
    "        current_url = next_url\n",
    "        time.sleep(10)  # Delay between list page requests\n",
    "    else:\n",
    "        print(f\"Stopping after page {page_count}. No more pages to scrape.\")\n",
    "        current_url = None\n",
    "\n",
    "# Define desired columns\n",
    "columns = [\n",
    "    'stock_id', 'make', 'model', 'inventory_location', 'model_code', 'year',\n",
    "    'transmission', 'color', 'drive', 'doors', 'steering', 'seats', 'engine_type',\n",
    "    'body_type', 'engine_size', 'mileage', 'fuel', 'fob_price', 'total_price'\n",
    "]\n",
    "\n",
    "# Save to CSV\n",
    "df = pd.DataFrame(all_cars)\n",
    "df = df.rename(columns={'door': 'doors'})\n",
    "df = df.reindex(columns=columns, fill_value=\"N/A\")\n",
    "df.to_csv('car_listings.csv', index=False)\n",
    "print(f\"Scraping complete. Processed {page_count} pages. Data saved to 'car_listings.csv'.\")\n",
    "```\n",
    "\n",
    "---\n",
    "\n",
    "### Explanation of Changes\n",
    "- **Session with Retry Adapter**: The `session` object retries up to 5 times for certain HTTP status codes (e.g., 502, 503, 504) with an exponential backoff, improving resilience to transient issues.\n",
    "- **Timeouts**: Added a 10-second timeout to `session.get()` calls to prevent hanging on slow responses.\n",
    "- **Retry Logic in `scrape_detail_page`**: Attempts each detail page request up to 3 times, catching `SSLError` and `ConnectionError`, with a 5-second delay between retries.\n",
    "- **Exception Handling**: The main loop catches any exceptions during detail page scraping, logs the error, and continues with the next car.\n",
    "- **Delays**: 5 seconds between detail pages and 10 seconds between list pages to reduce server load and avoid triggering anti-scraping measures.\n",
    "\n",
    "---\n",
    "\n",
    "### Additional Tips\n",
    "If the error persists after applying these changes, consider the following:\n",
    "- **Rotate User Agents**: Install `fake-useragent` (`pip install fake-useragent`) and modify the headers:\n",
    "  ```python\n",
    "  from fake_useragent import UserAgent\n",
    "  ua = UserAgent()\n",
    "  headers = {'User-Agent': ua.random}\n",
    "  ```\n",
    "  Update the `headers` for each request to mimic different browsers.\n",
    "- **Use Proxies**: If the website is blocking your IP, use a proxy service to distribute requests across multiple IP addresses.\n",
    "- **Check Internet Stability**: Ensure your network connection is stable, as interruptions can cause SSL errors.\n",
    "- **Test Specific URLs**: Manually visit the problematic URL (e.g., `https://www.sbtjapan.com/used-cars/honda/vezel/SG1147/`) in a browser to see if it loads correctly or requires a captcha/login.\n",
    "\n",
    "---\n",
    "\n",
    "### Expected Outcome\n",
    "With these modifications, your scraper should:\n",
    "- Handle the `TLSV1_ALERT_INTERNAL_ERROR` by retrying failed requests.\n",
    "- Continue scraping even if some detail pages fail.\n",
    "- Process more pages without crashing, saving the data to `car_listings.csv`.\n",
    "\n",
    "Try running this updated code and let me know if you encounter further issues!"
   ]
  },
  {
   "cell_type": "code",
   "execution_count": 14,
   "metadata": {},
   "outputs": [
    {
     "name": "stderr",
     "output_type": "stream",
     "text": [
      "Scraping Progress:   0%|          | 0/385 [00:00<?, ?it/s]"
     ]
    },
    {
     "name": "stdout",
     "output_type": "stream",
     "text": [
      "\n",
      "Scraping page 1: https://www.sbtjapan.com/used-cars/?custom_search=japan_inventory&location=japan\n"
     ]
    },
    {
     "name": "stderr",
     "output_type": "stream",
     "text": [
      "Page 1/385 - Total cars: 0:   0%|          | 1/385 [00:06<44:03,  6.88s/it]"
     ]
    },
    {
     "name": "stdout",
     "output_type": "stream",
     "text": [
      "Processed 25 cars from page 1\n",
      "Saved checkpoint with 25 total car records\n",
      "\n",
      "Scraping page 2: https://www.sbtjapan.com/used-cars/?custom_search=japan_inventory&location=japan&p_num=2#listbox\n"
     ]
    },
    {
     "name": "stderr",
     "output_type": "stream",
     "text": [
      "Page 2/385 - Total cars: 25:   1%|          | 2/385 [03:08<11:39:42, 109.61s/it]"
     ]
    },
    {
     "name": "stdout",
     "output_type": "stream",
     "text": [
      "Processed 25 cars from page 2\n",
      "Saved checkpoint with 50 total car records\n",
      "\n",
      "Scraping page 3: https://www.sbtjapan.com/used-cars/?custom_search=japan_inventory&location=japan&p_num=3#listbox\n"
     ]
    },
    {
     "name": "stderr",
     "output_type": "stream",
     "text": [
      "Page 3/385 - Total cars: 50:   1%|          | 3/385 [06:11<15:10:36, 143.03s/it]"
     ]
    },
    {
     "name": "stdout",
     "output_type": "stream",
     "text": [
      "Processed 25 cars from page 3\n",
      "Saved checkpoint with 75 total car records\n",
      "\n",
      "Scraping page 4: https://www.sbtjapan.com/used-cars/?custom_search=japan_inventory&location=japan&p_num=4#listbox\n"
     ]
    },
    {
     "name": "stderr",
     "output_type": "stream",
     "text": [
      "Page 4/385 - Total cars: 75:   1%|          | 4/385 [09:32<17:34:02, 165.99s/it]"
     ]
    },
    {
     "name": "stdout",
     "output_type": "stream",
     "text": [
      "Failed to scrape detail page for XR2518: HTTPSConnectionPool(host='www.sbtjapan.com', port=443): Max retries exceeded with url: /used-cars/toyota/corolla-sport/XR2518/ (Caused by ResponseError('too many 503 error responses'))\n",
      "Processed 24 cars from page 4\n",
      "Saved checkpoint with 99 total car records\n",
      "\n",
      "Scraping page 5: https://www.sbtjapan.com/used-cars/?custom_search=japan_inventory&location=japan&p_num=5#listbox\n"
     ]
    },
    {
     "name": "stderr",
     "output_type": "stream",
     "text": [
      "Page 5/385 - Total cars: 99:   1%|▏         | 5/385 [14:27<22:25:18, 212.42s/it]"
     ]
    },
    {
     "name": "stdout",
     "output_type": "stream",
     "text": [
      "Processed 25 cars from page 5\n",
      "Saved checkpoint with 124 total car records\n",
      "\n",
      "Scraping page 6: https://www.sbtjapan.com/used-cars/?custom_search=japan_inventory&location=japan&p_num=6#listbox\n"
     ]
    },
    {
     "name": "stderr",
     "output_type": "stream",
     "text": [
      "Page 6/385 - Total cars: 124:   2%|▏         | 6/385 [17:32<21:23:57, 203.27s/it]"
     ]
    },
    {
     "name": "stdout",
     "output_type": "stream",
     "text": [
      "Processed 25 cars from page 6\n",
      "Saved checkpoint with 149 total car records\n",
      "\n",
      "Scraping page 7: https://www.sbtjapan.com/used-cars/?custom_search=japan_inventory&location=japan&p_num=7#listbox\n"
     ]
    },
    {
     "name": "stderr",
     "output_type": "stream",
     "text": [
      "Page 7/385 - Total cars: 149:   2%|▏         | 7/385 [20:32<20:32:13, 195.59s/it]"
     ]
    },
    {
     "name": "stdout",
     "output_type": "stream",
     "text": [
      "Processed 25 cars from page 7\n",
      "Saved checkpoint with 174 total car records\n",
      "\n",
      "Scraping page 8: https://www.sbtjapan.com/used-cars/?custom_search=japan_inventory&location=japan&p_num=8#listbox\n"
     ]
    },
    {
     "name": "stderr",
     "output_type": "stream",
     "text": [
      "Page 8/385 - Total cars: 174:   2%|▏         | 8/385 [23:34<20:02:27, 191.37s/it]"
     ]
    },
    {
     "name": "stdout",
     "output_type": "stream",
     "text": [
      "Processed 25 cars from page 8\n",
      "Saved checkpoint with 199 total car records\n",
      "\n",
      "Scraping page 9: https://www.sbtjapan.com/used-cars/?custom_search=japan_inventory&location=japan&p_num=9#listbox\n"
     ]
    },
    {
     "name": "stderr",
     "output_type": "stream",
     "text": [
      "Page 9/385 - Total cars: 199:   2%|▏         | 9/385 [26:30<19:29:32, 186.63s/it]"
     ]
    },
    {
     "name": "stdout",
     "output_type": "stream",
     "text": [
      "Processed 25 cars from page 9\n",
      "Saved checkpoint with 224 total car records\n",
      "\n",
      "Scraping page 10: https://www.sbtjapan.com/used-cars/?custom_search=japan_inventory&location=japan&p_num=10#listbox\n"
     ]
    },
    {
     "name": "stderr",
     "output_type": "stream",
     "text": [
      "Page 10/385 - Total cars: 224:   3%|▎         | 10/385 [29:40<19:32:48, 187.65s/it]"
     ]
    },
    {
     "name": "stdout",
     "output_type": "stream",
     "text": [
      "Processed 25 cars from page 10\n",
      "Saved checkpoint with 249 total car records\n",
      "\n",
      "Scraping page 11: https://www.sbtjapan.com/used-cars/?custom_search=japan_inventory&location=japan&p_num=11#listbox\n"
     ]
    },
    {
     "name": "stderr",
     "output_type": "stream",
     "text": [
      "Page 11/385 - Total cars: 249:   3%|▎         | 11/385 [32:43<19:20:22, 186.16s/it]"
     ]
    },
    {
     "name": "stdout",
     "output_type": "stream",
     "text": [
      "Processed 25 cars from page 11\n",
      "Saved checkpoint with 274 total car records\n",
      "\n",
      "Scraping page 12: https://www.sbtjapan.com/used-cars/?custom_search=japan_inventory&location=japan&p_num=12#listbox\n"
     ]
    },
    {
     "name": "stderr",
     "output_type": "stream",
     "text": [
      "Page 12/385 - Total cars: 274:   3%|▎         | 12/385 [35:48<19:15:18, 185.84s/it]"
     ]
    },
    {
     "name": "stdout",
     "output_type": "stream",
     "text": [
      "Processed 25 cars from page 12\n",
      "Saved checkpoint with 299 total car records\n",
      "\n",
      "Scraping page 13: https://www.sbtjapan.com/used-cars/?custom_search=japan_inventory&location=japan&p_num=13#listbox\n"
     ]
    },
    {
     "name": "stderr",
     "output_type": "stream",
     "text": [
      "Page 13/385 - Total cars: 299:   3%|▎         | 13/385 [39:39<20:37:20, 199.57s/it]"
     ]
    },
    {
     "name": "stdout",
     "output_type": "stream",
     "text": [
      "Processed 25 cars from page 13\n",
      "Saved checkpoint with 324 total car records\n",
      "\n",
      "Scraping page 14: https://www.sbtjapan.com/used-cars/?custom_search=japan_inventory&location=japan&p_num=14#listbox\n"
     ]
    },
    {
     "name": "stderr",
     "output_type": "stream",
     "text": [
      "Page 14/385 - Total cars: 324:   4%|▎         | 14/385 [42:34<19:48:00, 192.13s/it]"
     ]
    },
    {
     "name": "stdout",
     "output_type": "stream",
     "text": [
      "Processed 25 cars from page 14\n",
      "Saved checkpoint with 349 total car records\n",
      "\n",
      "Scraping page 15: https://www.sbtjapan.com/used-cars/?custom_search=japan_inventory&location=japan&p_num=15#listbox\n"
     ]
    },
    {
     "name": "stderr",
     "output_type": "stream",
     "text": [
      "Page 15/385 - Total cars: 349:   4%|▍         | 15/385 [45:35<19:22:52, 188.57s/it]"
     ]
    },
    {
     "name": "stdout",
     "output_type": "stream",
     "text": [
      "Processed 25 cars from page 15\n",
      "Saved checkpoint with 374 total car records\n",
      "\n",
      "Scraping page 16: https://www.sbtjapan.com/used-cars/?custom_search=japan_inventory&location=japan&p_num=16#listbox\n"
     ]
    },
    {
     "name": "stderr",
     "output_type": "stream",
     "text": [
      "Page 16/385 - Total cars: 374:   4%|▍         | 16/385 [48:45<19:22:40, 189.05s/it]"
     ]
    },
    {
     "name": "stdout",
     "output_type": "stream",
     "text": [
      "Processed 25 cars from page 16\n",
      "Saved checkpoint with 399 total car records\n",
      "\n",
      "Scraping page 17: https://www.sbtjapan.com/used-cars/?custom_search=japan_inventory&location=japan&p_num=17#listbox\n"
     ]
    },
    {
     "name": "stderr",
     "output_type": "stream",
     "text": [
      "Page 17/385 - Total cars: 399:   4%|▍         | 17/385 [51:39<18:51:51, 184.54s/it]"
     ]
    },
    {
     "name": "stdout",
     "output_type": "stream",
     "text": [
      "Processed 25 cars from page 17\n",
      "Saved checkpoint with 424 total car records\n",
      "\n",
      "Scraping page 18: https://www.sbtjapan.com/used-cars/?custom_search=japan_inventory&location=japan&p_num=18#listbox\n"
     ]
    },
    {
     "name": "stderr",
     "output_type": "stream",
     "text": [
      "Page 18/385 - Total cars: 424:   5%|▍         | 18/385 [54:35<18:32:43, 181.92s/it]"
     ]
    },
    {
     "name": "stdout",
     "output_type": "stream",
     "text": [
      "Processed 25 cars from page 18\n",
      "Saved checkpoint with 449 total car records\n",
      "\n",
      "Scraping page 19: https://www.sbtjapan.com/used-cars/?custom_search=japan_inventory&location=japan&p_num=19#listbox\n"
     ]
    },
    {
     "name": "stderr",
     "output_type": "stream",
     "text": [
      "Page 19/385 - Total cars: 449:   5%|▍         | 19/385 [57:32<18:21:16, 180.54s/it]"
     ]
    },
    {
     "name": "stdout",
     "output_type": "stream",
     "text": [
      "Processed 25 cars from page 19\n",
      "Saved checkpoint with 474 total car records\n",
      "\n",
      "Scraping page 20: https://www.sbtjapan.com/used-cars/?custom_search=japan_inventory&location=japan&p_num=20#listbox\n"
     ]
    },
    {
     "name": "stderr",
     "output_type": "stream",
     "text": [
      "Page 20/385 - Total cars: 474:   5%|▌         | 20/385 [1:00:32<18:18:02, 180.50s/it]"
     ]
    },
    {
     "name": "stdout",
     "output_type": "stream",
     "text": [
      "Processed 25 cars from page 20\n",
      "Saved checkpoint with 499 total car records\n",
      "\n",
      "Scraping page 21: https://www.sbtjapan.com/used-cars/?custom_search=japan_inventory&location=japan&p_num=21#listbox\n"
     ]
    },
    {
     "name": "stderr",
     "output_type": "stream",
     "text": [
      "Page 21/385 - Total cars: 499:   5%|▌         | 21/385 [1:03:32<18:12:35, 180.10s/it]"
     ]
    },
    {
     "name": "stdout",
     "output_type": "stream",
     "text": [
      "Processed 25 cars from page 21\n",
      "Saved checkpoint with 524 total car records\n",
      "\n",
      "Scraping page 22: https://www.sbtjapan.com/used-cars/?custom_search=japan_inventory&location=japan&p_num=22#listbox\n"
     ]
    },
    {
     "name": "stderr",
     "output_type": "stream",
     "text": [
      "Page 22/385 - Total cars: 524:   6%|▌         | 22/385 [1:06:32<18:10:19, 180.22s/it]"
     ]
    },
    {
     "name": "stdout",
     "output_type": "stream",
     "text": [
      "Processed 25 cars from page 22\n",
      "Saved checkpoint with 549 total car records\n",
      "\n",
      "Scraping page 23: https://www.sbtjapan.com/used-cars/?custom_search=japan_inventory&location=japan&p_num=23#listbox\n"
     ]
    },
    {
     "name": "stderr",
     "output_type": "stream",
     "text": [
      "Page 23/385 - Total cars: 549:   6%|▌         | 23/385 [1:09:35<18:12:04, 181.01s/it]"
     ]
    },
    {
     "name": "stdout",
     "output_type": "stream",
     "text": [
      "Processed 25 cars from page 23\n",
      "Saved checkpoint with 574 total car records\n",
      "\n",
      "Scraping page 24: https://www.sbtjapan.com/used-cars/?custom_search=japan_inventory&location=japan&p_num=24#listbox\n"
     ]
    },
    {
     "name": "stderr",
     "output_type": "stream",
     "text": [
      "Page 24/385 - Total cars: 574:   6%|▌         | 24/385 [1:12:30<17:58:40, 179.28s/it]"
     ]
    },
    {
     "name": "stdout",
     "output_type": "stream",
     "text": [
      "Processed 25 cars from page 24\n",
      "Saved checkpoint with 599 total car records\n",
      "\n",
      "Scraping page 25: https://www.sbtjapan.com/used-cars/?custom_search=japan_inventory&location=japan&p_num=25#listbox\n"
     ]
    },
    {
     "name": "stderr",
     "output_type": "stream",
     "text": [
      "Page 25/385 - Total cars: 599:   6%|▋         | 25/385 [1:15:33<18:01:22, 180.23s/it]"
     ]
    },
    {
     "name": "stdout",
     "output_type": "stream",
     "text": [
      "Processed 25 cars from page 25\n",
      "Saved checkpoint with 624 total car records\n",
      "\n",
      "Scraping page 26: https://www.sbtjapan.com/used-cars/?custom_search=japan_inventory&location=japan&p_num=26#listbox\n"
     ]
    },
    {
     "name": "stderr",
     "output_type": "stream",
     "text": [
      "Page 26/385 - Total cars: 624:   7%|▋         | 26/385 [1:18:33<17:59:22, 180.40s/it]"
     ]
    },
    {
     "name": "stdout",
     "output_type": "stream",
     "text": [
      "Connection error on attempt 1: HTTPSConnectionPool(host='www.sbtjapan.com', port=443): Max retries exceeded with url: /used-cars/isuzu/elf-truck/YH1145/ (Caused by NameResolutionError(\"<urllib3.connection.HTTPSConnection object at 0x0000027825897C50>: Failed to resolve 'www.sbtjapan.com' ([Errno 11001] getaddrinfo failed)\"))\n",
      "Connection error on attempt 2: HTTPSConnectionPool(host='www.sbtjapan.com', port=443): Max retries exceeded with url: /used-cars/isuzu/elf-truck/YH1145/ (Caused by NameResolutionError(\"<urllib3.connection.HTTPSConnection object at 0x0000027822B24B90>: Failed to resolve 'www.sbtjapan.com' ([Errno 11001] getaddrinfo failed)\"))\n",
      "Connection error on attempt 3: HTTPSConnectionPool(host='www.sbtjapan.com', port=443): Max retries exceeded with url: /used-cars/isuzu/elf-truck/YH1145/ (Caused by NameResolutionError(\"<urllib3.connection.HTTPSConnection object at 0x0000027822B25B10>: Failed to resolve 'www.sbtjapan.com' ([Errno 11001] getaddrinfo failed)\"))\n",
      "Failed to fetch https://www.sbtjapan.com/used-cars/isuzu/elf-truck/YH1145/ after 3 attempts.\n",
      "Connection error on attempt 1: HTTPSConnectionPool(host='www.sbtjapan.com', port=443): Max retries exceeded with url: /used-cars/toyota/c-hr/NP8587/ (Caused by NameResolutionError(\"<urllib3.connection.HTTPSConnection object at 0x0000027825895910>: Failed to resolve 'www.sbtjapan.com' ([Errno 11001] getaddrinfo failed)\"))\n",
      "Processed 25 cars from page 26\n",
      "Saved checkpoint with 649 total car records\n",
      "\n",
      "Scraping page 27: https://www.sbtjapan.com/used-cars/?custom_search=japan_inventory&location=japan&p_num=27#listbox\n"
     ]
    },
    {
     "name": "stderr",
     "output_type": "stream",
     "text": [
      "Page 27/385 - Total cars: 649:   7%|▋         | 27/385 [1:24:55<23:57:07, 240.86s/it]"
     ]
    },
    {
     "name": "stdout",
     "output_type": "stream",
     "text": [
      "Processed 25 cars from page 27\n",
      "Saved checkpoint with 674 total car records\n",
      "\n",
      "Scraping page 28: https://www.sbtjapan.com/used-cars/?custom_search=japan_inventory&location=japan&p_num=28#listbox\n"
     ]
    },
    {
     "name": "stderr",
     "output_type": "stream",
     "text": [
      "Page 28/385 - Total cars: 674:   7%|▋         | 28/385 [1:29:09<24:16:41, 244.82s/it]"
     ]
    },
    {
     "name": "stdout",
     "output_type": "stream",
     "text": [
      "Processed 25 cars from page 28\n",
      "Saved checkpoint with 699 total car records\n",
      "\n",
      "Scraping page 29: https://www.sbtjapan.com/used-cars/?custom_search=japan_inventory&location=japan&p_num=29#listbox\n"
     ]
    },
    {
     "name": "stderr",
     "output_type": "stream",
     "text": [
      "Page 29/385 - Total cars: 699:   8%|▊         | 29/385 [1:33:24<24:29:49, 247.72s/it]"
     ]
    },
    {
     "name": "stdout",
     "output_type": "stream",
     "text": [
      "Processed 25 cars from page 29\n",
      "Saved checkpoint with 724 total car records\n",
      "\n",
      "Scraping page 30: https://www.sbtjapan.com/used-cars/?custom_search=japan_inventory&location=japan&p_num=30#listbox\n"
     ]
    },
    {
     "name": "stderr",
     "output_type": "stream",
     "text": [
      "Page 30/385 - Total cars: 724:   8%|▊         | 30/385 [1:36:39<22:51:47, 231.85s/it]"
     ]
    },
    {
     "name": "stdout",
     "output_type": "stream",
     "text": [
      "Processed 25 cars from page 30\n",
      "Saved checkpoint with 749 total car records\n",
      "\n",
      "Scraping page 31: https://www.sbtjapan.com/used-cars/?custom_search=japan_inventory&location=japan&p_num=31#listbox\n"
     ]
    },
    {
     "name": "stderr",
     "output_type": "stream",
     "text": [
      "Page 31/385 - Total cars: 749:   8%|▊         | 31/385 [1:40:11<22:13:04, 225.94s/it]"
     ]
    },
    {
     "name": "stdout",
     "output_type": "stream",
     "text": [
      "Processed 25 cars from page 31\n",
      "Saved checkpoint with 774 total car records\n",
      "\n",
      "Scraping page 32: https://www.sbtjapan.com/used-cars/?custom_search=japan_inventory&location=japan&p_num=32#listbox\n"
     ]
    },
    {
     "name": "stderr",
     "output_type": "stream",
     "text": [
      "Page 32/385 - Total cars: 774:   8%|▊         | 32/385 [1:43:19<21:02:23, 214.57s/it]"
     ]
    },
    {
     "name": "stdout",
     "output_type": "stream",
     "text": [
      "Processed 25 cars from page 32\n",
      "Saved checkpoint with 799 total car records\n",
      "\n",
      "Scraping page 33: https://www.sbtjapan.com/used-cars/?custom_search=japan_inventory&location=japan&p_num=33#listbox\n"
     ]
    },
    {
     "name": "stderr",
     "output_type": "stream",
     "text": [
      "Page 33/385 - Total cars: 799:   9%|▊         | 33/385 [1:46:23<20:04:32, 205.32s/it]"
     ]
    },
    {
     "name": "stdout",
     "output_type": "stream",
     "text": [
      "Processed 25 cars from page 33\n",
      "Saved checkpoint with 824 total car records\n",
      "\n",
      "Scraping page 34: https://www.sbtjapan.com/used-cars/?custom_search=japan_inventory&location=japan&p_num=34#listbox\n"
     ]
    },
    {
     "name": "stderr",
     "output_type": "stream",
     "text": [
      "Page 34/385 - Total cars: 824:   9%|▉         | 34/385 [1:49:36<19:39:27, 201.62s/it]"
     ]
    },
    {
     "name": "stdout",
     "output_type": "stream",
     "text": [
      "Processed 25 cars from page 34\n",
      "Saved checkpoint with 849 total car records\n",
      "\n",
      "Scraping page 35: https://www.sbtjapan.com/used-cars/?custom_search=japan_inventory&location=japan&p_num=35#listbox\n"
     ]
    },
    {
     "name": "stderr",
     "output_type": "stream",
     "text": [
      "Page 35/385 - Total cars: 849:   9%|▉         | 35/385 [1:52:43<19:11:22, 197.38s/it]"
     ]
    },
    {
     "name": "stdout",
     "output_type": "stream",
     "text": [
      "Processed 25 cars from page 35\n",
      "Saved checkpoint with 874 total car records\n",
      "\n",
      "Scraping page 36: https://www.sbtjapan.com/used-cars/?custom_search=japan_inventory&location=japan&p_num=36#listbox\n"
     ]
    },
    {
     "name": "stderr",
     "output_type": "stream",
     "text": [
      "Page 36/385 - Total cars: 874:   9%|▉         | 36/385 [1:55:46<18:43:14, 193.11s/it]"
     ]
    },
    {
     "name": "stdout",
     "output_type": "stream",
     "text": [
      "Processed 25 cars from page 36\n",
      "Saved checkpoint with 899 total car records\n",
      "\n",
      "Scraping page 37: https://www.sbtjapan.com/used-cars/?custom_search=japan_inventory&location=japan&p_num=37#listbox\n"
     ]
    },
    {
     "name": "stderr",
     "output_type": "stream",
     "text": [
      "Page 37/385 - Total cars: 899:  10%|▉         | 37/385 [1:58:50<18:24:04, 190.36s/it]"
     ]
    },
    {
     "name": "stdout",
     "output_type": "stream",
     "text": [
      "Processed 25 cars from page 37\n",
      "Saved checkpoint with 924 total car records\n",
      "\n",
      "Scraping page 38: https://www.sbtjapan.com/used-cars/?custom_search=japan_inventory&location=japan&p_num=38#listbox\n"
     ]
    },
    {
     "name": "stderr",
     "output_type": "stream",
     "text": [
      "Page 38/385 - Total cars: 924:  10%|▉         | 38/385 [2:01:51<18:05:00, 187.61s/it]"
     ]
    },
    {
     "name": "stdout",
     "output_type": "stream",
     "text": [
      "Processed 25 cars from page 38\n",
      "Saved checkpoint with 949 total car records\n",
      "\n",
      "Scraping page 39: https://www.sbtjapan.com/used-cars/?custom_search=japan_inventory&location=japan&p_num=39#listbox\n"
     ]
    },
    {
     "name": "stderr",
     "output_type": "stream",
     "text": [
      "Page 39/385 - Total cars: 949:  10%|█         | 39/385 [2:04:52<17:49:06, 185.40s/it]"
     ]
    },
    {
     "name": "stdout",
     "output_type": "stream",
     "text": [
      "Processed 25 cars from page 39\n",
      "Saved checkpoint with 974 total car records\n",
      "\n",
      "Scraping page 40: https://www.sbtjapan.com/used-cars/?custom_search=japan_inventory&location=japan&p_num=40#listbox\n"
     ]
    },
    {
     "name": "stderr",
     "output_type": "stream",
     "text": [
      "Page 40/385 - Total cars: 974:  10%|█         | 40/385 [2:08:02<17:55:21, 187.02s/it]"
     ]
    },
    {
     "name": "stdout",
     "output_type": "stream",
     "text": [
      "Processed 25 cars from page 40\n",
      "Saved checkpoint with 999 total car records\n",
      "\n",
      "Scraping page 41: https://www.sbtjapan.com/used-cars/?custom_search=japan_inventory&location=japan&p_num=41#listbox\n"
     ]
    },
    {
     "name": "stderr",
     "output_type": "stream",
     "text": [
      "Page 41/385 - Total cars: 999:  11%|█         | 41/385 [2:11:02<17:38:43, 184.66s/it]"
     ]
    },
    {
     "name": "stdout",
     "output_type": "stream",
     "text": [
      "Processed 25 cars from page 41\n",
      "Saved checkpoint with 1024 total car records\n",
      "\n",
      "Scraping page 42: https://www.sbtjapan.com/used-cars/?custom_search=japan_inventory&location=japan&p_num=42#listbox\n"
     ]
    },
    {
     "name": "stderr",
     "output_type": "stream",
     "text": [
      "Page 42/385 - Total cars: 1024:  11%|█         | 42/385 [2:14:05<17:33:16, 184.25s/it]"
     ]
    },
    {
     "name": "stdout",
     "output_type": "stream",
     "text": [
      "Processed 25 cars from page 42\n",
      "Saved checkpoint with 1049 total car records\n",
      "\n",
      "Scraping page 43: https://www.sbtjapan.com/used-cars/?custom_search=japan_inventory&location=japan&p_num=43#listbox\n"
     ]
    },
    {
     "name": "stderr",
     "output_type": "stream",
     "text": [
      "Page 43/385 - Total cars: 1049:  11%|█         | 43/385 [2:17:05<17:22:15, 182.85s/it]"
     ]
    },
    {
     "name": "stdout",
     "output_type": "stream",
     "text": [
      "Processed 25 cars from page 43\n",
      "Saved checkpoint with 1074 total car records\n",
      "\n",
      "Scraping page 44: https://www.sbtjapan.com/used-cars/?custom_search=japan_inventory&location=japan&p_num=44#listbox\n"
     ]
    },
    {
     "name": "stderr",
     "output_type": "stream",
     "text": [
      "Page 44/385 - Total cars: 1074:  11%|█▏        | 44/385 [2:20:03<17:11:22, 181.47s/it]"
     ]
    },
    {
     "name": "stdout",
     "output_type": "stream",
     "text": [
      "Processed 25 cars from page 44\n",
      "Saved checkpoint with 1099 total car records\n",
      "\n",
      "Scraping page 45: https://www.sbtjapan.com/used-cars/?custom_search=japan_inventory&location=japan&p_num=45#listbox\n"
     ]
    },
    {
     "name": "stderr",
     "output_type": "stream",
     "text": [
      "Page 45/385 - Total cars: 1099:  12%|█▏        | 45/385 [2:22:59<16:59:15, 179.87s/it]"
     ]
    },
    {
     "name": "stdout",
     "output_type": "stream",
     "text": [
      "Processed 25 cars from page 45\n",
      "Saved checkpoint with 1124 total car records\n",
      "\n",
      "Scraping page 46: https://www.sbtjapan.com/used-cars/?custom_search=japan_inventory&location=japan&p_num=46#listbox\n"
     ]
    },
    {
     "name": "stderr",
     "output_type": "stream",
     "text": [
      "Page 46/385 - Total cars: 1124:  12%|█▏        | 46/385 [2:26:06<17:08:22, 182.01s/it]"
     ]
    },
    {
     "name": "stdout",
     "output_type": "stream",
     "text": [
      "Processed 25 cars from page 46\n",
      "Saved checkpoint with 1149 total car records\n",
      "\n",
      "Scraping page 47: https://www.sbtjapan.com/used-cars/?custom_search=japan_inventory&location=japan&p_num=47#listbox\n"
     ]
    },
    {
     "name": "stderr",
     "output_type": "stream",
     "text": [
      "Page 47/385 - Total cars: 1149:  12%|█▏        | 47/385 [2:29:15<17:16:27, 183.99s/it]"
     ]
    },
    {
     "name": "stdout",
     "output_type": "stream",
     "text": [
      "Processed 25 cars from page 47\n",
      "Saved checkpoint with 1174 total car records\n",
      "\n",
      "Scraping page 48: https://www.sbtjapan.com/used-cars/?custom_search=japan_inventory&location=japan&p_num=48#listbox\n"
     ]
    },
    {
     "name": "stderr",
     "output_type": "stream",
     "text": [
      "Page 48/385 - Total cars: 1174:  12%|█▏        | 48/385 [2:32:24<17:23:25, 185.77s/it]"
     ]
    },
    {
     "name": "stdout",
     "output_type": "stream",
     "text": [
      "Processed 25 cars from page 48\n",
      "Saved checkpoint with 1199 total car records\n",
      "\n",
      "Scraping page 49: https://www.sbtjapan.com/used-cars/?custom_search=japan_inventory&location=japan&p_num=49#listbox\n"
     ]
    },
    {
     "name": "stderr",
     "output_type": "stream",
     "text": [
      "Page 49/385 - Total cars: 1199:  13%|█▎        | 49/385 [2:35:26<17:12:29, 184.37s/it]"
     ]
    },
    {
     "name": "stdout",
     "output_type": "stream",
     "text": [
      "Processed 25 cars from page 49\n",
      "Saved checkpoint with 1224 total car records\n",
      "\n",
      "Scraping page 50: https://www.sbtjapan.com/used-cars/?custom_search=japan_inventory&location=japan&p_num=50#listbox\n"
     ]
    },
    {
     "name": "stderr",
     "output_type": "stream",
     "text": [
      "Page 50/385 - Total cars: 1224:  13%|█▎        | 50/385 [2:38:19<16:51:47, 181.22s/it]"
     ]
    },
    {
     "name": "stdout",
     "output_type": "stream",
     "text": [
      "Processed 25 cars from page 50\n",
      "Saved checkpoint with 1249 total car records\n",
      "\n",
      "Scraping page 51: https://www.sbtjapan.com/used-cars/?custom_search=japan_inventory&location=japan&p_num=51#listbox\n"
     ]
    },
    {
     "name": "stderr",
     "output_type": "stream",
     "text": [
      "Page 51/385 - Total cars: 1249:  13%|█▎        | 51/385 [2:41:16<16:41:11, 179.85s/it]"
     ]
    },
    {
     "name": "stdout",
     "output_type": "stream",
     "text": [
      "Processed 25 cars from page 51\n",
      "Saved checkpoint with 1274 total car records\n",
      "\n",
      "Scraping page 52: https://www.sbtjapan.com/used-cars/?custom_search=japan_inventory&location=japan&p_num=52#listbox\n"
     ]
    },
    {
     "name": "stderr",
     "output_type": "stream",
     "text": [
      "Page 52/385 - Total cars: 1274:  14%|█▎        | 52/385 [2:44:18<16:42:01, 180.54s/it]"
     ]
    },
    {
     "name": "stdout",
     "output_type": "stream",
     "text": [
      "Processed 25 cars from page 52\n",
      "Saved checkpoint with 1299 total car records\n",
      "\n",
      "Scraping page 53: https://www.sbtjapan.com/used-cars/?custom_search=japan_inventory&location=japan&p_num=53#listbox\n"
     ]
    },
    {
     "name": "stderr",
     "output_type": "stream",
     "text": [
      "Page 53/385 - Total cars: 1299:  14%|█▍        | 53/385 [2:47:23<16:45:17, 181.68s/it]"
     ]
    },
    {
     "name": "stdout",
     "output_type": "stream",
     "text": [
      "Processed 25 cars from page 53\n",
      "Saved checkpoint with 1324 total car records\n",
      "\n",
      "Scraping page 54: https://www.sbtjapan.com/used-cars/?custom_search=japan_inventory&location=japan&p_num=54#listbox\n"
     ]
    },
    {
     "name": "stderr",
     "output_type": "stream",
     "text": [
      "Page 54/385 - Total cars: 1324:  14%|█▍        | 54/385 [2:50:31<16:53:30, 183.72s/it]"
     ]
    },
    {
     "name": "stdout",
     "output_type": "stream",
     "text": [
      "Processed 25 cars from page 54\n",
      "Saved checkpoint with 1349 total car records\n",
      "\n",
      "Scraping page 55: https://www.sbtjapan.com/used-cars/?custom_search=japan_inventory&location=japan&p_num=55#listbox\n"
     ]
    },
    {
     "name": "stderr",
     "output_type": "stream",
     "text": [
      "Page 55/385 - Total cars: 1349:  14%|█▍        | 55/385 [2:53:36<16:53:12, 184.22s/it]"
     ]
    },
    {
     "name": "stdout",
     "output_type": "stream",
     "text": [
      "Processed 25 cars from page 55\n",
      "Saved checkpoint with 1374 total car records\n",
      "\n",
      "Scraping page 56: https://www.sbtjapan.com/used-cars/?custom_search=japan_inventory&location=japan&p_num=56#listbox\n"
     ]
    },
    {
     "name": "stderr",
     "output_type": "stream",
     "text": [
      "Page 56/385 - Total cars: 1374:  15%|█▍        | 56/385 [2:56:31<16:35:03, 181.47s/it]"
     ]
    },
    {
     "name": "stdout",
     "output_type": "stream",
     "text": [
      "Processed 25 cars from page 56\n",
      "Saved checkpoint with 1399 total car records\n",
      "\n",
      "Scraping page 57: https://www.sbtjapan.com/used-cars/?custom_search=japan_inventory&location=japan&p_num=57#listbox\n"
     ]
    },
    {
     "name": "stderr",
     "output_type": "stream",
     "text": [
      "Page 57/385 - Total cars: 1399:  15%|█▍        | 57/385 [2:59:26<16:20:53, 179.43s/it]"
     ]
    },
    {
     "name": "stdout",
     "output_type": "stream",
     "text": [
      "Processed 25 cars from page 57\n",
      "Saved checkpoint with 1424 total car records\n",
      "\n",
      "Scraping page 58: https://www.sbtjapan.com/used-cars/?custom_search=japan_inventory&location=japan&p_num=58#listbox\n"
     ]
    },
    {
     "name": "stderr",
     "output_type": "stream",
     "text": [
      "Page 58/385 - Total cars: 1424:  15%|█▌        | 58/385 [3:02:24<16:15:35, 179.01s/it]"
     ]
    },
    {
     "name": "stdout",
     "output_type": "stream",
     "text": [
      "Processed 25 cars from page 58\n",
      "Saved checkpoint with 1449 total car records\n",
      "\n",
      "Scraping page 59: https://www.sbtjapan.com/used-cars/?custom_search=japan_inventory&location=japan&p_num=59#listbox\n"
     ]
    },
    {
     "name": "stderr",
     "output_type": "stream",
     "text": [
      "Page 59/385 - Total cars: 1449:  15%|█▌        | 59/385 [3:05:22<16:10:52, 178.69s/it]"
     ]
    },
    {
     "name": "stdout",
     "output_type": "stream",
     "text": [
      "Processed 25 cars from page 59\n",
      "Saved checkpoint with 1474 total car records\n",
      "\n",
      "Scraping page 60: https://www.sbtjapan.com/used-cars/?custom_search=japan_inventory&location=japan&p_num=60#listbox\n"
     ]
    },
    {
     "name": "stderr",
     "output_type": "stream",
     "text": [
      "Page 60/385 - Total cars: 1474:  16%|█▌        | 60/385 [3:08:15<15:58:30, 176.96s/it]"
     ]
    },
    {
     "name": "stdout",
     "output_type": "stream",
     "text": [
      "Processed 25 cars from page 60\n",
      "Saved checkpoint with 1499 total car records\n",
      "\n",
      "Scraping page 61: https://www.sbtjapan.com/used-cars/?custom_search=japan_inventory&location=japan&p_num=61#listbox\n"
     ]
    },
    {
     "name": "stderr",
     "output_type": "stream",
     "text": [
      "Page 61/385 - Total cars: 1499:  16%|█▌        | 61/385 [3:11:19<16:06:57, 179.07s/it]"
     ]
    },
    {
     "name": "stdout",
     "output_type": "stream",
     "text": [
      "Processed 25 cars from page 61\n",
      "Saved checkpoint with 1524 total car records\n",
      "\n",
      "Scraping page 62: https://www.sbtjapan.com/used-cars/?custom_search=japan_inventory&location=japan&p_num=62#listbox\n"
     ]
    },
    {
     "name": "stderr",
     "output_type": "stream",
     "text": [
      "Page 62/385 - Total cars: 1524:  16%|█▌        | 62/385 [3:14:17<16:02:05, 178.72s/it]"
     ]
    },
    {
     "name": "stdout",
     "output_type": "stream",
     "text": [
      "Processed 25 cars from page 62\n",
      "Saved checkpoint with 1549 total car records\n",
      "\n",
      "Scraping page 63: https://www.sbtjapan.com/used-cars/?custom_search=japan_inventory&location=japan&p_num=63#listbox\n"
     ]
    },
    {
     "name": "stderr",
     "output_type": "stream",
     "text": [
      "Page 63/385 - Total cars: 1549:  16%|█▋        | 63/385 [3:17:11<15:51:49, 177.36s/it]"
     ]
    },
    {
     "name": "stdout",
     "output_type": "stream",
     "text": [
      "Processed 25 cars from page 63\n",
      "Saved checkpoint with 1574 total car records\n",
      "\n",
      "Scraping page 64: https://www.sbtjapan.com/used-cars/?custom_search=japan_inventory&location=japan&p_num=64#listbox\n"
     ]
    },
    {
     "name": "stderr",
     "output_type": "stream",
     "text": [
      "Page 64/385 - Total cars: 1574:  17%|█▋        | 64/385 [3:20:09<15:48:55, 177.37s/it]"
     ]
    },
    {
     "name": "stdout",
     "output_type": "stream",
     "text": [
      "Processed 25 cars from page 64\n",
      "Saved checkpoint with 1599 total car records\n",
      "\n",
      "Scraping page 65: https://www.sbtjapan.com/used-cars/?custom_search=japan_inventory&location=japan&p_num=65#listbox\n"
     ]
    },
    {
     "name": "stderr",
     "output_type": "stream",
     "text": [
      "Page 65/385 - Total cars: 1599:  17%|█▋        | 65/385 [3:23:04<15:43:22, 176.88s/it]"
     ]
    },
    {
     "name": "stdout",
     "output_type": "stream",
     "text": [
      "Processed 25 cars from page 65\n",
      "Saved checkpoint with 1624 total car records\n",
      "\n",
      "Scraping page 66: https://www.sbtjapan.com/used-cars/?custom_search=japan_inventory&location=japan&p_num=66#listbox\n"
     ]
    },
    {
     "name": "stderr",
     "output_type": "stream",
     "text": [
      "Page 66/385 - Total cars: 1624:  17%|█▋        | 66/385 [3:26:06<15:47:49, 178.27s/it]"
     ]
    },
    {
     "name": "stdout",
     "output_type": "stream",
     "text": [
      "Processed 25 cars from page 66\n",
      "Saved checkpoint with 1649 total car records\n",
      "\n",
      "Scraping page 67: https://www.sbtjapan.com/used-cars/?custom_search=japan_inventory&location=japan&p_num=67#listbox\n"
     ]
    },
    {
     "name": "stderr",
     "output_type": "stream",
     "text": [
      "Page 67/385 - Total cars: 1649:  17%|█▋        | 67/385 [3:29:11<15:56:13, 180.42s/it]"
     ]
    },
    {
     "name": "stdout",
     "output_type": "stream",
     "text": [
      "Processed 25 cars from page 67\n",
      "Saved checkpoint with 1674 total car records\n",
      "\n",
      "Scraping page 68: https://www.sbtjapan.com/used-cars/?custom_search=japan_inventory&location=japan&p_num=68#listbox\n"
     ]
    },
    {
     "name": "stderr",
     "output_type": "stream",
     "text": [
      "Page 68/385 - Total cars: 1674:  18%|█▊        | 68/385 [3:32:44<16:44:56, 190.21s/it]"
     ]
    },
    {
     "name": "stdout",
     "output_type": "stream",
     "text": [
      "Processed 25 cars from page 68\n",
      "Saved checkpoint with 1699 total car records\n",
      "\n",
      "Scraping page 69: https://www.sbtjapan.com/used-cars/?custom_search=japan_inventory&location=japan&p_num=69#listbox\n"
     ]
    },
    {
     "name": "stderr",
     "output_type": "stream",
     "text": [
      "Page 69/385 - Total cars: 1699:  18%|█▊        | 69/385 [3:36:01<16:51:30, 192.06s/it]"
     ]
    },
    {
     "name": "stdout",
     "output_type": "stream",
     "text": [
      "Processed 25 cars from page 69\n",
      "Saved checkpoint with 1724 total car records\n",
      "\n",
      "Scraping page 70: https://www.sbtjapan.com/used-cars/?custom_search=japan_inventory&location=japan&p_num=70#listbox\n"
     ]
    },
    {
     "name": "stderr",
     "output_type": "stream",
     "text": [
      "Page 70/385 - Total cars: 1724:  18%|█▊        | 70/385 [3:39:14<16:50:22, 192.45s/it]"
     ]
    },
    {
     "name": "stdout",
     "output_type": "stream",
     "text": [
      "Processed 25 cars from page 70\n",
      "Saved checkpoint with 1749 total car records\n",
      "\n",
      "Scraping page 71: https://www.sbtjapan.com/used-cars/?custom_search=japan_inventory&location=japan&p_num=71#listbox\n"
     ]
    },
    {
     "name": "stderr",
     "output_type": "stream",
     "text": [
      "Page 71/385 - Total cars: 1749:  18%|█▊        | 71/385 [3:42:20<16:36:36, 190.43s/it]"
     ]
    },
    {
     "name": "stdout",
     "output_type": "stream",
     "text": [
      "Processed 25 cars from page 71\n",
      "Saved checkpoint with 1774 total car records\n",
      "\n",
      "Scraping page 72: https://www.sbtjapan.com/used-cars/?custom_search=japan_inventory&location=japan&p_num=72#listbox\n"
     ]
    },
    {
     "name": "stderr",
     "output_type": "stream",
     "text": [
      "Page 72/385 - Total cars: 1774:  19%|█▊        | 72/385 [3:47:17<19:20:17, 222.42s/it]"
     ]
    },
    {
     "name": "stdout",
     "output_type": "stream",
     "text": [
      "Processed 25 cars from page 72\n",
      "Saved checkpoint with 1799 total car records\n",
      "\n",
      "Scraping page 73: https://www.sbtjapan.com/used-cars/?custom_search=japan_inventory&location=japan&p_num=73#listbox\n"
     ]
    },
    {
     "name": "stderr",
     "output_type": "stream",
     "text": [
      "Page 73/385 - Total cars: 1799:  19%|█▉        | 73/385 [3:50:36<18:41:08, 215.60s/it]"
     ]
    },
    {
     "name": "stdout",
     "output_type": "stream",
     "text": [
      "Processed 25 cars from page 73\n",
      "Saved checkpoint with 1824 total car records\n",
      "\n",
      "Scraping page 74: https://www.sbtjapan.com/used-cars/?custom_search=japan_inventory&location=japan&p_num=74#listbox\n"
     ]
    },
    {
     "name": "stderr",
     "output_type": "stream",
     "text": [
      "Page 74/385 - Total cars: 1824:  19%|█▉        | 74/385 [3:53:46<17:57:14, 207.83s/it]"
     ]
    },
    {
     "name": "stdout",
     "output_type": "stream",
     "text": [
      "Processed 25 cars from page 74\n",
      "Saved checkpoint with 1849 total car records\n",
      "\n",
      "Scraping page 75: https://www.sbtjapan.com/used-cars/?custom_search=japan_inventory&location=japan&p_num=75#listbox\n"
     ]
    },
    {
     "name": "stderr",
     "output_type": "stream",
     "text": [
      "Page 75/385 - Total cars: 1849:  19%|█▉        | 75/385 [3:57:14<17:53:07, 207.70s/it]"
     ]
    },
    {
     "name": "stdout",
     "output_type": "stream",
     "text": [
      "Processed 25 cars from page 75\n",
      "Saved checkpoint with 1874 total car records\n",
      "\n",
      "Scraping page 76: https://www.sbtjapan.com/used-cars/?custom_search=japan_inventory&location=japan&p_num=76#listbox\n"
     ]
    },
    {
     "name": "stderr",
     "output_type": "stream",
     "text": [
      "Page 76/385 - Total cars: 1874:  20%|█▉        | 76/385 [4:00:32<17:35:16, 204.91s/it]"
     ]
    },
    {
     "name": "stdout",
     "output_type": "stream",
     "text": [
      "Processed 25 cars from page 76\n",
      "Saved checkpoint with 1899 total car records\n",
      "\n",
      "Scraping page 77: https://www.sbtjapan.com/used-cars/?custom_search=japan_inventory&location=japan&p_num=77#listbox\n"
     ]
    },
    {
     "name": "stderr",
     "output_type": "stream",
     "text": [
      "Page 77/385 - Total cars: 1899:  20%|██        | 77/385 [4:03:54<17:27:52, 204.13s/it]"
     ]
    },
    {
     "name": "stdout",
     "output_type": "stream",
     "text": [
      "Processed 25 cars from page 77\n",
      "Saved checkpoint with 1924 total car records\n",
      "\n",
      "Scraping page 78: https://www.sbtjapan.com/used-cars/?custom_search=japan_inventory&location=japan&p_num=78#listbox\n"
     ]
    },
    {
     "name": "stderr",
     "output_type": "stream",
     "text": [
      "Page 78/385 - Total cars: 1924:  20%|██        | 78/385 [4:07:23<17:31:05, 205.43s/it]"
     ]
    },
    {
     "name": "stdout",
     "output_type": "stream",
     "text": [
      "Processed 25 cars from page 78\n",
      "Saved checkpoint with 1949 total car records\n",
      "\n",
      "Scraping page 79: https://www.sbtjapan.com/used-cars/?custom_search=japan_inventory&location=japan&p_num=79#listbox\n"
     ]
    },
    {
     "name": "stderr",
     "output_type": "stream",
     "text": [
      "Page 79/385 - Total cars: 1949:  21%|██        | 79/385 [4:10:47<17:26:38, 205.23s/it]"
     ]
    },
    {
     "name": "stdout",
     "output_type": "stream",
     "text": [
      "Processed 25 cars from page 79\n",
      "Saved checkpoint with 1974 total car records\n",
      "\n",
      "Scraping page 80: https://www.sbtjapan.com/used-cars/?custom_search=japan_inventory&location=japan&p_num=80#listbox\n"
     ]
    },
    {
     "name": "stderr",
     "output_type": "stream",
     "text": [
      "Page 80/385 - Total cars: 1974:  21%|██        | 80/385 [4:14:06<17:13:21, 203.28s/it]"
     ]
    },
    {
     "name": "stdout",
     "output_type": "stream",
     "text": [
      "Processed 25 cars from page 80\n",
      "Saved checkpoint with 1999 total car records\n",
      "\n",
      "Scraping page 81: https://www.sbtjapan.com/used-cars/?custom_search=japan_inventory&location=japan&p_num=81#listbox\n"
     ]
    },
    {
     "name": "stderr",
     "output_type": "stream",
     "text": [
      "Page 81/385 - Total cars: 1999:  21%|██        | 81/385 [4:17:14<16:45:56, 198.54s/it]"
     ]
    },
    {
     "name": "stdout",
     "output_type": "stream",
     "text": [
      "Processed 25 cars from page 81\n",
      "Saved checkpoint with 2024 total car records\n",
      "\n",
      "Scraping page 82: https://www.sbtjapan.com/used-cars/?custom_search=japan_inventory&location=japan&p_num=82#listbox\n"
     ]
    },
    {
     "name": "stderr",
     "output_type": "stream",
     "text": [
      "Page 82/385 - Total cars: 2024:  21%|██▏       | 82/385 [4:20:22<16:26:23, 195.33s/it]"
     ]
    },
    {
     "name": "stdout",
     "output_type": "stream",
     "text": [
      "Processed 25 cars from page 82\n",
      "Saved checkpoint with 2049 total car records\n",
      "\n",
      "Scraping page 83: https://www.sbtjapan.com/used-cars/?custom_search=japan_inventory&location=japan&p_num=83#listbox\n"
     ]
    },
    {
     "name": "stderr",
     "output_type": "stream",
     "text": [
      "Page 83/385 - Total cars: 2049:  22%|██▏       | 83/385 [4:23:32<16:15:45, 193.86s/it]"
     ]
    },
    {
     "name": "stdout",
     "output_type": "stream",
     "text": [
      "Processed 25 cars from page 83\n",
      "Saved checkpoint with 2074 total car records\n",
      "\n",
      "Scraping page 84: https://www.sbtjapan.com/used-cars/?custom_search=japan_inventory&location=japan&p_num=84#listbox\n"
     ]
    },
    {
     "name": "stderr",
     "output_type": "stream",
     "text": [
      "Page 84/385 - Total cars: 2074:  22%|██▏       | 84/385 [4:26:48<16:15:30, 194.45s/it]"
     ]
    },
    {
     "name": "stdout",
     "output_type": "stream",
     "text": [
      "Processed 25 cars from page 84\n",
      "Saved checkpoint with 2099 total car records\n",
      "\n",
      "Scraping page 85: https://www.sbtjapan.com/used-cars/?custom_search=japan_inventory&location=japan&p_num=85#listbox\n"
     ]
    },
    {
     "name": "stderr",
     "output_type": "stream",
     "text": [
      "Page 85/385 - Total cars: 2099:  22%|██▏       | 85/385 [4:29:55<16:01:26, 192.29s/it]"
     ]
    },
    {
     "name": "stdout",
     "output_type": "stream",
     "text": [
      "Processed 25 cars from page 85\n",
      "Saved checkpoint with 2124 total car records\n",
      "\n",
      "Scraping page 86: https://www.sbtjapan.com/used-cars/?custom_search=japan_inventory&location=japan&p_num=86#listbox\n"
     ]
    },
    {
     "name": "stderr",
     "output_type": "stream",
     "text": [
      "Page 86/385 - Total cars: 2124:  22%|██▏       | 86/385 [4:33:02<15:49:37, 190.56s/it]"
     ]
    },
    {
     "name": "stdout",
     "output_type": "stream",
     "text": [
      "Processed 25 cars from page 86\n",
      "Saved checkpoint with 2149 total car records\n",
      "\n",
      "Scraping page 87: https://www.sbtjapan.com/used-cars/?custom_search=japan_inventory&location=japan&p_num=87#listbox\n"
     ]
    },
    {
     "name": "stderr",
     "output_type": "stream",
     "text": [
      "Page 87/385 - Total cars: 2149:  23%|██▎       | 87/385 [4:36:06<15:37:10, 188.69s/it]"
     ]
    },
    {
     "name": "stdout",
     "output_type": "stream",
     "text": [
      "Processed 25 cars from page 87\n",
      "Saved checkpoint with 2174 total car records\n",
      "\n",
      "Scraping page 88: https://www.sbtjapan.com/used-cars/?custom_search=japan_inventory&location=japan&p_num=88#listbox\n"
     ]
    },
    {
     "name": "stderr",
     "output_type": "stream",
     "text": [
      "Page 88/385 - Total cars: 2174:  23%|██▎       | 88/385 [4:39:13<15:31:40, 188.22s/it]"
     ]
    },
    {
     "name": "stdout",
     "output_type": "stream",
     "text": [
      "Processed 25 cars from page 88\n",
      "Saved checkpoint with 2199 total car records\n",
      "\n",
      "Scraping page 89: https://www.sbtjapan.com/used-cars/?custom_search=japan_inventory&location=japan&p_num=89#listbox\n"
     ]
    },
    {
     "name": "stderr",
     "output_type": "stream",
     "text": [
      "Page 89/385 - Total cars: 2199:  23%|██▎       | 89/385 [4:42:16<15:20:26, 186.58s/it]"
     ]
    },
    {
     "name": "stdout",
     "output_type": "stream",
     "text": [
      "Processed 25 cars from page 89\n",
      "Saved checkpoint with 2224 total car records\n",
      "\n",
      "Scraping page 90: https://www.sbtjapan.com/used-cars/?custom_search=japan_inventory&location=japan&p_num=90#listbox\n"
     ]
    },
    {
     "name": "stderr",
     "output_type": "stream",
     "text": [
      "Page 90/385 - Total cars: 2224:  23%|██▎       | 90/385 [4:45:31<15:29:23, 189.03s/it]"
     ]
    },
    {
     "name": "stdout",
     "output_type": "stream",
     "text": [
      "Processed 25 cars from page 90\n",
      "Saved checkpoint with 2249 total car records\n",
      "\n",
      "Scraping page 91: https://www.sbtjapan.com/used-cars/?custom_search=japan_inventory&location=japan&p_num=91#listbox\n"
     ]
    },
    {
     "name": "stderr",
     "output_type": "stream",
     "text": [
      "Page 91/385 - Total cars: 2249:  24%|██▎       | 91/385 [4:49:11<16:12:04, 198.38s/it]"
     ]
    },
    {
     "name": "stdout",
     "output_type": "stream",
     "text": [
      "Processed 25 cars from page 91\n",
      "Saved checkpoint with 2274 total car records\n",
      "\n",
      "Scraping page 92: https://www.sbtjapan.com/used-cars/?custom_search=japan_inventory&location=japan&p_num=92#listbox\n"
     ]
    },
    {
     "name": "stderr",
     "output_type": "stream",
     "text": [
      "Page 92/385 - Total cars: 2274:  24%|██▍       | 92/385 [4:52:22<15:58:40, 196.31s/it]"
     ]
    },
    {
     "name": "stdout",
     "output_type": "stream",
     "text": [
      "Processed 25 cars from page 92\n",
      "Saved checkpoint with 2299 total car records\n",
      "\n",
      "Scraping page 93: https://www.sbtjapan.com/used-cars/?custom_search=japan_inventory&location=japan&p_num=93#listbox\n"
     ]
    },
    {
     "name": "stderr",
     "output_type": "stream",
     "text": [
      "Page 93/385 - Total cars: 2299:  24%|██▍       | 93/385 [4:55:34<15:48:26, 194.89s/it]"
     ]
    },
    {
     "name": "stdout",
     "output_type": "stream",
     "text": [
      "Processed 25 cars from page 93\n",
      "Saved checkpoint with 2324 total car records\n",
      "\n",
      "Scraping page 94: https://www.sbtjapan.com/used-cars/?custom_search=japan_inventory&location=japan&p_num=94#listbox\n"
     ]
    },
    {
     "name": "stderr",
     "output_type": "stream",
     "text": [
      "Page 94/385 - Total cars: 2324:  24%|██▍       | 94/385 [4:58:45<15:39:09, 193.64s/it]"
     ]
    },
    {
     "name": "stdout",
     "output_type": "stream",
     "text": [
      "Processed 25 cars from page 94\n",
      "Saved checkpoint with 2349 total car records\n",
      "\n",
      "Scraping page 95: https://www.sbtjapan.com/used-cars/?custom_search=japan_inventory&location=japan&p_num=95#listbox\n"
     ]
    },
    {
     "name": "stderr",
     "output_type": "stream",
     "text": [
      "Page 95/385 - Total cars: 2349:  25%|██▍       | 95/385 [5:01:54<15:30:15, 192.47s/it]"
     ]
    },
    {
     "name": "stdout",
     "output_type": "stream",
     "text": [
      "Processed 25 cars from page 95\n",
      "Saved checkpoint with 2374 total car records\n",
      "\n",
      "Scraping page 96: https://www.sbtjapan.com/used-cars/?custom_search=japan_inventory&location=japan&p_num=96#listbox\n"
     ]
    },
    {
     "name": "stderr",
     "output_type": "stream",
     "text": [
      "Page 96/385 - Total cars: 2374:  25%|██▍       | 96/385 [5:06:16<17:07:23, 213.30s/it]"
     ]
    },
    {
     "name": "stdout",
     "output_type": "stream",
     "text": [
      "Processed 25 cars from page 96\n",
      "Saved checkpoint with 2399 total car records\n",
      "\n",
      "Scraping page 97: https://www.sbtjapan.com/used-cars/?custom_search=japan_inventory&location=japan&p_num=97#listbox\n"
     ]
    },
    {
     "name": "stderr",
     "output_type": "stream",
     "text": [
      "Page 97/385 - Total cars: 2399:  25%|██▌       | 97/385 [5:09:49<17:03:22, 213.20s/it]"
     ]
    },
    {
     "name": "stdout",
     "output_type": "stream",
     "text": [
      "Processed 25 cars from page 97\n",
      "Saved checkpoint with 2424 total car records\n",
      "\n",
      "Scraping page 98: https://www.sbtjapan.com/used-cars/?custom_search=japan_inventory&location=japan&p_num=98#listbox\n"
     ]
    },
    {
     "name": "stderr",
     "output_type": "stream",
     "text": [
      "Page 98/385 - Total cars: 2424:  25%|██▌       | 98/385 [5:13:06<16:37:02, 208.44s/it]"
     ]
    },
    {
     "name": "stdout",
     "output_type": "stream",
     "text": [
      "Processed 25 cars from page 98\n",
      "Saved checkpoint with 2449 total car records\n",
      "\n",
      "Scraping page 99: https://www.sbtjapan.com/used-cars/?custom_search=japan_inventory&location=japan&p_num=99#listbox\n"
     ]
    },
    {
     "name": "stderr",
     "output_type": "stream",
     "text": [
      "Page 99/385 - Total cars: 2449:  26%|██▌       | 99/385 [5:16:13<16:02:32, 201.93s/it]"
     ]
    },
    {
     "name": "stdout",
     "output_type": "stream",
     "text": [
      "Processed 25 cars from page 99\n",
      "Saved checkpoint with 2474 total car records\n",
      "\n",
      "Scraping page 100: https://www.sbtjapan.com/used-cars/?custom_search=japan_inventory&location=japan&p_num=100#listbox\n"
     ]
    },
    {
     "name": "stderr",
     "output_type": "stream",
     "text": [
      "Page 100/385 - Total cars: 2474:  26%|██▌       | 100/385 [5:19:23<15:41:47, 198.27s/it]"
     ]
    },
    {
     "name": "stdout",
     "output_type": "stream",
     "text": [
      "Processed 25 cars from page 100\n",
      "Saved checkpoint with 2499 total car records\n",
      "\n",
      "Scraping page 101: https://www.sbtjapan.com/used-cars/?custom_search=japan_inventory&location=japan&p_num=101#listbox\n"
     ]
    },
    {
     "name": "stderr",
     "output_type": "stream",
     "text": [
      "Page 101/385 - Total cars: 2499:  26%|██▌       | 101/385 [5:22:42<15:40:15, 198.64s/it]"
     ]
    },
    {
     "name": "stdout",
     "output_type": "stream",
     "text": [
      "Processed 25 cars from page 101\n",
      "Saved checkpoint with 2524 total car records\n",
      "\n",
      "Scraping page 102: https://www.sbtjapan.com/used-cars/?custom_search=japan_inventory&location=japan&p_num=102#listbox\n"
     ]
    },
    {
     "name": "stderr",
     "output_type": "stream",
     "text": [
      "Page 102/385 - Total cars: 2524:  26%|██▋       | 102/385 [5:26:10<15:49:27, 201.30s/it]"
     ]
    },
    {
     "name": "stdout",
     "output_type": "stream",
     "text": [
      "Processed 25 cars from page 102\n",
      "Saved checkpoint with 2549 total car records\n",
      "\n",
      "Scraping page 103: https://www.sbtjapan.com/used-cars/?custom_search=japan_inventory&location=japan&p_num=103#listbox\n"
     ]
    },
    {
     "name": "stderr",
     "output_type": "stream",
     "text": [
      "Page 103/385 - Total cars: 2549:  27%|██▋       | 103/385 [5:29:23<15:33:48, 198.68s/it]"
     ]
    },
    {
     "name": "stdout",
     "output_type": "stream",
     "text": [
      "Processed 25 cars from page 103\n",
      "Saved checkpoint with 2574 total car records\n",
      "\n",
      "Scraping page 104: https://www.sbtjapan.com/used-cars/?custom_search=japan_inventory&location=japan&p_num=104#listbox\n"
     ]
    },
    {
     "name": "stderr",
     "output_type": "stream",
     "text": [
      "Page 104/385 - Total cars: 2574:  27%|██▋       | 104/385 [5:32:34<15:20:04, 196.46s/it]"
     ]
    },
    {
     "name": "stdout",
     "output_type": "stream",
     "text": [
      "Processed 25 cars from page 104\n",
      "Saved checkpoint with 2599 total car records\n",
      "\n",
      "Scraping page 105: https://www.sbtjapan.com/used-cars/?custom_search=japan_inventory&location=japan&p_num=105#listbox\n"
     ]
    },
    {
     "name": "stderr",
     "output_type": "stream",
     "text": [
      "Page 105/385 - Total cars: 2599:  27%|██▋       | 105/385 [5:35:30<14:48:30, 190.40s/it]"
     ]
    },
    {
     "name": "stdout",
     "output_type": "stream",
     "text": [
      "Processed 25 cars from page 105\n",
      "Saved checkpoint with 2624 total car records\n",
      "\n",
      "Scraping page 106: https://www.sbtjapan.com/used-cars/?custom_search=japan_inventory&location=japan&p_num=106#listbox\n"
     ]
    },
    {
     "name": "stderr",
     "output_type": "stream",
     "text": [
      "Page 106/385 - Total cars: 2624:  28%|██▊       | 106/385 [5:38:25<14:23:56, 185.79s/it]"
     ]
    },
    {
     "name": "stdout",
     "output_type": "stream",
     "text": [
      "Processed 25 cars from page 106\n",
      "Saved checkpoint with 2649 total car records\n",
      "\n",
      "Scraping page 107: https://www.sbtjapan.com/used-cars/?custom_search=japan_inventory&location=japan&p_num=107#listbox\n"
     ]
    },
    {
     "name": "stderr",
     "output_type": "stream",
     "text": [
      "Page 107/385 - Total cars: 2649:  28%|██▊       | 107/385 [5:41:19<14:04:36, 182.29s/it]"
     ]
    },
    {
     "name": "stdout",
     "output_type": "stream",
     "text": [
      "Processed 25 cars from page 107\n",
      "Saved checkpoint with 2674 total car records\n",
      "\n",
      "Scraping page 108: https://www.sbtjapan.com/used-cars/?custom_search=japan_inventory&location=japan&p_num=108#listbox\n"
     ]
    },
    {
     "name": "stderr",
     "output_type": "stream",
     "text": [
      "Page 108/385 - Total cars: 2674:  28%|██▊       | 108/385 [5:44:13<13:50:11, 179.82s/it]"
     ]
    },
    {
     "name": "stdout",
     "output_type": "stream",
     "text": [
      "Processed 25 cars from page 108\n",
      "Saved checkpoint with 2699 total car records\n",
      "\n",
      "Scraping page 109: https://www.sbtjapan.com/used-cars/?custom_search=japan_inventory&location=japan&p_num=109#listbox\n"
     ]
    },
    {
     "name": "stderr",
     "output_type": "stream",
     "text": [
      "Page 109/385 - Total cars: 2699:  28%|██▊       | 109/385 [5:47:24<14:02:47, 183.22s/it]"
     ]
    },
    {
     "name": "stdout",
     "output_type": "stream",
     "text": [
      "Processed 25 cars from page 109\n",
      "Saved checkpoint with 2724 total car records\n",
      "\n",
      "Scraping page 110: https://www.sbtjapan.com/used-cars/?custom_search=japan_inventory&location=japan&p_num=110#listbox\n"
     ]
    },
    {
     "name": "stderr",
     "output_type": "stream",
     "text": [
      "Page 110/385 - Total cars: 2724:  29%|██▊       | 110/385 [5:50:24<13:54:25, 182.06s/it]"
     ]
    },
    {
     "name": "stdout",
     "output_type": "stream",
     "text": [
      "Processed 25 cars from page 110\n",
      "Saved checkpoint with 2749 total car records\n",
      "\n",
      "Scraping page 111: https://www.sbtjapan.com/used-cars/?custom_search=japan_inventory&location=japan&p_num=111#listbox\n"
     ]
    },
    {
     "name": "stderr",
     "output_type": "stream",
     "text": [
      "Page 111/385 - Total cars: 2749:  29%|██▉       | 111/385 [5:53:22<13:46:41, 181.03s/it]"
     ]
    },
    {
     "name": "stdout",
     "output_type": "stream",
     "text": [
      "Processed 25 cars from page 111\n",
      "Saved checkpoint with 2774 total car records\n",
      "\n",
      "Scraping page 112: https://www.sbtjapan.com/used-cars/?custom_search=japan_inventory&location=japan&p_num=112#listbox\n"
     ]
    },
    {
     "name": "stderr",
     "output_type": "stream",
     "text": [
      "Page 112/385 - Total cars: 2774:  29%|██▉       | 112/385 [5:56:27<13:47:56, 181.97s/it]"
     ]
    },
    {
     "name": "stdout",
     "output_type": "stream",
     "text": [
      "Processed 25 cars from page 112\n",
      "Saved checkpoint with 2799 total car records\n",
      "\n",
      "Scraping page 113: https://www.sbtjapan.com/used-cars/?custom_search=japan_inventory&location=japan&p_num=113#listbox\n"
     ]
    },
    {
     "name": "stderr",
     "output_type": "stream",
     "text": [
      "Page 113/385 - Total cars: 2799:  29%|██▉       | 113/385 [5:59:27<13:42:21, 181.40s/it]"
     ]
    },
    {
     "name": "stdout",
     "output_type": "stream",
     "text": [
      "Processed 25 cars from page 113\n",
      "Saved checkpoint with 2824 total car records\n",
      "\n",
      "Scraping page 114: https://www.sbtjapan.com/used-cars/?custom_search=japan_inventory&location=japan&p_num=114#listbox\n"
     ]
    },
    {
     "name": "stderr",
     "output_type": "stream",
     "text": [
      "Page 114/385 - Total cars: 2824:  30%|██▉       | 114/385 [6:13:17<28:18:27, 376.04s/it]"
     ]
    },
    {
     "name": "stdout",
     "output_type": "stream",
     "text": [
      "Processed 25 cars from page 114\n",
      "Saved checkpoint with 2849 total car records\n",
      "\n",
      "Scraping page 115: https://www.sbtjapan.com/used-cars/?custom_search=japan_inventory&location=japan&p_num=115#listbox\n"
     ]
    },
    {
     "name": "stderr",
     "output_type": "stream",
     "text": [
      "Page 115/385 - Total cars: 2849:  30%|██▉       | 115/385 [6:16:14<23:43:43, 316.38s/it]"
     ]
    },
    {
     "name": "stdout",
     "output_type": "stream",
     "text": [
      "Processed 25 cars from page 115\n",
      "Saved checkpoint with 2874 total car records\n",
      "\n",
      "Scraping page 116: https://www.sbtjapan.com/used-cars/?custom_search=japan_inventory&location=japan&p_num=116#listbox\n"
     ]
    },
    {
     "name": "stderr",
     "output_type": "stream",
     "text": [
      "Page 116/385 - Total cars: 2874:  30%|███       | 116/385 [6:19:18<20:39:55, 276.56s/it]"
     ]
    },
    {
     "name": "stdout",
     "output_type": "stream",
     "text": [
      "Processed 25 cars from page 116\n",
      "Saved checkpoint with 2899 total car records\n",
      "\n",
      "Scraping page 117: https://www.sbtjapan.com/used-cars/?custom_search=japan_inventory&location=japan&p_num=117#listbox\n"
     ]
    },
    {
     "name": "stderr",
     "output_type": "stream",
     "text": [
      "Page 117/385 - Total cars: 2899:  30%|███       | 117/385 [6:22:09<18:13:49, 244.89s/it]"
     ]
    },
    {
     "name": "stdout",
     "output_type": "stream",
     "text": [
      "Processed 25 cars from page 117\n",
      "Saved checkpoint with 2924 total car records\n",
      "\n",
      "Scraping page 118: https://www.sbtjapan.com/used-cars/?custom_search=japan_inventory&location=japan&p_num=118#listbox\n"
     ]
    },
    {
     "name": "stderr",
     "output_type": "stream",
     "text": [
      "Page 118/385 - Total cars: 2924:  31%|███       | 118/385 [6:25:07<16:40:21, 224.80s/it]"
     ]
    },
    {
     "name": "stdout",
     "output_type": "stream",
     "text": [
      "Processed 25 cars from page 118\n",
      "Saved checkpoint with 2949 total car records\n",
      "\n",
      "Scraping page 119: https://www.sbtjapan.com/used-cars/?custom_search=japan_inventory&location=japan&p_num=119#listbox\n"
     ]
    },
    {
     "name": "stderr",
     "output_type": "stream",
     "text": [
      "Page 119/385 - Total cars: 2949:  31%|███       | 119/385 [6:27:59<15:27:25, 209.19s/it]"
     ]
    },
    {
     "name": "stdout",
     "output_type": "stream",
     "text": [
      "Processed 25 cars from page 119\n",
      "Saved checkpoint with 2974 total car records\n",
      "\n",
      "Scraping page 120: https://www.sbtjapan.com/used-cars/?custom_search=japan_inventory&location=japan&p_num=120#listbox\n"
     ]
    },
    {
     "name": "stderr",
     "output_type": "stream",
     "text": [
      "Page 120/385 - Total cars: 2974:  31%|███       | 120/385 [6:30:52<14:35:24, 198.21s/it]"
     ]
    },
    {
     "name": "stdout",
     "output_type": "stream",
     "text": [
      "Processed 25 cars from page 120\n",
      "Saved checkpoint with 2999 total car records\n",
      "\n",
      "Scraping page 121: https://www.sbtjapan.com/used-cars/?custom_search=japan_inventory&location=japan&p_num=121#listbox\n"
     ]
    },
    {
     "name": "stderr",
     "output_type": "stream",
     "text": [
      "Page 121/385 - Total cars: 2999:  31%|███▏      | 121/385 [6:33:58<14:15:55, 194.53s/it]"
     ]
    },
    {
     "name": "stdout",
     "output_type": "stream",
     "text": [
      "Processed 25 cars from page 121\n",
      "Saved checkpoint with 3024 total car records\n",
      "\n",
      "Scraping page 122: https://www.sbtjapan.com/used-cars/?custom_search=japan_inventory&location=japan&p_num=122#listbox\n"
     ]
    },
    {
     "name": "stderr",
     "output_type": "stream",
     "text": [
      "Page 122/385 - Total cars: 3024:  32%|███▏      | 122/385 [6:36:51<13:44:32, 188.11s/it]"
     ]
    },
    {
     "name": "stdout",
     "output_type": "stream",
     "text": [
      "Processed 25 cars from page 122\n",
      "Saved checkpoint with 3049 total car records\n",
      "\n",
      "Scraping page 123: https://www.sbtjapan.com/used-cars/?custom_search=japan_inventory&location=japan&p_num=123#listbox\n"
     ]
    },
    {
     "name": "stderr",
     "output_type": "stream",
     "text": [
      "Page 123/385 - Total cars: 3049:  32%|███▏      | 123/385 [6:39:51<13:30:24, 185.59s/it]"
     ]
    },
    {
     "name": "stdout",
     "output_type": "stream",
     "text": [
      "Processed 25 cars from page 123\n",
      "Saved checkpoint with 3074 total car records\n",
      "\n",
      "Scraping page 124: https://www.sbtjapan.com/used-cars/?custom_search=japan_inventory&location=japan&p_num=124#listbox\n"
     ]
    },
    {
     "name": "stderr",
     "output_type": "stream",
     "text": [
      "Page 124/385 - Total cars: 3074:  32%|███▏      | 124/385 [11:50:06<414:17:36, 5714.39s/it]"
     ]
    },
    {
     "name": "stdout",
     "output_type": "stream",
     "text": [
      "Processed 25 cars from page 124\n",
      "Saved checkpoint with 3099 total car records\n",
      "\n",
      "Scraping page 125: https://www.sbtjapan.com/used-cars/?custom_search=japan_inventory&location=japan&p_num=125#listbox\n"
     ]
    },
    {
     "name": "stderr",
     "output_type": "stream",
     "text": [
      "Page 125/385 - Total cars: 3099:  32%|███▏      | 125/385 [11:53:01<292:41:42, 4052.70s/it]"
     ]
    },
    {
     "name": "stdout",
     "output_type": "stream",
     "text": [
      "Processed 25 cars from page 125\n",
      "Saved checkpoint with 3124 total car records\n",
      "\n",
      "Scraping page 126: https://www.sbtjapan.com/used-cars/?custom_search=japan_inventory&location=japan&p_num=126#listbox\n"
     ]
    },
    {
     "name": "stderr",
     "output_type": "stream",
     "text": [
      "Page 126/385 - Total cars: 3124:  33%|███▎      | 126/385 [11:55:57<207:53:32, 2889.62s/it]"
     ]
    },
    {
     "name": "stdout",
     "output_type": "stream",
     "text": [
      "Processed 25 cars from page 126\n",
      "Saved checkpoint with 3149 total car records\n",
      "\n",
      "Scraping page 127: https://www.sbtjapan.com/used-cars/?custom_search=japan_inventory&location=japan&p_num=127#listbox\n"
     ]
    },
    {
     "name": "stderr",
     "output_type": "stream",
     "text": [
      "Page 127/385 - Total cars: 3149:  33%|███▎      | 127/385 [11:58:53<148:44:33, 2075.48s/it]"
     ]
    },
    {
     "name": "stdout",
     "output_type": "stream",
     "text": [
      "Processed 25 cars from page 127\n",
      "Saved checkpoint with 3174 total car records\n",
      "\n",
      "Scraping page 128: https://www.sbtjapan.com/used-cars/?custom_search=japan_inventory&location=japan&p_num=128#listbox\n"
     ]
    },
    {
     "name": "stderr",
     "output_type": "stream",
     "text": [
      "Page 128/385 - Total cars: 3174:  33%|███▎      | 128/385 [12:01:47<107:26:31, 1505.03s/it]"
     ]
    },
    {
     "name": "stdout",
     "output_type": "stream",
     "text": [
      "Processed 25 cars from page 128\n",
      "Saved checkpoint with 3199 total car records\n",
      "\n",
      "Scraping page 129: https://www.sbtjapan.com/used-cars/?custom_search=japan_inventory&location=japan&p_num=129#listbox\n"
     ]
    },
    {
     "name": "stderr",
     "output_type": "stream",
     "text": [
      "Page 129/385 - Total cars: 3199:  34%|███▎      | 129/385 [12:04:38<78:34:26, 1104.95s/it] "
     ]
    },
    {
     "name": "stdout",
     "output_type": "stream",
     "text": [
      "Processed 25 cars from page 129\n",
      "Saved checkpoint with 3224 total car records\n",
      "\n",
      "Scraping page 130: https://www.sbtjapan.com/used-cars/?custom_search=japan_inventory&location=japan&p_num=130#listbox\n"
     ]
    },
    {
     "name": "stderr",
     "output_type": "stream",
     "text": [
      "Page 130/385 - Total cars: 3224:  34%|███▍      | 130/385 [12:07:26<58:21:00, 823.77s/it] "
     ]
    },
    {
     "name": "stdout",
     "output_type": "stream",
     "text": [
      "Processed 25 cars from page 130\n",
      "Saved checkpoint with 3249 total car records\n",
      "\n",
      "Scraping page 131: https://www.sbtjapan.com/used-cars/?custom_search=japan_inventory&location=japan&p_num=131#listbox\n"
     ]
    },
    {
     "name": "stderr",
     "output_type": "stream",
     "text": [
      "Page 131/385 - Total cars: 3249:  34%|███▍      | 131/385 [12:10:14<44:15:24, 627.26s/it]"
     ]
    },
    {
     "name": "stdout",
     "output_type": "stream",
     "text": [
      "Processed 25 cars from page 131\n",
      "Saved checkpoint with 3274 total car records\n",
      "\n",
      "Scraping page 132: https://www.sbtjapan.com/used-cars/?custom_search=japan_inventory&location=japan&p_num=132#listbox\n"
     ]
    },
    {
     "name": "stderr",
     "output_type": "stream",
     "text": [
      "Page 132/385 - Total cars: 3274:  34%|███▍      | 132/385 [12:13:02<34:23:58, 489.48s/it]"
     ]
    },
    {
     "name": "stdout",
     "output_type": "stream",
     "text": [
      "Processed 25 cars from page 132\n",
      "Saved checkpoint with 3299 total car records\n",
      "\n",
      "Scraping page 133: https://www.sbtjapan.com/used-cars/?custom_search=japan_inventory&location=japan&p_num=133#listbox\n"
     ]
    },
    {
     "name": "stderr",
     "output_type": "stream",
     "text": [
      "Page 133/385 - Total cars: 3299:  35%|███▍      | 133/385 [12:15:55<27:36:16, 394.35s/it]"
     ]
    },
    {
     "name": "stdout",
     "output_type": "stream",
     "text": [
      "Processed 25 cars from page 133\n",
      "Saved checkpoint with 3324 total car records\n",
      "\n",
      "Scraping page 134: https://www.sbtjapan.com/used-cars/?custom_search=japan_inventory&location=japan&p_num=134#listbox\n"
     ]
    },
    {
     "name": "stderr",
     "output_type": "stream",
     "text": [
      "Page 134/385 - Total cars: 3324:  35%|███▍      | 134/385 [12:18:47<22:50:20, 327.57s/it]"
     ]
    },
    {
     "name": "stdout",
     "output_type": "stream",
     "text": [
      "Failed to scrape detail page for GD9805: HTTPSConnectionPool(host='www.sbtjapan.com', port=443): Max retries exceeded with url: /used-cars/toyota/corolla-fielder/GD9805/ (Caused by ResponseError('too many 503 error responses'))\n",
      "Failed to scrape detail page for SF0847: HTTPSConnectionPool(host='www.sbtjapan.com', port=443): Max retries exceeded with url: /used-cars/nissan/note/SF0847/ (Caused by ResponseError('too many 503 error responses'))\n",
      "Failed to scrape detail page for GI9155: HTTPSConnectionPool(host='www.sbtjapan.com', port=443): Max retries exceeded with url: /used-cars/nissan/vanette-truck/GI9155/ (Caused by ResponseError('too many 503 error responses'))\n",
      "Processed 22 cars from page 134\n",
      "Saved checkpoint with 3346 total car records\n",
      "\n",
      "Scraping page 135: https://www.sbtjapan.com/used-cars/?custom_search=japan_inventory&location=japan&p_num=135#listbox\n"
     ]
    },
    {
     "name": "stderr",
     "output_type": "stream",
     "text": [
      "Page 135/385 - Total cars: 3346:  35%|███▌      | 135/385 [12:25:21<24:07:51, 347.49s/it]"
     ]
    },
    {
     "name": "stdout",
     "output_type": "stream",
     "text": [
      "Processed 25 cars from page 135\n",
      "Saved checkpoint with 3371 total car records\n",
      "\n",
      "Scraping page 136: https://www.sbtjapan.com/used-cars/?custom_search=japan_inventory&location=japan&p_num=136#listbox\n"
     ]
    },
    {
     "name": "stderr",
     "output_type": "stream",
     "text": [
      "Page 136/385 - Total cars: 3371:  35%|███▌      | 136/385 [12:28:11<20:21:22, 294.31s/it]"
     ]
    },
    {
     "name": "stdout",
     "output_type": "stream",
     "text": [
      "Processed 25 cars from page 136\n",
      "Saved checkpoint with 3396 total car records\n",
      "\n",
      "Scraping page 137: https://www.sbtjapan.com/used-cars/?custom_search=japan_inventory&location=japan&p_num=137#listbox\n"
     ]
    },
    {
     "name": "stderr",
     "output_type": "stream",
     "text": [
      "Page 137/385 - Total cars: 3396:  36%|███▌      | 137/385 [12:31:01<17:42:00, 256.94s/it]"
     ]
    },
    {
     "name": "stdout",
     "output_type": "stream",
     "text": [
      "Processed 25 cars from page 137\n",
      "Saved checkpoint with 3421 total car records\n",
      "\n",
      "Scraping page 138: https://www.sbtjapan.com/used-cars/?custom_search=japan_inventory&location=japan&p_num=138#listbox\n"
     ]
    },
    {
     "name": "stderr",
     "output_type": "stream",
     "text": [
      "Page 138/385 - Total cars: 3421:  36%|███▌      | 138/385 [12:33:55<15:56:11, 232.28s/it]"
     ]
    },
    {
     "name": "stdout",
     "output_type": "stream",
     "text": [
      "Processed 25 cars from page 138\n",
      "Saved checkpoint with 3446 total car records\n",
      "\n",
      "Scraping page 139: https://www.sbtjapan.com/used-cars/?custom_search=japan_inventory&location=japan&p_num=139#listbox\n"
     ]
    },
    {
     "name": "stderr",
     "output_type": "stream",
     "text": [
      "Page 139/385 - Total cars: 3446:  36%|███▌      | 139/385 [12:36:48<14:39:18, 214.47s/it]"
     ]
    },
    {
     "name": "stdout",
     "output_type": "stream",
     "text": [
      "Processed 25 cars from page 139\n",
      "Saved checkpoint with 3471 total car records\n",
      "\n",
      "Scraping page 140: https://www.sbtjapan.com/used-cars/?custom_search=japan_inventory&location=japan&p_num=140#listbox\n"
     ]
    },
    {
     "name": "stderr",
     "output_type": "stream",
     "text": [
      "Page 140/385 - Total cars: 3471:  36%|███▋      | 140/385 [12:39:39<13:41:52, 201.27s/it]"
     ]
    },
    {
     "name": "stdout",
     "output_type": "stream",
     "text": [
      "Processed 25 cars from page 140\n",
      "Saved checkpoint with 3496 total car records\n",
      "\n",
      "Scraping page 141: https://www.sbtjapan.com/used-cars/?custom_search=japan_inventory&location=japan&p_num=141#listbox\n"
     ]
    },
    {
     "name": "stderr",
     "output_type": "stream",
     "text": [
      "Page 141/385 - Total cars: 3496:  37%|███▋      | 141/385 [12:42:26<12:57:07, 191.10s/it]"
     ]
    },
    {
     "name": "stdout",
     "output_type": "stream",
     "text": [
      "Processed 25 cars from page 141\n",
      "Saved checkpoint with 3521 total car records\n",
      "\n",
      "Scraping page 142: https://www.sbtjapan.com/used-cars/?custom_search=japan_inventory&location=japan&p_num=142#listbox\n"
     ]
    },
    {
     "name": "stderr",
     "output_type": "stream",
     "text": [
      "Page 142/385 - Total cars: 3521:  37%|███▋      | 142/385 [12:45:22<12:35:19, 186.50s/it]"
     ]
    },
    {
     "name": "stdout",
     "output_type": "stream",
     "text": [
      "Processed 25 cars from page 142\n",
      "Saved checkpoint with 3546 total car records\n",
      "\n",
      "Scraping page 143: https://www.sbtjapan.com/used-cars/?custom_search=japan_inventory&location=japan&p_num=143#listbox\n"
     ]
    },
    {
     "name": "stderr",
     "output_type": "stream",
     "text": [
      "Page 143/385 - Total cars: 3546:  37%|███▋      | 143/385 [12:48:32<12:36:16, 187.51s/it]"
     ]
    },
    {
     "name": "stdout",
     "output_type": "stream",
     "text": [
      "Processed 25 cars from page 143\n",
      "Saved checkpoint with 3571 total car records\n",
      "\n",
      "Scraping page 144: https://www.sbtjapan.com/used-cars/?custom_search=japan_inventory&location=japan&p_num=144#listbox\n"
     ]
    },
    {
     "name": "stderr",
     "output_type": "stream",
     "text": [
      "Page 144/385 - Total cars: 3571:  37%|███▋      | 144/385 [12:51:24<12:15:21, 183.08s/it]"
     ]
    },
    {
     "name": "stdout",
     "output_type": "stream",
     "text": [
      "Processed 25 cars from page 144\n",
      "Saved checkpoint with 3596 total car records\n",
      "\n",
      "Scraping page 145: https://www.sbtjapan.com/used-cars/?custom_search=japan_inventory&location=japan&p_num=145#listbox\n"
     ]
    },
    {
     "name": "stderr",
     "output_type": "stream",
     "text": [
      "Page 145/385 - Total cars: 3596:  38%|███▊      | 145/385 [12:54:17<12:00:14, 180.06s/it]"
     ]
    },
    {
     "name": "stdout",
     "output_type": "stream",
     "text": [
      "Processed 25 cars from page 145\n",
      "Saved checkpoint with 3621 total car records\n",
      "\n",
      "Scraping page 146: https://www.sbtjapan.com/used-cars/?custom_search=japan_inventory&location=japan&p_num=146#listbox\n"
     ]
    },
    {
     "name": "stderr",
     "output_type": "stream",
     "text": [
      "Page 146/385 - Total cars: 3621:  38%|███▊      | 146/385 [12:57:10<11:48:02, 177.75s/it]"
     ]
    },
    {
     "name": "stdout",
     "output_type": "stream",
     "text": [
      "Processed 25 cars from page 146\n",
      "Saved checkpoint with 3646 total car records\n",
      "\n",
      "Scraping page 147: https://www.sbtjapan.com/used-cars/?custom_search=japan_inventory&location=japan&p_num=147#listbox\n"
     ]
    },
    {
     "name": "stderr",
     "output_type": "stream",
     "text": [
      "Page 147/385 - Total cars: 3646:  38%|███▊      | 147/385 [13:00:00<11:36:13, 175.52s/it]"
     ]
    },
    {
     "name": "stdout",
     "output_type": "stream",
     "text": [
      "Processed 25 cars from page 147\n",
      "Saved checkpoint with 3671 total car records\n",
      "\n",
      "Scraping page 148: https://www.sbtjapan.com/used-cars/?custom_search=japan_inventory&location=japan&p_num=148#listbox\n"
     ]
    },
    {
     "name": "stderr",
     "output_type": "stream",
     "text": [
      "Page 148/385 - Total cars: 3671:  38%|███▊      | 148/385 [13:02:54<11:31:54, 175.16s/it]"
     ]
    },
    {
     "name": "stdout",
     "output_type": "stream",
     "text": [
      "Processed 25 cars from page 148\n",
      "Saved checkpoint with 3696 total car records\n",
      "\n",
      "Scraping page 149: https://www.sbtjapan.com/used-cars/?custom_search=japan_inventory&location=japan&p_num=149#listbox\n"
     ]
    },
    {
     "name": "stderr",
     "output_type": "stream",
     "text": [
      "Page 149/385 - Total cars: 3696:  39%|███▊      | 149/385 [13:05:50<11:29:13, 175.23s/it]"
     ]
    },
    {
     "name": "stdout",
     "output_type": "stream",
     "text": [
      "Processed 25 cars from page 149\n",
      "Saved checkpoint with 3721 total car records\n",
      "\n",
      "Scraping page 150: https://www.sbtjapan.com/used-cars/?custom_search=japan_inventory&location=japan&p_num=150#listbox\n"
     ]
    },
    {
     "name": "stderr",
     "output_type": "stream",
     "text": [
      "Page 150/385 - Total cars: 3721:  39%|███▉      | 150/385 [13:08:47<11:29:10, 175.96s/it]"
     ]
    },
    {
     "name": "stdout",
     "output_type": "stream",
     "text": [
      "Processed 25 cars from page 150\n",
      "Saved checkpoint with 3746 total car records\n",
      "\n",
      "Scraping page 151: https://www.sbtjapan.com/used-cars/?custom_search=japan_inventory&location=japan&p_num=151#listbox\n"
     ]
    },
    {
     "name": "stderr",
     "output_type": "stream",
     "text": [
      "Page 151/385 - Total cars: 3746:  39%|███▉      | 151/385 [13:11:47<11:29:59, 176.92s/it]"
     ]
    },
    {
     "name": "stdout",
     "output_type": "stream",
     "text": [
      "Processed 25 cars from page 151\n",
      "Saved checkpoint with 3771 total car records\n",
      "\n",
      "Scraping page 152: https://www.sbtjapan.com/used-cars/?custom_search=japan_inventory&location=japan&p_num=152#listbox\n"
     ]
    },
    {
     "name": "stderr",
     "output_type": "stream",
     "text": [
      "Page 152/385 - Total cars: 3771:  39%|███▉      | 152/385 [13:15:34<12:26:02, 192.12s/it]"
     ]
    },
    {
     "name": "stdout",
     "output_type": "stream",
     "text": [
      "Processed 25 cars from page 152\n",
      "Saved checkpoint with 3796 total car records\n",
      "\n",
      "Scraping page 153: https://www.sbtjapan.com/used-cars/?custom_search=japan_inventory&location=japan&p_num=153#listbox\n"
     ]
    },
    {
     "name": "stderr",
     "output_type": "stream",
     "text": [
      "Page 153/385 - Total cars: 3796:  40%|███▉      | 153/385 [13:18:39<12:14:15, 189.89s/it]"
     ]
    },
    {
     "name": "stdout",
     "output_type": "stream",
     "text": [
      "Failed to fetch detail page: 404\n",
      "Failed to fetch detail page: 404\n",
      "Failed to fetch detail page: 404\n",
      "Failed to fetch https://www.sbtjapan.com/used-cars/honda/fit/AC9767/ after 3 attempts.\n",
      "Processed 25 cars from page 153\n",
      "Saved checkpoint with 3821 total car records\n",
      "\n",
      "Scraping page 154: https://www.sbtjapan.com/used-cars/?custom_search=japan_inventory&location=japan&p_num=154#listbox\n"
     ]
    },
    {
     "name": "stderr",
     "output_type": "stream",
     "text": [
      "Page 154/385 - Total cars: 3821:  40%|████      | 154/385 [18:39:52<379:31:57, 5914.80s/it]"
     ]
    },
    {
     "name": "stdout",
     "output_type": "stream",
     "text": [
      "Processed 25 cars from page 154\n",
      "Saved checkpoint with 3846 total car records\n",
      "\n",
      "Scraping page 155: https://www.sbtjapan.com/used-cars/?custom_search=japan_inventory&location=japan&p_num=155#listbox\n"
     ]
    },
    {
     "name": "stderr",
     "output_type": "stream",
     "text": [
      "Page 155/385 - Total cars: 3846:  40%|████      | 155/385 [18:43:03<268:10:54, 4197.63s/it]"
     ]
    },
    {
     "name": "stdout",
     "output_type": "stream",
     "text": [
      "Processed 25 cars from page 155\n",
      "Saved checkpoint with 3871 total car records\n",
      "\n",
      "Scraping page 156: https://www.sbtjapan.com/used-cars/?custom_search=japan_inventory&location=japan&p_num=156#listbox\n"
     ]
    },
    {
     "name": "stderr",
     "output_type": "stream",
     "text": [
      "Page 156/385 - Total cars: 3871:  41%|████      | 156/385 [18:46:05<190:23:22, 2993.03s/it]"
     ]
    },
    {
     "name": "stdout",
     "output_type": "stream",
     "text": [
      "Processed 25 cars from page 156\n",
      "Saved checkpoint with 3896 total car records\n",
      "\n",
      "Scraping page 157: https://www.sbtjapan.com/used-cars/?custom_search=japan_inventory&location=japan&p_num=157#listbox\n"
     ]
    },
    {
     "name": "stderr",
     "output_type": "stream",
     "text": [
      "Page 157/385 - Total cars: 3896:  41%|████      | 157/385 [18:49:30<136:35:32, 2156.72s/it]"
     ]
    },
    {
     "name": "stdout",
     "output_type": "stream",
     "text": [
      "Processed 25 cars from page 157\n",
      "Saved checkpoint with 3921 total car records\n",
      "\n",
      "Scraping page 158: https://www.sbtjapan.com/used-cars/?custom_search=japan_inventory&location=japan&p_num=158#listbox\n"
     ]
    },
    {
     "name": "stderr",
     "output_type": "stream",
     "text": [
      "Page 158/385 - Total cars: 3921:  41%|████      | 158/385 [18:53:09<99:20:10, 1575.38s/it] "
     ]
    },
    {
     "name": "stdout",
     "output_type": "stream",
     "text": [
      "Processed 25 cars from page 158\n",
      "Saved checkpoint with 3946 total car records\n",
      "\n",
      "Scraping page 159: https://www.sbtjapan.com/used-cars/?custom_search=japan_inventory&location=japan&p_num=159#listbox\n"
     ]
    },
    {
     "name": "stderr",
     "output_type": "stream",
     "text": [
      "Page 159/385 - Total cars: 3946:  41%|████▏     | 159/385 [18:56:17<72:45:27, 1158.97s/it]"
     ]
    },
    {
     "name": "stdout",
     "output_type": "stream",
     "text": [
      "Processed 25 cars from page 159\n",
      "Saved checkpoint with 3971 total car records\n",
      "\n",
      "Scraping page 160: https://www.sbtjapan.com/used-cars/?custom_search=japan_inventory&location=japan&p_num=160#listbox\n"
     ]
    },
    {
     "name": "stderr",
     "output_type": "stream",
     "text": [
      "Page 160/385 - Total cars: 3971:  42%|████▏     | 160/385 [18:59:17<54:05:02, 865.35s/it] "
     ]
    },
    {
     "name": "stdout",
     "output_type": "stream",
     "text": [
      "Processed 25 cars from page 160\n",
      "Saved checkpoint with 3996 total car records\n",
      "\n",
      "Scraping page 161: https://www.sbtjapan.com/used-cars/?custom_search=japan_inventory&location=japan&p_num=161#listbox\n"
     ]
    },
    {
     "name": "stderr",
     "output_type": "stream",
     "text": [
      "Page 161/385 - Total cars: 3996:  42%|████▏     | 161/385 [19:02:25<41:12:36, 662.31s/it]"
     ]
    },
    {
     "name": "stdout",
     "output_type": "stream",
     "text": [
      "Processed 25 cars from page 161\n",
      "Saved checkpoint with 4021 total car records\n",
      "\n",
      "Scraping page 162: https://www.sbtjapan.com/used-cars/?custom_search=japan_inventory&location=japan&p_num=162#listbox\n"
     ]
    },
    {
     "name": "stderr",
     "output_type": "stream",
     "text": [
      "Page 162/385 - Total cars: 4021:  42%|████▏     | 162/385 [19:05:33<32:11:56, 519.81s/it]"
     ]
    },
    {
     "name": "stdout",
     "output_type": "stream",
     "text": [
      "Processed 25 cars from page 162\n",
      "Saved checkpoint with 4046 total car records\n",
      "\n",
      "Scraping page 163: https://www.sbtjapan.com/used-cars/?custom_search=japan_inventory&location=japan&p_num=163#listbox\n"
     ]
    },
    {
     "name": "stderr",
     "output_type": "stream",
     "text": [
      "Page 163/385 - Total cars: 4046:  42%|████▏     | 163/385 [19:08:41<25:55:47, 420.49s/it]"
     ]
    },
    {
     "name": "stdout",
     "output_type": "stream",
     "text": [
      "Processed 25 cars from page 163\n",
      "Saved checkpoint with 4071 total car records\n",
      "\n",
      "Scraping page 164: https://www.sbtjapan.com/used-cars/?custom_search=japan_inventory&location=japan&p_num=164#listbox\n"
     ]
    },
    {
     "name": "stderr",
     "output_type": "stream",
     "text": [
      "Page 164/385 - Total cars: 4071:  43%|████▎     | 164/385 [19:11:44<21:25:56, 349.12s/it]"
     ]
    },
    {
     "name": "stdout",
     "output_type": "stream",
     "text": [
      "Processed 25 cars from page 164\n",
      "Saved checkpoint with 4096 total car records\n",
      "\n",
      "Scraping page 165: https://www.sbtjapan.com/used-cars/?custom_search=japan_inventory&location=japan&p_num=165#listbox\n"
     ]
    },
    {
     "name": "stderr",
     "output_type": "stream",
     "text": [
      "Page 165/385 - Total cars: 4096:  43%|████▎     | 165/385 [19:14:56<18:27:28, 302.04s/it]"
     ]
    },
    {
     "name": "stdout",
     "output_type": "stream",
     "text": [
      "Processed 25 cars from page 165\n",
      "Saved checkpoint with 4121 total car records\n",
      "\n",
      "Scraping page 166: https://www.sbtjapan.com/used-cars/?custom_search=japan_inventory&location=japan&p_num=166#listbox\n"
     ]
    },
    {
     "name": "stderr",
     "output_type": "stream",
     "text": [
      "Page 166/385 - Total cars: 4121:  43%|████▎     | 166/385 [19:18:02<16:14:58, 267.12s/it]"
     ]
    },
    {
     "name": "stdout",
     "output_type": "stream",
     "text": [
      "Processed 25 cars from page 166\n",
      "Saved checkpoint with 4146 total car records\n",
      "\n",
      "Scraping page 167: https://www.sbtjapan.com/used-cars/?custom_search=japan_inventory&location=japan&p_num=167#listbox\n"
     ]
    },
    {
     "name": "stderr",
     "output_type": "stream",
     "text": [
      "Page 167/385 - Total cars: 4146:  43%|████▎     | 167/385 [19:21:08<14:42:11, 242.81s/it]"
     ]
    },
    {
     "name": "stdout",
     "output_type": "stream",
     "text": [
      "Processed 25 cars from page 167\n",
      "Saved checkpoint with 4171 total car records\n",
      "\n",
      "Scraping page 168: https://www.sbtjapan.com/used-cars/?custom_search=japan_inventory&location=japan&p_num=168#listbox\n"
     ]
    },
    {
     "name": "stderr",
     "output_type": "stream",
     "text": [
      "Page 168/385 - Total cars: 4171:  44%|████▎     | 168/385 [19:24:13<13:35:04, 225.37s/it]"
     ]
    },
    {
     "name": "stdout",
     "output_type": "stream",
     "text": [
      "Processed 25 cars from page 168\n",
      "Saved checkpoint with 4196 total car records\n",
      "\n",
      "Scraping page 169: https://www.sbtjapan.com/used-cars/?custom_search=japan_inventory&location=japan&p_num=169#listbox\n"
     ]
    },
    {
     "name": "stderr",
     "output_type": "stream",
     "text": [
      "Page 169/385 - Total cars: 4196:  44%|████▍     | 169/385 [20:11:39<60:41:54, 1011.64s/it]"
     ]
    },
    {
     "name": "stdout",
     "output_type": "stream",
     "text": [
      "Processed 25 cars from page 169\n",
      "Saved checkpoint with 4221 total car records\n",
      "\n",
      "Scraping page 170: https://www.sbtjapan.com/used-cars/?custom_search=japan_inventory&location=japan&p_num=170#listbox\n"
     ]
    },
    {
     "name": "stderr",
     "output_type": "stream",
     "text": [
      "Page 170/385 - Total cars: 4221:  44%|████▍     | 170/385 [20:14:40<45:32:17, 762.50s/it] "
     ]
    },
    {
     "name": "stdout",
     "output_type": "stream",
     "text": [
      "Processed 25 cars from page 170\n",
      "Saved checkpoint with 4246 total car records\n",
      "\n",
      "Scraping page 171: https://www.sbtjapan.com/used-cars/?custom_search=japan_inventory&location=japan&p_num=171#listbox\n"
     ]
    },
    {
     "name": "stderr",
     "output_type": "stream",
     "text": [
      "Page 171/385 - Total cars: 4246:  44%|████▍     | 171/385 [20:17:43<34:59:30, 588.65s/it]"
     ]
    },
    {
     "name": "stdout",
     "output_type": "stream",
     "text": [
      "Processed 25 cars from page 171\n",
      "Saved checkpoint with 4271 total car records\n",
      "\n",
      "Scraping page 172: https://www.sbtjapan.com/used-cars/?custom_search=japan_inventory&location=japan&p_num=172#listbox\n"
     ]
    },
    {
     "name": "stderr",
     "output_type": "stream",
     "text": [
      "Page 172/385 - Total cars: 4271:  45%|████▍     | 172/385 [20:20:45<27:36:32, 466.63s/it]"
     ]
    },
    {
     "name": "stdout",
     "output_type": "stream",
     "text": [
      "Processed 25 cars from page 172\n",
      "Saved checkpoint with 4296 total car records\n",
      "\n",
      "Scraping page 173: https://www.sbtjapan.com/used-cars/?custom_search=japan_inventory&location=japan&p_num=173#listbox\n"
     ]
    },
    {
     "name": "stderr",
     "output_type": "stream",
     "text": [
      "Page 173/385 - Total cars: 4296:  45%|████▍     | 173/385 [20:23:44<22:24:02, 380.39s/it]"
     ]
    },
    {
     "name": "stdout",
     "output_type": "stream",
     "text": [
      "Processed 25 cars from page 173\n",
      "Saved checkpoint with 4321 total car records\n",
      "\n",
      "Scraping page 174: https://www.sbtjapan.com/used-cars/?custom_search=japan_inventory&location=japan&p_num=174#listbox\n"
     ]
    },
    {
     "name": "stderr",
     "output_type": "stream",
     "text": [
      "Page 174/385 - Total cars: 4321:  45%|████▌     | 174/385 [20:26:46<18:48:44, 320.97s/it]"
     ]
    },
    {
     "name": "stdout",
     "output_type": "stream",
     "text": [
      "Processed 25 cars from page 174\n",
      "Saved checkpoint with 4346 total car records\n",
      "\n",
      "Scraping page 175: https://www.sbtjapan.com/used-cars/?custom_search=japan_inventory&location=japan&p_num=175#listbox\n"
     ]
    },
    {
     "name": "stderr",
     "output_type": "stream",
     "text": [
      "Page 175/385 - Total cars: 4346:  45%|████▌     | 175/385 [20:29:48<16:17:16, 279.22s/it]"
     ]
    },
    {
     "name": "stdout",
     "output_type": "stream",
     "text": [
      "Processed 25 cars from page 175\n",
      "Saved checkpoint with 4371 total car records\n",
      "\n",
      "Scraping page 176: https://www.sbtjapan.com/used-cars/?custom_search=japan_inventory&location=japan&p_num=176#listbox\n"
     ]
    },
    {
     "name": "stderr",
     "output_type": "stream",
     "text": [
      "Page 176/385 - Total cars: 4371:  46%|████▌     | 176/385 [20:32:47<14:27:55, 249.16s/it]"
     ]
    },
    {
     "name": "stdout",
     "output_type": "stream",
     "text": [
      "Processed 25 cars from page 176\n",
      "Saved checkpoint with 4396 total car records\n",
      "\n",
      "Scraping page 177: https://www.sbtjapan.com/used-cars/?custom_search=japan_inventory&location=japan&p_num=177#listbox\n"
     ]
    },
    {
     "name": "stderr",
     "output_type": "stream",
     "text": [
      "Page 177/385 - Total cars: 4396:  46%|████▌     | 177/385 [20:35:52<13:16:47, 229.85s/it]"
     ]
    },
    {
     "name": "stdout",
     "output_type": "stream",
     "text": [
      "Processed 25 cars from page 177\n",
      "Saved checkpoint with 4421 total car records\n",
      "\n",
      "Scraping page 178: https://www.sbtjapan.com/used-cars/?custom_search=japan_inventory&location=japan&p_num=178#listbox\n"
     ]
    },
    {
     "name": "stderr",
     "output_type": "stream",
     "text": [
      "Page 178/385 - Total cars: 4421:  46%|████▌     | 178/385 [20:38:56<12:25:33, 216.10s/it]"
     ]
    },
    {
     "name": "stdout",
     "output_type": "stream",
     "text": [
      "Processed 25 cars from page 178\n",
      "Saved checkpoint with 4446 total car records\n",
      "\n",
      "Scraping page 179: https://www.sbtjapan.com/used-cars/?custom_search=japan_inventory&location=japan&p_num=179#listbox\n"
     ]
    },
    {
     "name": "stderr",
     "output_type": "stream",
     "text": [
      "Page 179/385 - Total cars: 4446:  46%|████▋     | 179/385 [20:42:10<11:59:13, 209.48s/it]"
     ]
    },
    {
     "name": "stdout",
     "output_type": "stream",
     "text": [
      "Processed 25 cars from page 179\n",
      "Saved checkpoint with 4471 total car records\n",
      "\n",
      "Scraping page 180: https://www.sbtjapan.com/used-cars/?custom_search=japan_inventory&location=japan&p_num=180#listbox\n"
     ]
    },
    {
     "name": "stderr",
     "output_type": "stream",
     "text": [
      "Page 180/385 - Total cars: 4471:  47%|████▋     | 180/385 [20:45:20<11:36:08, 203.75s/it]"
     ]
    },
    {
     "name": "stdout",
     "output_type": "stream",
     "text": [
      "Processed 25 cars from page 180\n",
      "Saved checkpoint with 4496 total car records\n",
      "\n",
      "Scraping page 181: https://www.sbtjapan.com/used-cars/?custom_search=japan_inventory&location=japan&p_num=181#listbox\n"
     ]
    },
    {
     "name": "stderr",
     "output_type": "stream",
     "text": [
      "Page 181/385 - Total cars: 4496:  47%|████▋     | 181/385 [20:48:34<11:21:54, 200.56s/it]"
     ]
    },
    {
     "name": "stdout",
     "output_type": "stream",
     "text": [
      "Processed 25 cars from page 181\n",
      "Saved checkpoint with 4521 total car records\n",
      "\n",
      "Scraping page 182: https://www.sbtjapan.com/used-cars/?custom_search=japan_inventory&location=japan&p_num=182#listbox\n"
     ]
    },
    {
     "name": "stderr",
     "output_type": "stream",
     "text": [
      "Page 182/385 - Total cars: 4521:  47%|████▋     | 182/385 [20:51:41<11:05:00, 196.56s/it]"
     ]
    },
    {
     "name": "stdout",
     "output_type": "stream",
     "text": [
      "Processed 25 cars from page 182\n",
      "Saved checkpoint with 4546 total car records\n",
      "\n",
      "Scraping page 183: https://www.sbtjapan.com/used-cars/?custom_search=japan_inventory&location=japan&p_num=183#listbox\n"
     ]
    },
    {
     "name": "stderr",
     "output_type": "stream",
     "text": [
      "Page 183/385 - Total cars: 4546:  48%|████▊     | 183/385 [20:54:48<10:52:43, 193.88s/it]"
     ]
    },
    {
     "name": "stdout",
     "output_type": "stream",
     "text": [
      "Processed 25 cars from page 183\n",
      "Saved checkpoint with 4571 total car records\n",
      "\n",
      "Scraping page 184: https://www.sbtjapan.com/used-cars/?custom_search=japan_inventory&location=japan&p_num=184#listbox\n"
     ]
    },
    {
     "name": "stderr",
     "output_type": "stream",
     "text": [
      "Page 184/385 - Total cars: 4571:  48%|████▊     | 184/385 [24:44:51<238:46:00, 4276.42s/it]"
     ]
    },
    {
     "name": "stdout",
     "output_type": "stream",
     "text": [
      "Processed 25 cars from page 184\n",
      "Saved checkpoint with 4596 total car records\n",
      "\n",
      "Scraping page 185: https://www.sbtjapan.com/used-cars/?custom_search=japan_inventory&location=japan&p_num=185#listbox\n"
     ]
    },
    {
     "name": "stderr",
     "output_type": "stream",
     "text": [
      "Page 185/385 - Total cars: 4596:  48%|████▊     | 185/385 [24:48:01<169:28:16, 3050.48s/it]"
     ]
    },
    {
     "name": "stdout",
     "output_type": "stream",
     "text": [
      "Processed 25 cars from page 185\n",
      "Saved checkpoint with 4621 total car records\n",
      "\n",
      "Scraping page 186: https://www.sbtjapan.com/used-cars/?custom_search=japan_inventory&location=japan&p_num=186#listbox\n"
     ]
    },
    {
     "name": "stderr",
     "output_type": "stream",
     "text": [
      "Page 186/385 - Total cars: 4621:  48%|████▊     | 186/385 [24:51:21<121:21:28, 2195.42s/it]"
     ]
    },
    {
     "name": "stdout",
     "output_type": "stream",
     "text": [
      "Processed 25 cars from page 186\n",
      "Saved checkpoint with 4646 total car records\n",
      "\n",
      "Scraping page 187: https://www.sbtjapan.com/used-cars/?custom_search=japan_inventory&location=japan&p_num=187#listbox\n"
     ]
    },
    {
     "name": "stderr",
     "output_type": "stream",
     "text": [
      "Page 187/385 - Total cars: 4646:  49%|████▊     | 187/385 [24:54:40<87:48:10, 1596.42s/it] "
     ]
    },
    {
     "name": "stdout",
     "output_type": "stream",
     "text": [
      "Processed 25 cars from page 187\n",
      "Saved checkpoint with 4671 total car records\n",
      "\n",
      "Scraping page 188: https://www.sbtjapan.com/used-cars/?custom_search=japan_inventory&location=japan&p_num=188#listbox\n"
     ]
    },
    {
     "name": "stderr",
     "output_type": "stream",
     "text": [
      "Page 188/385 - Total cars: 4671:  49%|████▉     | 188/385 [24:57:49<64:15:49, 1174.36s/it]"
     ]
    },
    {
     "name": "stdout",
     "output_type": "stream",
     "text": [
      "Processed 25 cars from page 188\n",
      "Saved checkpoint with 4696 total car records\n",
      "\n",
      "Scraping page 189: https://www.sbtjapan.com/used-cars/?custom_search=japan_inventory&location=japan&p_num=189#listbox\n"
     ]
    },
    {
     "name": "stderr",
     "output_type": "stream",
     "text": [
      "Page 189/385 - Total cars: 4696:  49%|████▉     | 189/385 [25:00:56<47:48:31, 878.12s/it] "
     ]
    },
    {
     "name": "stdout",
     "output_type": "stream",
     "text": [
      "Processed 25 cars from page 189\n",
      "Saved checkpoint with 4721 total car records\n",
      "\n",
      "Scraping page 190: https://www.sbtjapan.com/used-cars/?custom_search=japan_inventory&location=japan&p_num=190#listbox\n"
     ]
    },
    {
     "name": "stderr",
     "output_type": "stream",
     "text": [
      "Page 190/385 - Total cars: 4721:  49%|████▉     | 190/385 [25:04:07<36:23:21, 671.80s/it]"
     ]
    },
    {
     "name": "stdout",
     "output_type": "stream",
     "text": [
      "Processed 25 cars from page 190\n",
      "Saved checkpoint with 4746 total car records\n",
      "\n",
      "Scraping page 191: https://www.sbtjapan.com/used-cars/?custom_search=japan_inventory&location=japan&p_num=191#listbox\n"
     ]
    },
    {
     "name": "stderr",
     "output_type": "stream",
     "text": [
      "Page 191/385 - Total cars: 4746:  50%|████▉     | 191/385 [25:07:19<28:26:40, 527.84s/it]"
     ]
    },
    {
     "name": "stdout",
     "output_type": "stream",
     "text": [
      "Processed 25 cars from page 191\n",
      "Saved checkpoint with 4771 total car records\n",
      "\n",
      "Scraping page 192: https://www.sbtjapan.com/used-cars/?custom_search=japan_inventory&location=japan&p_num=192#listbox\n"
     ]
    },
    {
     "name": "stderr",
     "output_type": "stream",
     "text": [
      "Page 192/385 - Total cars: 4771:  50%|████▉     | 192/385 [25:10:27<22:50:51, 426.17s/it]"
     ]
    },
    {
     "name": "stdout",
     "output_type": "stream",
     "text": [
      "Processed 25 cars from page 192\n",
      "Saved checkpoint with 4796 total car records\n",
      "\n",
      "Scraping page 193: https://www.sbtjapan.com/used-cars/?custom_search=japan_inventory&location=japan&p_num=193#listbox\n"
     ]
    },
    {
     "name": "stderr",
     "output_type": "stream",
     "text": [
      "Page 193/385 - Total cars: 4796:  50%|█████     | 193/385 [25:13:53<19:11:43, 359.91s/it]"
     ]
    },
    {
     "name": "stdout",
     "output_type": "stream",
     "text": [
      "Processed 25 cars from page 193\n",
      "Saved checkpoint with 4821 total car records\n",
      "\n",
      "Scraping page 194: https://www.sbtjapan.com/used-cars/?custom_search=japan_inventory&location=japan&p_num=194#listbox\n"
     ]
    },
    {
     "name": "stderr",
     "output_type": "stream",
     "text": [
      "Page 194/385 - Total cars: 4821:  50%|█████     | 194/385 [25:17:14<16:33:45, 312.17s/it]"
     ]
    },
    {
     "name": "stdout",
     "output_type": "stream",
     "text": [
      "Processed 25 cars from page 194\n",
      "Saved checkpoint with 4846 total car records\n",
      "\n",
      "Scraping page 195: https://www.sbtjapan.com/used-cars/?custom_search=japan_inventory&location=japan&p_num=195#listbox\n"
     ]
    },
    {
     "name": "stderr",
     "output_type": "stream",
     "text": [
      "Page 195/385 - Total cars: 4846:  51%|█████     | 195/385 [25:20:41<14:49:16, 280.82s/it]"
     ]
    },
    {
     "name": "stdout",
     "output_type": "stream",
     "text": [
      "Processed 25 cars from page 195\n",
      "Saved checkpoint with 4871 total car records\n",
      "\n",
      "Scraping page 196: https://www.sbtjapan.com/used-cars/?custom_search=japan_inventory&location=japan&p_num=196#listbox\n"
     ]
    },
    {
     "name": "stderr",
     "output_type": "stream",
     "text": [
      "Page 196/385 - Total cars: 4871:  51%|█████     | 196/385 [25:24:04<13:30:31, 257.31s/it]"
     ]
    },
    {
     "name": "stdout",
     "output_type": "stream",
     "text": [
      "Processed 25 cars from page 196\n",
      "Saved checkpoint with 4896 total car records\n",
      "\n",
      "Scraping page 197: https://www.sbtjapan.com/used-cars/?custom_search=japan_inventory&location=japan&p_num=197#listbox\n"
     ]
    },
    {
     "name": "stderr",
     "output_type": "stream",
     "text": [
      "Page 197/385 - Total cars: 4896:  51%|█████     | 197/385 [25:27:24<12:32:12, 240.07s/it]"
     ]
    },
    {
     "name": "stdout",
     "output_type": "stream",
     "text": [
      "Processed 25 cars from page 197\n",
      "Saved checkpoint with 4921 total car records\n",
      "\n",
      "Scraping page 198: https://www.sbtjapan.com/used-cars/?custom_search=japan_inventory&location=japan&p_num=198#listbox\n"
     ]
    },
    {
     "name": "stderr",
     "output_type": "stream",
     "text": [
      "Page 198/385 - Total cars: 4921:  51%|█████▏    | 198/385 [25:30:53<11:59:17, 230.79s/it]"
     ]
    },
    {
     "name": "stdout",
     "output_type": "stream",
     "text": [
      "Processed 25 cars from page 198\n",
      "Saved checkpoint with 4946 total car records\n",
      "\n",
      "Scraping page 199: https://www.sbtjapan.com/used-cars/?custom_search=japan_inventory&location=japan&p_num=199#listbox\n"
     ]
    },
    {
     "name": "stderr",
     "output_type": "stream",
     "text": [
      "Page 199/385 - Total cars: 4946:  52%|█████▏    | 199/385 [25:34:13<11:27:08, 221.66s/it]"
     ]
    },
    {
     "name": "stdout",
     "output_type": "stream",
     "text": [
      "Processed 25 cars from page 199\n",
      "Saved checkpoint with 4971 total car records\n",
      "\n",
      "Scraping page 200: https://www.sbtjapan.com/used-cars/?custom_search=japan_inventory&location=japan&p_num=200#listbox\n"
     ]
    },
    {
     "name": "stderr",
     "output_type": "stream",
     "text": [
      "Page 200/385 - Total cars: 4971:  52%|█████▏    | 200/385 [25:37:59<11:27:26, 222.95s/it]"
     ]
    },
    {
     "name": "stdout",
     "output_type": "stream",
     "text": [
      "Processed 25 cars from page 200\n",
      "Saved checkpoint with 4996 total car records\n",
      "\n",
      "Scraping page 201: https://www.sbtjapan.com/used-cars/?custom_search=japan_inventory&location=japan&p_num=201#listbox\n"
     ]
    },
    {
     "name": "stderr",
     "output_type": "stream",
     "text": [
      "Page 201/385 - Total cars: 4996:  52%|█████▏    | 201/385 [25:41:16<10:59:53, 215.18s/it]"
     ]
    },
    {
     "name": "stdout",
     "output_type": "stream",
     "text": [
      "Processed 25 cars from page 201\n",
      "Saved checkpoint with 5021 total car records\n",
      "\n",
      "Scraping page 202: https://www.sbtjapan.com/used-cars/?custom_search=japan_inventory&location=japan&p_num=202#listbox\n"
     ]
    },
    {
     "name": "stderr",
     "output_type": "stream",
     "text": [
      "Page 202/385 - Total cars: 5021:  52%|█████▏    | 202/385 [25:44:48<10:53:17, 214.20s/it]"
     ]
    },
    {
     "name": "stdout",
     "output_type": "stream",
     "text": [
      "Processed 25 cars from page 202\n",
      "Saved checkpoint with 5046 total car records\n",
      "\n",
      "Scraping page 203: https://www.sbtjapan.com/used-cars/?custom_search=japan_inventory&location=japan&p_num=203#listbox\n"
     ]
    },
    {
     "name": "stderr",
     "output_type": "stream",
     "text": [
      "Page 203/385 - Total cars: 5046:  53%|█████▎    | 203/385 [25:48:11<10:39:18, 210.76s/it]"
     ]
    },
    {
     "name": "stdout",
     "output_type": "stream",
     "text": [
      "Processed 25 cars from page 203\n",
      "Saved checkpoint with 5071 total car records\n",
      "\n",
      "Scraping page 204: https://www.sbtjapan.com/used-cars/?custom_search=japan_inventory&location=japan&p_num=204#listbox\n"
     ]
    },
    {
     "name": "stderr",
     "output_type": "stream",
     "text": [
      "Page 204/385 - Total cars: 5071:  53%|█████▎    | 204/385 [25:51:31<10:26:03, 207.53s/it]"
     ]
    },
    {
     "name": "stdout",
     "output_type": "stream",
     "text": [
      "Processed 25 cars from page 204\n",
      "Saved checkpoint with 5096 total car records\n",
      "\n",
      "Scraping page 205: https://www.sbtjapan.com/used-cars/?custom_search=japan_inventory&location=japan&p_num=205#listbox\n"
     ]
    },
    {
     "name": "stderr",
     "output_type": "stream",
     "text": [
      "Page 205/385 - Total cars: 5096:  53%|█████▎    | 205/385 [25:54:46<10:11:51, 203.95s/it]"
     ]
    },
    {
     "name": "stdout",
     "output_type": "stream",
     "text": [
      "Processed 25 cars from page 205\n",
      "Saved checkpoint with 5121 total car records\n",
      "\n",
      "Scraping page 206: https://www.sbtjapan.com/used-cars/?custom_search=japan_inventory&location=japan&p_num=206#listbox\n"
     ]
    },
    {
     "name": "stderr",
     "output_type": "stream",
     "text": [
      "Page 206/385 - Total cars: 5121:  54%|█████▎    | 206/385 [25:58:08<10:06:34, 203.32s/it]"
     ]
    },
    {
     "name": "stdout",
     "output_type": "stream",
     "text": [
      "Processed 25 cars from page 206\n",
      "Saved checkpoint with 5146 total car records\n",
      "\n",
      "Scraping page 207: https://www.sbtjapan.com/used-cars/?custom_search=japan_inventory&location=japan&p_num=207#listbox\n"
     ]
    },
    {
     "name": "stderr",
     "output_type": "stream",
     "text": [
      "Page 207/385 - Total cars: 5146:  54%|█████▍    | 207/385 [26:01:24<9:56:09, 200.95s/it] "
     ]
    },
    {
     "name": "stdout",
     "output_type": "stream",
     "text": [
      "Processed 25 cars from page 207\n",
      "Saved checkpoint with 5171 total car records\n",
      "\n",
      "Scraping page 208: https://www.sbtjapan.com/used-cars/?custom_search=japan_inventory&location=japan&p_num=208#listbox\n"
     ]
    },
    {
     "name": "stderr",
     "output_type": "stream",
     "text": [
      "Page 208/385 - Total cars: 5171:  54%|█████▍    | 208/385 [26:04:44<9:52:25, 200.82s/it]"
     ]
    },
    {
     "name": "stdout",
     "output_type": "stream",
     "text": [
      "Processed 25 cars from page 208\n",
      "Saved checkpoint with 5196 total car records\n",
      "\n",
      "Scraping page 209: https://www.sbtjapan.com/used-cars/?custom_search=japan_inventory&location=japan&p_num=209#listbox\n"
     ]
    },
    {
     "name": "stderr",
     "output_type": "stream",
     "text": [
      "Page 209/385 - Total cars: 5196:  54%|█████▍    | 209/385 [26:08:11<9:54:43, 202.75s/it]"
     ]
    },
    {
     "name": "stdout",
     "output_type": "stream",
     "text": [
      "Processed 25 cars from page 209\n",
      "Saved checkpoint with 5221 total car records\n",
      "\n",
      "Scraping page 210: https://www.sbtjapan.com/used-cars/?custom_search=japan_inventory&location=japan&p_num=210#listbox\n"
     ]
    },
    {
     "name": "stderr",
     "output_type": "stream",
     "text": [
      "Page 210/385 - Total cars: 5221:  55%|█████▍    | 210/385 [26:11:32<9:49:21, 202.07s/it]"
     ]
    },
    {
     "name": "stdout",
     "output_type": "stream",
     "text": [
      "Processed 25 cars from page 210\n",
      "Saved checkpoint with 5246 total car records\n",
      "\n",
      "Scraping page 211: https://www.sbtjapan.com/used-cars/?custom_search=japan_inventory&location=japan&p_num=211#listbox\n"
     ]
    },
    {
     "name": "stderr",
     "output_type": "stream",
     "text": [
      "Page 211/385 - Total cars: 5246:  55%|█████▍    | 211/385 [26:14:40<9:33:31, 197.77s/it]"
     ]
    },
    {
     "name": "stdout",
     "output_type": "stream",
     "text": [
      "Processed 25 cars from page 211\n",
      "Saved checkpoint with 5271 total car records\n",
      "\n",
      "Scraping page 212: https://www.sbtjapan.com/used-cars/?custom_search=japan_inventory&location=japan&p_num=212#listbox\n"
     ]
    },
    {
     "name": "stderr",
     "output_type": "stream",
     "text": [
      "Page 212/385 - Total cars: 5271:  55%|█████▌    | 212/385 [26:17:38<9:13:22, 191.92s/it]"
     ]
    },
    {
     "name": "stdout",
     "output_type": "stream",
     "text": [
      "Processed 25 cars from page 212\n",
      "Saved checkpoint with 5296 total car records\n",
      "\n",
      "Scraping page 213: https://www.sbtjapan.com/used-cars/?custom_search=japan_inventory&location=japan&p_num=213#listbox\n"
     ]
    },
    {
     "name": "stderr",
     "output_type": "stream",
     "text": [
      "Page 213/385 - Total cars: 5296:  55%|█████▌    | 213/385 [26:21:05<9:23:07, 196.44s/it]"
     ]
    },
    {
     "name": "stdout",
     "output_type": "stream",
     "text": [
      "Processed 25 cars from page 213\n",
      "Saved checkpoint with 5321 total car records\n",
      "\n",
      "Scraping page 214: https://www.sbtjapan.com/used-cars/?custom_search=japan_inventory&location=japan&p_num=214#listbox\n"
     ]
    },
    {
     "name": "stderr",
     "output_type": "stream",
     "text": [
      "Page 214/385 - Total cars: 5321:  56%|█████▌    | 214/385 [26:24:24<9:22:08, 197.24s/it]"
     ]
    },
    {
     "name": "stdout",
     "output_type": "stream",
     "text": [
      "Processed 25 cars from page 214\n",
      "Saved checkpoint with 5346 total car records\n",
      "\n",
      "Scraping page 215: https://www.sbtjapan.com/used-cars/?custom_search=japan_inventory&location=japan&p_num=215#listbox\n"
     ]
    },
    {
     "name": "stderr",
     "output_type": "stream",
     "text": [
      "Page 215/385 - Total cars: 5346:  56%|█████▌    | 215/385 [26:27:25<9:05:28, 192.52s/it]"
     ]
    },
    {
     "name": "stdout",
     "output_type": "stream",
     "text": [
      "Processed 25 cars from page 215\n",
      "Saved checkpoint with 5371 total car records\n",
      "\n",
      "Scraping page 216: https://www.sbtjapan.com/used-cars/?custom_search=japan_inventory&location=japan&p_num=216#listbox\n"
     ]
    },
    {
     "name": "stderr",
     "output_type": "stream",
     "text": [
      "Page 216/385 - Total cars: 5371:  56%|█████▌    | 216/385 [26:30:21<8:48:17, 187.56s/it]"
     ]
    },
    {
     "name": "stdout",
     "output_type": "stream",
     "text": [
      "Processed 25 cars from page 216\n",
      "Saved checkpoint with 5396 total car records\n",
      "\n",
      "Scraping page 217: https://www.sbtjapan.com/used-cars/?custom_search=japan_inventory&location=japan&p_num=217#listbox\n"
     ]
    },
    {
     "name": "stderr",
     "output_type": "stream",
     "text": [
      "Page 217/385 - Total cars: 5396:  56%|█████▋    | 217/385 [26:33:21<8:38:49, 185.29s/it]"
     ]
    },
    {
     "name": "stdout",
     "output_type": "stream",
     "text": [
      "Processed 25 cars from page 217\n",
      "Saved checkpoint with 5421 total car records\n",
      "\n",
      "Scraping page 218: https://www.sbtjapan.com/used-cars/?custom_search=japan_inventory&location=japan&p_num=218#listbox\n"
     ]
    },
    {
     "name": "stderr",
     "output_type": "stream",
     "text": [
      "Page 218/385 - Total cars: 5421:  57%|█████▋    | 218/385 [26:36:17<8:27:17, 182.26s/it]"
     ]
    },
    {
     "name": "stdout",
     "output_type": "stream",
     "text": [
      "Processed 25 cars from page 218\n",
      "Saved checkpoint with 5446 total car records\n",
      "\n",
      "Scraping page 219: https://www.sbtjapan.com/used-cars/?custom_search=japan_inventory&location=japan&p_num=219#listbox\n"
     ]
    },
    {
     "name": "stderr",
     "output_type": "stream",
     "text": [
      "Page 219/385 - Total cars: 5446:  57%|█████▋    | 219/385 [26:39:16<8:21:55, 181.42s/it]"
     ]
    },
    {
     "name": "stdout",
     "output_type": "stream",
     "text": [
      "Processed 25 cars from page 219\n",
      "Saved checkpoint with 5471 total car records\n",
      "\n",
      "Scraping page 220: https://www.sbtjapan.com/used-cars/?custom_search=japan_inventory&location=japan&p_num=220#listbox\n"
     ]
    },
    {
     "name": "stderr",
     "output_type": "stream",
     "text": [
      "Page 220/385 - Total cars: 5471:  57%|█████▋    | 220/385 [26:42:14<8:15:59, 180.36s/it]"
     ]
    },
    {
     "name": "stdout",
     "output_type": "stream",
     "text": [
      "Processed 25 cars from page 220\n",
      "Saved checkpoint with 5496 total car records\n",
      "\n",
      "Scraping page 221: https://www.sbtjapan.com/used-cars/?custom_search=japan_inventory&location=japan&p_num=221#listbox\n"
     ]
    },
    {
     "name": "stderr",
     "output_type": "stream",
     "text": [
      "Page 221/385 - Total cars: 5496:  57%|█████▋    | 221/385 [26:45:24<8:20:48, 183.22s/it]"
     ]
    },
    {
     "name": "stdout",
     "output_type": "stream",
     "text": [
      "Processed 25 cars from page 221\n",
      "Saved checkpoint with 5521 total car records\n",
      "\n",
      "Scraping page 222: https://www.sbtjapan.com/used-cars/?custom_search=japan_inventory&location=japan&p_num=222#listbox\n"
     ]
    },
    {
     "name": "stderr",
     "output_type": "stream",
     "text": [
      "Page 222/385 - Total cars: 5521:  58%|█████▊    | 222/385 [26:48:56<8:41:03, 191.80s/it]"
     ]
    },
    {
     "name": "stdout",
     "output_type": "stream",
     "text": [
      "Processed 25 cars from page 222\n",
      "Saved checkpoint with 5546 total car records\n",
      "\n",
      "Scraping page 223: https://www.sbtjapan.com/used-cars/?custom_search=japan_inventory&location=japan&p_num=223#listbox\n"
     ]
    },
    {
     "name": "stderr",
     "output_type": "stream",
     "text": [
      "Page 223/385 - Total cars: 5546:  58%|█████▊    | 223/385 [26:52:12<8:41:28, 193.14s/it]"
     ]
    },
    {
     "name": "stdout",
     "output_type": "stream",
     "text": [
      "Processed 25 cars from page 223\n",
      "Saved checkpoint with 5571 total car records\n",
      "\n",
      "Scraping page 224: https://www.sbtjapan.com/used-cars/?custom_search=japan_inventory&location=japan&p_num=224#listbox\n"
     ]
    },
    {
     "name": "stderr",
     "output_type": "stream",
     "text": [
      "Page 224/385 - Total cars: 5571:  58%|█████▊    | 224/385 [26:55:32<8:44:12, 195.36s/it]"
     ]
    },
    {
     "name": "stdout",
     "output_type": "stream",
     "text": [
      "Processed 25 cars from page 224\n",
      "Saved checkpoint with 5596 total car records\n",
      "\n",
      "Scraping page 225: https://www.sbtjapan.com/used-cars/?custom_search=japan_inventory&location=japan&p_num=225#listbox\n"
     ]
    },
    {
     "name": "stderr",
     "output_type": "stream",
     "text": [
      "Page 225/385 - Total cars: 5596:  58%|█████▊    | 225/385 [26:58:57<8:47:58, 197.99s/it]"
     ]
    },
    {
     "name": "stdout",
     "output_type": "stream",
     "text": [
      "Processed 25 cars from page 225\n",
      "Saved checkpoint with 5621 total car records\n",
      "\n",
      "Scraping page 226: https://www.sbtjapan.com/used-cars/?custom_search=japan_inventory&location=japan&p_num=226#listbox\n"
     ]
    },
    {
     "name": "stderr",
     "output_type": "stream",
     "text": [
      "Page 226/385 - Total cars: 5621:  59%|█████▊    | 226/385 [27:02:02<8:34:29, 194.15s/it]"
     ]
    },
    {
     "name": "stdout",
     "output_type": "stream",
     "text": [
      "Processed 25 cars from page 226\n",
      "Saved checkpoint with 5646 total car records\n",
      "\n",
      "Scraping page 227: https://www.sbtjapan.com/used-cars/?custom_search=japan_inventory&location=japan&p_num=227#listbox\n"
     ]
    },
    {
     "name": "stderr",
     "output_type": "stream",
     "text": [
      "Page 227/385 - Total cars: 5646:  59%|█████▉    | 227/385 [27:05:12<8:27:50, 192.85s/it]"
     ]
    },
    {
     "name": "stdout",
     "output_type": "stream",
     "text": [
      "Processed 25 cars from page 227\n",
      "Saved checkpoint with 5671 total car records\n",
      "\n",
      "Scraping page 228: https://www.sbtjapan.com/used-cars/?custom_search=japan_inventory&location=japan&p_num=228#listbox\n"
     ]
    },
    {
     "name": "stderr",
     "output_type": "stream",
     "text": [
      "Page 228/385 - Total cars: 5671:  59%|█████▉    | 228/385 [27:16:00<14:22:26, 329.60s/it]"
     ]
    },
    {
     "name": "stdout",
     "output_type": "stream",
     "text": [
      "Processed 25 cars from page 228\n",
      "Saved checkpoint with 5696 total car records\n",
      "\n",
      "Scraping page 229: https://www.sbtjapan.com/used-cars/?custom_search=japan_inventory&location=japan&p_num=229#listbox\n"
     ]
    },
    {
     "name": "stderr",
     "output_type": "stream",
     "text": [
      "Page 229/385 - Total cars: 5696:  59%|█████▉    | 229/385 [27:20:23<13:25:09, 309.68s/it]"
     ]
    },
    {
     "name": "stdout",
     "output_type": "stream",
     "text": [
      "Processed 25 cars from page 229\n",
      "Saved checkpoint with 5721 total car records\n",
      "\n",
      "Scraping page 230: https://www.sbtjapan.com/used-cars/?custom_search=japan_inventory&location=japan&p_num=230#listbox\n"
     ]
    },
    {
     "name": "stderr",
     "output_type": "stream",
     "text": [
      "Page 230/385 - Total cars: 5721:  60%|█████▉    | 230/385 [27:23:55<12:03:35, 280.10s/it]"
     ]
    },
    {
     "name": "stdout",
     "output_type": "stream",
     "text": [
      "Processed 25 cars from page 230\n",
      "Saved checkpoint with 5746 total car records\n",
      "\n",
      "Scraping page 231: https://www.sbtjapan.com/used-cars/?custom_search=japan_inventory&location=japan&p_num=231#listbox\n"
     ]
    },
    {
     "name": "stderr",
     "output_type": "stream",
     "text": [
      "Page 231/385 - Total cars: 5746:  60%|██████    | 231/385 [27:27:13<10:55:42, 255.47s/it]"
     ]
    },
    {
     "name": "stdout",
     "output_type": "stream",
     "text": [
      "Processed 25 cars from page 231\n",
      "Saved checkpoint with 5771 total car records\n",
      "\n",
      "Scraping page 232: https://www.sbtjapan.com/used-cars/?custom_search=japan_inventory&location=japan&p_num=232#listbox\n"
     ]
    },
    {
     "name": "stderr",
     "output_type": "stream",
     "text": [
      "Page 232/385 - Total cars: 5771:  60%|██████    | 232/385 [27:30:29<10:05:57, 237.63s/it]"
     ]
    },
    {
     "name": "stdout",
     "output_type": "stream",
     "text": [
      "Processed 25 cars from page 232\n",
      "Saved checkpoint with 5796 total car records\n",
      "\n",
      "Scraping page 233: https://www.sbtjapan.com/used-cars/?custom_search=japan_inventory&location=japan&p_num=233#listbox\n"
     ]
    },
    {
     "name": "stderr",
     "output_type": "stream",
     "text": [
      "Page 233/385 - Total cars: 5796:  61%|██████    | 233/385 [27:33:47<9:32:18, 225.91s/it] "
     ]
    },
    {
     "name": "stdout",
     "output_type": "stream",
     "text": [
      "Processed 25 cars from page 233\n",
      "Saved checkpoint with 5821 total car records\n",
      "\n",
      "Scraping page 234: https://www.sbtjapan.com/used-cars/?custom_search=japan_inventory&location=japan&p_num=234#listbox\n"
     ]
    },
    {
     "name": "stderr",
     "output_type": "stream",
     "text": [
      "Page 234/385 - Total cars: 5821:  61%|██████    | 234/385 [27:37:18<9:16:54, 221.29s/it]"
     ]
    },
    {
     "name": "stdout",
     "output_type": "stream",
     "text": [
      "Processed 25 cars from page 234\n",
      "Saved checkpoint with 5846 total car records\n",
      "\n",
      "Scraping page 235: https://www.sbtjapan.com/used-cars/?custom_search=japan_inventory&location=japan&p_num=235#listbox\n"
     ]
    },
    {
     "name": "stderr",
     "output_type": "stream",
     "text": [
      "Page 235/385 - Total cars: 5846:  61%|██████    | 235/385 [27:40:44<9:01:44, 216.69s/it]"
     ]
    },
    {
     "name": "stdout",
     "output_type": "stream",
     "text": [
      "Processed 25 cars from page 235\n",
      "Saved checkpoint with 5871 total car records\n",
      "\n",
      "Scraping page 236: https://www.sbtjapan.com/used-cars/?custom_search=japan_inventory&location=japan&p_num=236#listbox\n"
     ]
    },
    {
     "name": "stderr",
     "output_type": "stream",
     "text": [
      "Page 236/385 - Total cars: 5871:  61%|██████▏   | 236/385 [27:44:06<8:47:14, 212.31s/it]"
     ]
    },
    {
     "name": "stdout",
     "output_type": "stream",
     "text": [
      "Processed 25 cars from page 236\n",
      "Saved checkpoint with 5896 total car records\n",
      "\n",
      "Scraping page 237: https://www.sbtjapan.com/used-cars/?custom_search=japan_inventory&location=japan&p_num=237#listbox\n"
     ]
    },
    {
     "name": "stderr",
     "output_type": "stream",
     "text": [
      "Page 237/385 - Total cars: 5896:  62%|██████▏   | 237/385 [27:47:24<8:33:33, 208.20s/it]"
     ]
    },
    {
     "name": "stdout",
     "output_type": "stream",
     "text": [
      "Processed 25 cars from page 237\n",
      "Saved checkpoint with 5921 total car records\n",
      "\n",
      "Scraping page 238: https://www.sbtjapan.com/used-cars/?custom_search=japan_inventory&location=japan&p_num=238#listbox\n"
     ]
    },
    {
     "name": "stderr",
     "output_type": "stream",
     "text": [
      "Page 238/385 - Total cars: 5921:  62%|██████▏   | 238/385 [27:51:17<8:47:51, 215.45s/it]"
     ]
    },
    {
     "name": "stdout",
     "output_type": "stream",
     "text": [
      "Processed 25 cars from page 238\n",
      "Saved checkpoint with 5946 total car records\n",
      "\n",
      "Scraping page 239: https://www.sbtjapan.com/used-cars/?custom_search=japan_inventory&location=japan&p_num=239#listbox\n"
     ]
    },
    {
     "name": "stderr",
     "output_type": "stream",
     "text": [
      "Page 239/385 - Total cars: 5946:  62%|██████▏   | 239/385 [27:55:10<8:57:19, 220.82s/it]"
     ]
    },
    {
     "name": "stdout",
     "output_type": "stream",
     "text": [
      "Processed 25 cars from page 239\n",
      "Saved checkpoint with 5971 total car records\n",
      "\n",
      "Scraping page 240: https://www.sbtjapan.com/used-cars/?custom_search=japan_inventory&location=japan&p_num=240#listbox\n"
     ]
    },
    {
     "name": "stderr",
     "output_type": "stream",
     "text": [
      "Page 240/385 - Total cars: 5971:  62%|██████▏   | 240/385 [27:58:48<8:51:48, 220.06s/it]"
     ]
    },
    {
     "name": "stdout",
     "output_type": "stream",
     "text": [
      "Processed 25 cars from page 240\n",
      "Saved checkpoint with 5996 total car records\n",
      "\n",
      "Scraping page 241: https://www.sbtjapan.com/used-cars/?custom_search=japan_inventory&location=japan&p_num=241#listbox\n"
     ]
    },
    {
     "name": "stderr",
     "output_type": "stream",
     "text": [
      "Page 241/385 - Total cars: 5996:  63%|██████▎   | 241/385 [28:02:33<8:51:17, 221.37s/it]"
     ]
    },
    {
     "name": "stdout",
     "output_type": "stream",
     "text": [
      "Processed 25 cars from page 241\n",
      "Saved checkpoint with 6021 total car records\n",
      "\n",
      "Scraping page 242: https://www.sbtjapan.com/used-cars/?custom_search=japan_inventory&location=japan&p_num=242#listbox\n"
     ]
    },
    {
     "name": "stderr",
     "output_type": "stream",
     "text": [
      "Page 242/385 - Total cars: 6021:  63%|██████▎   | 242/385 [28:34:04<28:41:52, 722.47s/it]"
     ]
    },
    {
     "name": "stdout",
     "output_type": "stream",
     "text": [
      "Processed 25 cars from page 242\n",
      "Saved checkpoint with 6046 total car records\n",
      "\n",
      "Scraping page 243: https://www.sbtjapan.com/used-cars/?custom_search=japan_inventory&location=japan&p_num=243#listbox\n"
     ]
    },
    {
     "name": "stderr",
     "output_type": "stream",
     "text": [
      "Page 243/385 - Total cars: 6046:  63%|██████▎   | 243/385 [28:37:36<22:27:08, 569.22s/it]"
     ]
    },
    {
     "name": "stdout",
     "output_type": "stream",
     "text": [
      "Processed 25 cars from page 243\n",
      "Saved checkpoint with 6071 total car records\n",
      "\n",
      "Scraping page 244: https://www.sbtjapan.com/used-cars/?custom_search=japan_inventory&location=japan&p_num=244#listbox\n"
     ]
    },
    {
     "name": "stderr",
     "output_type": "stream",
     "text": [
      "Page 244/385 - Total cars: 6071:  63%|██████▎   | 244/385 [28:40:46<17:50:27, 455.52s/it]"
     ]
    },
    {
     "name": "stdout",
     "output_type": "stream",
     "text": [
      "Processed 25 cars from page 244\n",
      "Saved checkpoint with 6096 total car records\n",
      "\n",
      "Scraping page 245: https://www.sbtjapan.com/used-cars/?custom_search=japan_inventory&location=japan&p_num=245#listbox\n"
     ]
    },
    {
     "name": "stderr",
     "output_type": "stream",
     "text": [
      "Page 245/385 - Total cars: 6096:  64%|██████▎   | 245/385 [28:44:02<14:40:43, 377.45s/it]"
     ]
    },
    {
     "name": "stdout",
     "output_type": "stream",
     "text": [
      "Processed 25 cars from page 245\n",
      "Saved checkpoint with 6121 total car records\n",
      "\n",
      "Scraping page 246: https://www.sbtjapan.com/used-cars/?custom_search=japan_inventory&location=japan&p_num=246#listbox\n"
     ]
    },
    {
     "name": "stderr",
     "output_type": "stream",
     "text": [
      "Page 246/385 - Total cars: 6121:  64%|██████▍   | 246/385 [28:47:15<12:26:52, 322.39s/it]"
     ]
    },
    {
     "name": "stdout",
     "output_type": "stream",
     "text": [
      "Processed 25 cars from page 246\n",
      "Saved checkpoint with 6146 total car records\n",
      "\n",
      "Scraping page 247: https://www.sbtjapan.com/used-cars/?custom_search=japan_inventory&location=japan&p_num=247#listbox\n"
     ]
    },
    {
     "name": "stderr",
     "output_type": "stream",
     "text": [
      "Page 247/385 - Total cars: 6146:  64%|██████▍   | 247/385 [28:50:54<11:09:57, 291.28s/it]"
     ]
    },
    {
     "name": "stdout",
     "output_type": "stream",
     "text": [
      "Processed 25 cars from page 247\n",
      "Saved checkpoint with 6171 total car records\n",
      "\n",
      "Scraping page 248: https://www.sbtjapan.com/used-cars/?custom_search=japan_inventory&location=japan&p_num=248#listbox\n"
     ]
    },
    {
     "name": "stderr",
     "output_type": "stream",
     "text": [
      "Page 248/385 - Total cars: 6171:  64%|██████▍   | 248/385 [28:54:10<9:59:31, 262.57s/it] "
     ]
    },
    {
     "name": "stdout",
     "output_type": "stream",
     "text": [
      "Processed 25 cars from page 248\n",
      "Saved checkpoint with 6196 total car records\n",
      "\n",
      "Scraping page 249: https://www.sbtjapan.com/used-cars/?custom_search=japan_inventory&location=japan&p_num=249#listbox\n"
     ]
    },
    {
     "name": "stderr",
     "output_type": "stream",
     "text": [
      "Page 249/385 - Total cars: 6196:  65%|██████▍   | 249/385 [28:57:51<9:27:03, 250.17s/it]"
     ]
    },
    {
     "name": "stdout",
     "output_type": "stream",
     "text": [
      "Processed 25 cars from page 249\n",
      "Saved checkpoint with 6221 total car records\n",
      "\n",
      "Scraping page 250: https://www.sbtjapan.com/used-cars/?custom_search=japan_inventory&location=japan&p_num=250#listbox\n"
     ]
    },
    {
     "name": "stderr",
     "output_type": "stream",
     "text": [
      "Page 250/385 - Total cars: 6221:  65%|██████▍   | 250/385 [29:00:59<8:40:40, 231.41s/it]"
     ]
    },
    {
     "name": "stdout",
     "output_type": "stream",
     "text": [
      "Processed 25 cars from page 250\n",
      "Saved checkpoint with 6246 total car records\n",
      "\n",
      "Scraping page 251: https://www.sbtjapan.com/used-cars/?custom_search=japan_inventory&location=japan&p_num=251#listbox\n"
     ]
    },
    {
     "name": "stderr",
     "output_type": "stream",
     "text": [
      "Page 251/385 - Total cars: 6246:  65%|██████▌   | 251/385 [29:04:14<8:12:59, 220.75s/it]"
     ]
    },
    {
     "name": "stdout",
     "output_type": "stream",
     "text": [
      "Processed 25 cars from page 251\n",
      "Saved checkpoint with 6271 total car records\n",
      "\n",
      "Scraping page 252: https://www.sbtjapan.com/used-cars/?custom_search=japan_inventory&location=japan&p_num=252#listbox\n"
     ]
    },
    {
     "name": "stderr",
     "output_type": "stream",
     "text": [
      "Page 252/385 - Total cars: 6271:  65%|██████▌   | 252/385 [29:07:30<7:52:14, 213.04s/it]"
     ]
    },
    {
     "name": "stdout",
     "output_type": "stream",
     "text": [
      "Processed 25 cars from page 252\n",
      "Saved checkpoint with 6296 total car records\n",
      "\n",
      "Scraping page 253: https://www.sbtjapan.com/used-cars/?custom_search=japan_inventory&location=japan&p_num=253#listbox\n"
     ]
    },
    {
     "name": "stderr",
     "output_type": "stream",
     "text": [
      "Page 253/385 - Total cars: 6296:  66%|██████▌   | 253/385 [29:10:56<7:44:07, 210.96s/it]"
     ]
    },
    {
     "name": "stdout",
     "output_type": "stream",
     "text": [
      "Processed 25 cars from page 253\n",
      "Saved checkpoint with 6321 total car records\n",
      "\n",
      "Scraping page 254: https://www.sbtjapan.com/used-cars/?custom_search=japan_inventory&location=japan&p_num=254#listbox\n"
     ]
    },
    {
     "name": "stderr",
     "output_type": "stream",
     "text": [
      "Page 254/385 - Total cars: 6321:  66%|██████▌   | 254/385 [29:14:21<7:36:54, 209.27s/it]"
     ]
    },
    {
     "name": "stdout",
     "output_type": "stream",
     "text": [
      "Processed 25 cars from page 254\n",
      "Saved checkpoint with 6346 total car records\n",
      "\n",
      "Scraping page 255: https://www.sbtjapan.com/used-cars/?custom_search=japan_inventory&location=japan&p_num=255#listbox\n"
     ]
    },
    {
     "name": "stderr",
     "output_type": "stream",
     "text": [
      "Page 255/385 - Total cars: 6346:  66%|██████▌   | 255/385 [36:21:14<282:45:48, 7830.37s/it]"
     ]
    },
    {
     "name": "stdout",
     "output_type": "stream",
     "text": [
      "Processed 25 cars from page 255\n",
      "Saved checkpoint with 6371 total car records\n",
      "\n",
      "Scraping page 256: https://www.sbtjapan.com/used-cars/?custom_search=japan_inventory&location=japan&p_num=256#listbox\n"
     ]
    },
    {
     "name": "stderr",
     "output_type": "stream",
     "text": [
      "Page 256/385 - Total cars: 6371:  66%|██████▋   | 256/385 [36:24:09<198:17:22, 5533.66s/it]"
     ]
    },
    {
     "name": "stdout",
     "output_type": "stream",
     "text": [
      "Processed 25 cars from page 256\n",
      "Saved checkpoint with 6396 total car records\n",
      "\n",
      "Scraping page 257: https://www.sbtjapan.com/used-cars/?custom_search=japan_inventory&location=japan&p_num=257#listbox\n"
     ]
    },
    {
     "name": "stderr",
     "output_type": "stream",
     "text": [
      "Page 257/385 - Total cars: 6396:  67%|██████▋   | 257/385 [36:27:04<139:35:34, 3926.05s/it]"
     ]
    },
    {
     "name": "stdout",
     "output_type": "stream",
     "text": [
      "Processed 25 cars from page 257\n",
      "Saved checkpoint with 6421 total car records\n",
      "\n",
      "Scraping page 258: https://www.sbtjapan.com/used-cars/?custom_search=japan_inventory&location=japan&p_num=258#listbox\n"
     ]
    },
    {
     "name": "stderr",
     "output_type": "stream",
     "text": [
      "Page 258/385 - Total cars: 6421:  67%|██████▋   | 258/385 [36:29:57<98:46:58, 2800.15s/it] "
     ]
    },
    {
     "name": "stdout",
     "output_type": "stream",
     "text": [
      "Processed 25 cars from page 258\n",
      "Saved checkpoint with 6446 total car records\n",
      "\n",
      "Scraping page 259: https://www.sbtjapan.com/used-cars/?custom_search=japan_inventory&location=japan&p_num=259#listbox\n"
     ]
    },
    {
     "name": "stderr",
     "output_type": "stream",
     "text": [
      "Page 259/385 - Total cars: 6446:  67%|██████▋   | 259/385 [36:32:51<70:26:08, 2012.45s/it]"
     ]
    },
    {
     "name": "stdout",
     "output_type": "stream",
     "text": [
      "Processed 25 cars from page 259\n",
      "Saved checkpoint with 6471 total car records\n",
      "\n",
      "Scraping page 260: https://www.sbtjapan.com/used-cars/?custom_search=japan_inventory&location=japan&p_num=260#listbox\n"
     ]
    },
    {
     "name": "stderr",
     "output_type": "stream",
     "text": [
      "Page 260/385 - Total cars: 6471:  68%|██████▊   | 260/385 [36:35:50<50:46:31, 1462.33s/it]"
     ]
    },
    {
     "name": "stdout",
     "output_type": "stream",
     "text": [
      "Processed 25 cars from page 260\n",
      "Saved checkpoint with 6496 total car records\n",
      "\n",
      "Scraping page 261: https://www.sbtjapan.com/used-cars/?custom_search=japan_inventory&location=japan&p_num=261#listbox\n"
     ]
    },
    {
     "name": "stderr",
     "output_type": "stream",
     "text": [
      "Page 261/385 - Total cars: 6496:  68%|██████▊   | 261/385 [36:38:43<37:02:38, 1075.47s/it]"
     ]
    },
    {
     "name": "stdout",
     "output_type": "stream",
     "text": [
      "Processed 25 cars from page 261\n",
      "Saved checkpoint with 6521 total car records\n",
      "\n",
      "Scraping page 262: https://www.sbtjapan.com/used-cars/?custom_search=japan_inventory&location=japan&p_num=262#listbox\n"
     ]
    },
    {
     "name": "stderr",
     "output_type": "stream",
     "text": [
      "Page 262/385 - Total cars: 6521:  68%|██████▊   | 262/385 [36:41:33<27:28:23, 804.10s/it] "
     ]
    },
    {
     "name": "stdout",
     "output_type": "stream",
     "text": [
      "Processed 25 cars from page 262\n",
      "Saved checkpoint with 6546 total car records\n",
      "\n",
      "Scraping page 263: https://www.sbtjapan.com/used-cars/?custom_search=japan_inventory&location=japan&p_num=263#listbox\n"
     ]
    },
    {
     "name": "stderr",
     "output_type": "stream",
     "text": [
      "Page 263/385 - Total cars: 6546:  68%|██████▊   | 263/385 [36:44:25<20:48:53, 614.21s/it]"
     ]
    },
    {
     "name": "stdout",
     "output_type": "stream",
     "text": [
      "Processed 25 cars from page 263\n",
      "Saved checkpoint with 6571 total car records\n",
      "\n",
      "Scraping page 264: https://www.sbtjapan.com/used-cars/?custom_search=japan_inventory&location=japan&p_num=264#listbox\n"
     ]
    },
    {
     "name": "stderr",
     "output_type": "stream",
     "text": [
      "Page 264/385 - Total cars: 6571:  69%|██████▊   | 264/385 [36:47:23<16:15:01, 483.48s/it]"
     ]
    },
    {
     "name": "stdout",
     "output_type": "stream",
     "text": [
      "Processed 25 cars from page 264\n",
      "Saved checkpoint with 6596 total car records\n",
      "\n",
      "Scraping page 265: https://www.sbtjapan.com/used-cars/?custom_search=japan_inventory&location=japan&p_num=265#listbox\n"
     ]
    },
    {
     "name": "stderr",
     "output_type": "stream",
     "text": [
      "Page 265/385 - Total cars: 6596:  69%|██████▉   | 265/385 [36:50:17<13:01:20, 390.67s/it]"
     ]
    },
    {
     "name": "stdout",
     "output_type": "stream",
     "text": [
      "Processed 25 cars from page 265\n",
      "Saved checkpoint with 6621 total car records\n",
      "\n",
      "Scraping page 266: https://www.sbtjapan.com/used-cars/?custom_search=japan_inventory&location=japan&p_num=266#listbox\n"
     ]
    },
    {
     "name": "stderr",
     "output_type": "stream",
     "text": [
      "Page 266/385 - Total cars: 6621:  69%|██████▉   | 266/385 [36:53:12<10:46:39, 326.04s/it]"
     ]
    },
    {
     "name": "stdout",
     "output_type": "stream",
     "text": [
      "Processed 25 cars from page 266\n",
      "Saved checkpoint with 6646 total car records\n",
      "\n",
      "Scraping page 267: https://www.sbtjapan.com/used-cars/?custom_search=japan_inventory&location=japan&p_num=267#listbox\n"
     ]
    },
    {
     "name": "stderr",
     "output_type": "stream",
     "text": [
      "Page 267/385 - Total cars: 6646:  69%|██████▉   | 267/385 [36:56:07<9:11:52, 280.61s/it] "
     ]
    },
    {
     "name": "stdout",
     "output_type": "stream",
     "text": [
      "Processed 25 cars from page 267\n",
      "Saved checkpoint with 6671 total car records\n",
      "\n",
      "Scraping page 268: https://www.sbtjapan.com/used-cars/?custom_search=japan_inventory&location=japan&p_num=268#listbox\n"
     ]
    },
    {
     "name": "stderr",
     "output_type": "stream",
     "text": [
      "Page 268/385 - Total cars: 6671:  70%|██████▉   | 268/385 [36:59:02<8:05:37, 249.04s/it]"
     ]
    },
    {
     "name": "stdout",
     "output_type": "stream",
     "text": [
      "Processed 25 cars from page 268\n",
      "Saved checkpoint with 6696 total car records\n",
      "\n",
      "Scraping page 269: https://www.sbtjapan.com/used-cars/?custom_search=japan_inventory&location=japan&p_num=269#listbox\n"
     ]
    },
    {
     "name": "stderr",
     "output_type": "stream",
     "text": [
      "Page 269/385 - Total cars: 6696:  70%|██████▉   | 269/385 [37:36:33<27:22:19, 849.48s/it]"
     ]
    },
    {
     "name": "stdout",
     "output_type": "stream",
     "text": [
      "Processed 25 cars from page 269\n",
      "Saved checkpoint with 6721 total car records\n",
      "\n",
      "Scraping page 270: https://www.sbtjapan.com/used-cars/?custom_search=japan_inventory&location=japan&p_num=270#listbox\n"
     ]
    },
    {
     "name": "stderr",
     "output_type": "stream",
     "text": [
      "Page 270/385 - Total cars: 6721:  70%|███████   | 270/385 [37:39:29<20:40:47, 647.37s/it]"
     ]
    },
    {
     "name": "stdout",
     "output_type": "stream",
     "text": [
      "Processed 25 cars from page 270\n",
      "Saved checkpoint with 6746 total car records\n",
      "\n",
      "Scraping page 271: https://www.sbtjapan.com/used-cars/?custom_search=japan_inventory&location=japan&p_num=271#listbox\n"
     ]
    },
    {
     "name": "stderr",
     "output_type": "stream",
     "text": [
      "Page 271/385 - Total cars: 6746:  70%|███████   | 271/385 [37:44:56<17:27:16, 551.20s/it]"
     ]
    },
    {
     "name": "stdout",
     "output_type": "stream",
     "text": [
      "Processed 25 cars from page 271\n",
      "Saved checkpoint with 6771 total car records\n",
      "\n",
      "Scraping page 272: https://www.sbtjapan.com/used-cars/?custom_search=japan_inventory&location=japan&p_num=272#listbox\n"
     ]
    },
    {
     "name": "stderr",
     "output_type": "stream",
     "text": [
      "Page 272/385 - Total cars: 6771:  71%|███████   | 272/385 [37:48:02<13:51:57, 441.75s/it]"
     ]
    },
    {
     "name": "stdout",
     "output_type": "stream",
     "text": [
      "Processed 25 cars from page 272\n",
      "Saved checkpoint with 6796 total car records\n",
      "\n",
      "Scraping page 273: https://www.sbtjapan.com/used-cars/?custom_search=japan_inventory&location=japan&p_num=273#listbox\n"
     ]
    },
    {
     "name": "stderr",
     "output_type": "stream",
     "text": [
      "Page 273/385 - Total cars: 6796:  71%|███████   | 273/385 [37:51:03<11:18:26, 363.45s/it]"
     ]
    },
    {
     "name": "stdout",
     "output_type": "stream",
     "text": [
      "Processed 25 cars from page 273\n",
      "Saved checkpoint with 6821 total car records\n",
      "\n",
      "Scraping page 274: https://www.sbtjapan.com/used-cars/?custom_search=japan_inventory&location=japan&p_num=274#listbox\n"
     ]
    },
    {
     "name": "stderr",
     "output_type": "stream",
     "text": [
      "Page 274/385 - Total cars: 6821:  71%|███████   | 274/385 [37:54:07<9:33:07, 309.80s/it] "
     ]
    },
    {
     "name": "stdout",
     "output_type": "stream",
     "text": [
      "Processed 25 cars from page 274\n",
      "Saved checkpoint with 6846 total car records\n",
      "\n",
      "Scraping page 275: https://www.sbtjapan.com/used-cars/?custom_search=japan_inventory&location=japan&p_num=275#listbox\n"
     ]
    },
    {
     "name": "stderr",
     "output_type": "stream",
     "text": [
      "Page 275/385 - Total cars: 6846:  71%|███████▏  | 275/385 [37:57:14<8:20:29, 273.00s/it]"
     ]
    },
    {
     "name": "stdout",
     "output_type": "stream",
     "text": [
      "Processed 25 cars from page 275\n",
      "Saved checkpoint with 6871 total car records\n",
      "\n",
      "Scraping page 276: https://www.sbtjapan.com/used-cars/?custom_search=japan_inventory&location=japan&p_num=276#listbox\n"
     ]
    },
    {
     "name": "stderr",
     "output_type": "stream",
     "text": [
      "Page 276/385 - Total cars: 6871:  72%|███████▏  | 276/385 [38:00:14<7:25:07, 245.02s/it]"
     ]
    },
    {
     "name": "stdout",
     "output_type": "stream",
     "text": [
      "Processed 25 cars from page 276\n",
      "Saved checkpoint with 6896 total car records\n",
      "\n",
      "Scraping page 277: https://www.sbtjapan.com/used-cars/?custom_search=japan_inventory&location=japan&p_num=277#listbox\n"
     ]
    },
    {
     "name": "stderr",
     "output_type": "stream",
     "text": [
      "Page 277/385 - Total cars: 6896:  72%|███████▏  | 277/385 [38:03:11<6:44:03, 224.48s/it]"
     ]
    },
    {
     "name": "stdout",
     "output_type": "stream",
     "text": [
      "Processed 25 cars from page 277\n",
      "Saved checkpoint with 6921 total car records\n",
      "\n",
      "Scraping page 278: https://www.sbtjapan.com/used-cars/?custom_search=japan_inventory&location=japan&p_num=278#listbox\n"
     ]
    },
    {
     "name": "stderr",
     "output_type": "stream",
     "text": [
      "Page 278/385 - Total cars: 6921:  72%|███████▏  | 278/385 [38:06:05<6:13:19, 209.34s/it]"
     ]
    },
    {
     "name": "stdout",
     "output_type": "stream",
     "text": [
      "Processed 25 cars from page 278\n",
      "Saved checkpoint with 6946 total car records\n",
      "\n",
      "Scraping page 279: https://www.sbtjapan.com/used-cars/?custom_search=japan_inventory&location=japan&p_num=279#listbox\n"
     ]
    },
    {
     "name": "stderr",
     "output_type": "stream",
     "text": [
      "Page 279/385 - Total cars: 6946:  72%|███████▏  | 279/385 [39:55:04<62:04:57, 2108.47s/it]"
     ]
    },
    {
     "name": "stdout",
     "output_type": "stream",
     "text": [
      "Processed 25 cars from page 279\n",
      "Saved checkpoint with 6971 total car records\n",
      "\n",
      "Scraping page 280: https://www.sbtjapan.com/used-cars/?custom_search=japan_inventory&location=japan&p_num=280#listbox\n"
     ]
    },
    {
     "name": "stderr",
     "output_type": "stream",
     "text": [
      "Page 280/385 - Total cars: 6971:  73%|███████▎  | 280/385 [39:58:09<44:39:45, 1531.29s/it]"
     ]
    },
    {
     "name": "stdout",
     "output_type": "stream",
     "text": [
      "Processed 25 cars from page 280\n",
      "Saved checkpoint with 6996 total car records\n",
      "\n",
      "Scraping page 281: https://www.sbtjapan.com/used-cars/?custom_search=japan_inventory&location=japan&p_num=281#listbox\n"
     ]
    },
    {
     "name": "stderr",
     "output_type": "stream",
     "text": [
      "Page 281/385 - Total cars: 6996:  73%|███████▎  | 281/385 [40:01:21<32:37:41, 1129.44s/it]"
     ]
    },
    {
     "name": "stdout",
     "output_type": "stream",
     "text": [
      "Processed 25 cars from page 281\n",
      "Saved checkpoint with 7021 total car records\n",
      "\n",
      "Scraping page 282: https://www.sbtjapan.com/used-cars/?custom_search=japan_inventory&location=japan&p_num=282#listbox\n"
     ]
    },
    {
     "name": "stderr",
     "output_type": "stream",
     "text": [
      "Page 282/385 - Total cars: 7021:  73%|███████▎  | 282/385 [40:04:34<24:16:38, 848.53s/it] "
     ]
    },
    {
     "name": "stdout",
     "output_type": "stream",
     "text": [
      "Processed 25 cars from page 282\n",
      "Saved checkpoint with 7046 total car records\n",
      "\n",
      "Scraping page 283: https://www.sbtjapan.com/used-cars/?custom_search=japan_inventory&location=japan&p_num=283#listbox\n"
     ]
    },
    {
     "name": "stderr",
     "output_type": "stream",
     "text": [
      "Page 283/385 - Total cars: 7046:  74%|███████▎  | 283/385 [40:07:43<18:26:14, 650.73s/it]"
     ]
    },
    {
     "name": "stdout",
     "output_type": "stream",
     "text": [
      "Processed 25 cars from page 283\n",
      "Saved checkpoint with 7071 total car records\n",
      "\n",
      "Scraping page 284: https://www.sbtjapan.com/used-cars/?custom_search=japan_inventory&location=japan&p_num=284#listbox\n"
     ]
    },
    {
     "name": "stderr",
     "output_type": "stream",
     "text": [
      "Page 284/385 - Total cars: 7071:  74%|███████▍  | 284/385 [40:10:50<14:21:25, 511.74s/it]"
     ]
    },
    {
     "name": "stdout",
     "output_type": "stream",
     "text": [
      "Processed 25 cars from page 284\n",
      "Saved checkpoint with 7096 total car records\n",
      "\n",
      "Scraping page 285: https://www.sbtjapan.com/used-cars/?custom_search=japan_inventory&location=japan&p_num=285#listbox\n"
     ]
    },
    {
     "name": "stderr",
     "output_type": "stream",
     "text": [
      "Page 285/385 - Total cars: 7096:  74%|███████▍  | 285/385 [40:13:55<11:29:03, 413.44s/it]"
     ]
    },
    {
     "name": "stdout",
     "output_type": "stream",
     "text": [
      "Processed 25 cars from page 285\n",
      "Saved checkpoint with 7121 total car records\n",
      "\n",
      "Scraping page 286: https://www.sbtjapan.com/used-cars/?custom_search=japan_inventory&location=japan&p_num=286#listbox\n"
     ]
    },
    {
     "name": "stderr",
     "output_type": "stream",
     "text": [
      "Page 286/385 - Total cars: 7121:  74%|███████▍  | 286/385 [40:17:07<9:32:59, 347.27s/it] "
     ]
    },
    {
     "name": "stdout",
     "output_type": "stream",
     "text": [
      "Processed 25 cars from page 286\n",
      "Saved checkpoint with 7146 total car records\n",
      "\n",
      "Scraping page 287: https://www.sbtjapan.com/used-cars/?custom_search=japan_inventory&location=japan&p_num=287#listbox\n"
     ]
    },
    {
     "name": "stderr",
     "output_type": "stream",
     "text": [
      "Page 287/385 - Total cars: 7146:  75%|███████▍  | 287/385 [40:20:17<8:09:42, 299.83s/it]"
     ]
    },
    {
     "name": "stdout",
     "output_type": "stream",
     "text": [
      "Processed 25 cars from page 287\n",
      "Saved checkpoint with 7171 total car records\n",
      "\n",
      "Scraping page 288: https://www.sbtjapan.com/used-cars/?custom_search=japan_inventory&location=japan&p_num=288#listbox\n"
     ]
    },
    {
     "name": "stderr",
     "output_type": "stream",
     "text": [
      "Page 288/385 - Total cars: 7171:  75%|███████▍  | 288/385 [40:23:30<7:13:08, 267.92s/it]"
     ]
    },
    {
     "name": "stdout",
     "output_type": "stream",
     "text": [
      "Processed 25 cars from page 288\n",
      "Saved checkpoint with 7196 total car records\n",
      "\n",
      "Scraping page 289: https://www.sbtjapan.com/used-cars/?custom_search=japan_inventory&location=japan&p_num=289#listbox\n"
     ]
    },
    {
     "name": "stderr",
     "output_type": "stream",
     "text": [
      "Page 289/385 - Total cars: 7196:  75%|███████▌  | 289/385 [40:26:41<6:31:36, 244.76s/it]"
     ]
    },
    {
     "name": "stdout",
     "output_type": "stream",
     "text": [
      "Processed 25 cars from page 289\n",
      "Saved checkpoint with 7221 total car records\n",
      "\n",
      "Scraping page 290: https://www.sbtjapan.com/used-cars/?custom_search=japan_inventory&location=japan&p_num=290#listbox\n"
     ]
    },
    {
     "name": "stderr",
     "output_type": "stream",
     "text": [
      "Page 290/385 - Total cars: 7221:  75%|███████▌  | 290/385 [40:29:54<6:03:14, 229.41s/it]"
     ]
    },
    {
     "name": "stdout",
     "output_type": "stream",
     "text": [
      "Processed 25 cars from page 290\n",
      "Saved checkpoint with 7246 total car records\n",
      "\n",
      "Scraping page 291: https://www.sbtjapan.com/used-cars/?custom_search=japan_inventory&location=japan&p_num=291#listbox\n"
     ]
    },
    {
     "name": "stderr",
     "output_type": "stream",
     "text": [
      "Page 291/385 - Total cars: 7246:  76%|███████▌  | 291/385 [40:33:08<5:42:40, 218.73s/it]"
     ]
    },
    {
     "name": "stdout",
     "output_type": "stream",
     "text": [
      "Processed 25 cars from page 291\n",
      "Saved checkpoint with 7271 total car records\n",
      "\n",
      "Scraping page 292: https://www.sbtjapan.com/used-cars/?custom_search=japan_inventory&location=japan&p_num=292#listbox\n"
     ]
    },
    {
     "name": "stderr",
     "output_type": "stream",
     "text": [
      "Page 292/385 - Total cars: 7271:  76%|███████▌  | 292/385 [40:36:18<5:25:28, 209.99s/it]"
     ]
    },
    {
     "name": "stdout",
     "output_type": "stream",
     "text": [
      "Processed 25 cars from page 292\n",
      "Saved checkpoint with 7296 total car records\n",
      "\n",
      "Scraping page 293: https://www.sbtjapan.com/used-cars/?custom_search=japan_inventory&location=japan&p_num=293#listbox\n"
     ]
    },
    {
     "name": "stderr",
     "output_type": "stream",
     "text": [
      "Page 293/385 - Total cars: 7296:  76%|███████▌  | 293/385 [40:39:25<5:11:23, 203.09s/it]"
     ]
    },
    {
     "name": "stdout",
     "output_type": "stream",
     "text": [
      "Processed 25 cars from page 293\n",
      "Saved checkpoint with 7321 total car records\n",
      "\n",
      "Scraping page 294: https://www.sbtjapan.com/used-cars/?custom_search=japan_inventory&location=japan&p_num=294#listbox\n"
     ]
    },
    {
     "name": "stderr",
     "output_type": "stream",
     "text": [
      "Page 294/385 - Total cars: 7321:  76%|███████▋  | 294/385 [40:42:36<5:02:36, 199.52s/it]"
     ]
    },
    {
     "name": "stdout",
     "output_type": "stream",
     "text": [
      "Processed 25 cars from page 294\n",
      "Saved checkpoint with 7346 total car records\n",
      "\n",
      "Scraping page 295: https://www.sbtjapan.com/used-cars/?custom_search=japan_inventory&location=japan&p_num=295#listbox\n"
     ]
    },
    {
     "name": "stderr",
     "output_type": "stream",
     "text": [
      "Page 295/385 - Total cars: 7346:  77%|███████▋  | 295/385 [40:46:45<5:21:33, 214.38s/it]"
     ]
    },
    {
     "name": "stdout",
     "output_type": "stream",
     "text": [
      "Processed 25 cars from page 295\n",
      "Saved checkpoint with 7371 total car records\n",
      "\n",
      "Scraping page 296: https://www.sbtjapan.com/used-cars/?custom_search=japan_inventory&location=japan&p_num=296#listbox\n"
     ]
    },
    {
     "name": "stderr",
     "output_type": "stream",
     "text": [
      "Page 296/385 - Total cars: 7371:  77%|███████▋  | 296/385 [40:50:50<5:31:27, 223.46s/it]"
     ]
    },
    {
     "name": "stdout",
     "output_type": "stream",
     "text": [
      "Processed 25 cars from page 296\n",
      "Saved checkpoint with 7396 total car records\n",
      "\n",
      "Scraping page 297: https://www.sbtjapan.com/used-cars/?custom_search=japan_inventory&location=japan&p_num=297#listbox\n"
     ]
    },
    {
     "name": "stderr",
     "output_type": "stream",
     "text": [
      "Page 297/385 - Total cars: 7396:  77%|███████▋  | 297/385 [40:54:59<5:38:56, 231.09s/it]"
     ]
    },
    {
     "name": "stdout",
     "output_type": "stream",
     "text": [
      "Processed 25 cars from page 297\n",
      "Saved checkpoint with 7421 total car records\n",
      "\n",
      "Scraping page 298: https://www.sbtjapan.com/used-cars/?custom_search=japan_inventory&location=japan&p_num=298#listbox\n"
     ]
    },
    {
     "name": "stderr",
     "output_type": "stream",
     "text": [
      "Page 298/385 - Total cars: 7421:  77%|███████▋  | 298/385 [40:58:40<5:31:01, 228.29s/it]"
     ]
    },
    {
     "name": "stdout",
     "output_type": "stream",
     "text": [
      "Processed 25 cars from page 298\n",
      "Saved checkpoint with 7446 total car records\n",
      "\n",
      "Scraping page 299: https://www.sbtjapan.com/used-cars/?custom_search=japan_inventory&location=japan&p_num=299#listbox\n"
     ]
    },
    {
     "name": "stderr",
     "output_type": "stream",
     "text": [
      "Page 299/385 - Total cars: 7446:  78%|███████▊  | 299/385 [41:02:29<5:27:35, 228.55s/it]"
     ]
    },
    {
     "name": "stdout",
     "output_type": "stream",
     "text": [
      "Processed 25 cars from page 299\n",
      "Saved checkpoint with 7471 total car records\n",
      "\n",
      "Scraping page 300: https://www.sbtjapan.com/used-cars/?custom_search=japan_inventory&location=japan&p_num=300#listbox\n"
     ]
    },
    {
     "name": "stderr",
     "output_type": "stream",
     "text": [
      "Page 300/385 - Total cars: 7471:  78%|███████▊  | 300/385 [41:06:27<5:27:43, 231.33s/it]"
     ]
    },
    {
     "name": "stdout",
     "output_type": "stream",
     "text": [
      "Processed 25 cars from page 300\n",
      "Saved checkpoint with 7496 total car records\n",
      "\n",
      "Scraping page 301: https://www.sbtjapan.com/used-cars/?custom_search=japan_inventory&location=japan&p_num=301#listbox\n"
     ]
    },
    {
     "name": "stderr",
     "output_type": "stream",
     "text": [
      "Page 301/385 - Total cars: 7496:  78%|███████▊  | 301/385 [41:10:26<5:27:06, 233.65s/it]"
     ]
    },
    {
     "name": "stdout",
     "output_type": "stream",
     "text": [
      "Processed 25 cars from page 301\n",
      "Saved checkpoint with 7521 total car records\n",
      "\n",
      "Scraping page 302: https://www.sbtjapan.com/used-cars/?custom_search=japan_inventory&location=japan&p_num=302#listbox\n"
     ]
    },
    {
     "name": "stderr",
     "output_type": "stream",
     "text": [
      "Page 302/385 - Total cars: 7521:  78%|███████▊  | 302/385 [41:14:41<5:31:53, 239.92s/it]"
     ]
    },
    {
     "name": "stdout",
     "output_type": "stream",
     "text": [
      "Processed 25 cars from page 302\n",
      "Saved checkpoint with 7546 total car records\n",
      "\n",
      "Scraping page 303: https://www.sbtjapan.com/used-cars/?custom_search=japan_inventory&location=japan&p_num=303#listbox\n"
     ]
    },
    {
     "name": "stderr",
     "output_type": "stream",
     "text": [
      "Page 303/385 - Total cars: 7546:  79%|███████▊  | 303/385 [41:18:44<5:29:08, 240.84s/it]"
     ]
    },
    {
     "name": "stdout",
     "output_type": "stream",
     "text": [
      "Processed 25 cars from page 303\n",
      "Saved checkpoint with 7571 total car records\n",
      "\n",
      "Scraping page 304: https://www.sbtjapan.com/used-cars/?custom_search=japan_inventory&location=japan&p_num=304#listbox\n"
     ]
    },
    {
     "name": "stderr",
     "output_type": "stream",
     "text": [
      "Page 304/385 - Total cars: 7571:  79%|███████▉  | 304/385 [41:22:47<5:25:53, 241.40s/it]"
     ]
    },
    {
     "name": "stdout",
     "output_type": "stream",
     "text": [
      "Processed 25 cars from page 304\n",
      "Saved checkpoint with 7596 total car records\n",
      "\n",
      "Scraping page 305: https://www.sbtjapan.com/used-cars/?custom_search=japan_inventory&location=japan&p_num=305#listbox\n"
     ]
    },
    {
     "name": "stderr",
     "output_type": "stream",
     "text": [
      "Page 305/385 - Total cars: 7596:  79%|███████▉  | 305/385 [41:26:45<5:20:52, 240.65s/it]"
     ]
    },
    {
     "name": "stdout",
     "output_type": "stream",
     "text": [
      "Processed 25 cars from page 305\n",
      "Saved checkpoint with 7621 total car records\n",
      "\n",
      "Scraping page 306: https://www.sbtjapan.com/used-cars/?custom_search=japan_inventory&location=japan&p_num=306#listbox\n"
     ]
    },
    {
     "name": "stderr",
     "output_type": "stream",
     "text": [
      "Page 306/385 - Total cars: 7621:  79%|███████▉  | 306/385 [41:30:35<5:12:37, 237.43s/it]"
     ]
    },
    {
     "name": "stdout",
     "output_type": "stream",
     "text": [
      "Connection error on attempt 1: HTTPSConnectionPool(host='www.sbtjapan.com', port=443): Max retries exceeded with url: /dealers-cars/ferrari/458-italia/DWQ8866/ (Caused by ProtocolError('Connection aborted.', ConnectionResetError(10054, 'An existing connection was forcibly closed by the remote host', None, 10054, None)))\n",
      "Processed 25 cars from page 306\n",
      "Saved checkpoint with 7646 total car records\n",
      "\n",
      "Scraping page 307: https://www.sbtjapan.com/used-cars/?custom_search=japan_inventory&location=japan&p_num=307#listbox\n"
     ]
    },
    {
     "name": "stderr",
     "output_type": "stream",
     "text": [
      "Page 307/385 - Total cars: 7646:  80%|███████▉  | 307/385 [42:16:02<21:19:22, 984.13s/it]"
     ]
    },
    {
     "name": "stdout",
     "output_type": "stream",
     "text": [
      "Processed 25 cars from page 307\n",
      "Saved checkpoint with 7671 total car records\n",
      "\n",
      "Scraping page 308: https://www.sbtjapan.com/used-cars/?custom_search=japan_inventory&location=japan&p_num=308#listbox\n"
     ]
    },
    {
     "name": "stderr",
     "output_type": "stream",
     "text": [
      "Page 308/385 - Total cars: 7671:  80%|████████  | 308/385 [42:20:13<16:20:54, 764.34s/it]"
     ]
    },
    {
     "name": "stdout",
     "output_type": "stream",
     "text": [
      "Processed 25 cars from page 308\n",
      "Saved checkpoint with 7696 total car records\n",
      "\n",
      "Scraping page 309: https://www.sbtjapan.com/used-cars/?custom_search=japan_inventory&location=japan&p_num=309#listbox\n"
     ]
    },
    {
     "name": "stderr",
     "output_type": "stream",
     "text": [
      "Page 309/385 - Total cars: 7696:  80%|████████  | 309/385 [42:24:15<12:49:36, 607.59s/it]"
     ]
    },
    {
     "name": "stdout",
     "output_type": "stream",
     "text": [
      "Processed 25 cars from page 309\n",
      "Saved checkpoint with 7721 total car records\n",
      "\n",
      "Scraping page 310: https://www.sbtjapan.com/used-cars/?custom_search=japan_inventory&location=japan&p_num=310#listbox\n"
     ]
    },
    {
     "name": "stderr",
     "output_type": "stream",
     "text": [
      "Page 310/385 - Total cars: 7721:  81%|████████  | 310/385 [42:28:12<10:20:28, 496.38s/it]"
     ]
    },
    {
     "name": "stdout",
     "output_type": "stream",
     "text": [
      "Processed 25 cars from page 310\n",
      "Saved checkpoint with 7746 total car records\n",
      "\n",
      "Scraping page 311: https://www.sbtjapan.com/used-cars/?custom_search=japan_inventory&location=japan&p_num=311#listbox\n"
     ]
    },
    {
     "name": "stderr",
     "output_type": "stream",
     "text": [
      "Page 311/385 - Total cars: 7746:  81%|████████  | 311/385 [42:32:10<8:36:36, 418.87s/it] "
     ]
    },
    {
     "name": "stdout",
     "output_type": "stream",
     "text": [
      "Processed 25 cars from page 311\n",
      "Saved checkpoint with 7771 total car records\n",
      "\n",
      "Scraping page 312: https://www.sbtjapan.com/used-cars/?custom_search=japan_inventory&location=japan&p_num=312#listbox\n"
     ]
    },
    {
     "name": "stderr",
     "output_type": "stream",
     "text": [
      "Page 312/385 - Total cars: 7771:  81%|████████  | 312/385 [42:36:42<7:35:55, 374.73s/it]"
     ]
    },
    {
     "name": "stdout",
     "output_type": "stream",
     "text": [
      "Processed 25 cars from page 312\n",
      "Saved checkpoint with 7796 total car records\n",
      "\n",
      "Scraping page 313: https://www.sbtjapan.com/used-cars/?custom_search=japan_inventory&location=japan&p_num=313#listbox\n"
     ]
    },
    {
     "name": "stderr",
     "output_type": "stream",
     "text": [
      "Page 313/385 - Total cars: 7796:  81%|████████▏ | 313/385 [42:40:22<6:34:11, 328.50s/it]"
     ]
    },
    {
     "name": "stdout",
     "output_type": "stream",
     "text": [
      "Processed 25 cars from page 313\n",
      "Saved checkpoint with 7821 total car records\n",
      "\n",
      "Scraping page 314: https://www.sbtjapan.com/used-cars/?custom_search=japan_inventory&location=japan&p_num=314#listbox\n"
     ]
    },
    {
     "name": "stderr",
     "output_type": "stream",
     "text": [
      "Page 314/385 - Total cars: 7821:  82%|████████▏ | 314/385 [42:44:31<6:00:29, 304.63s/it]"
     ]
    },
    {
     "name": "stdout",
     "output_type": "stream",
     "text": [
      "Processed 25 cars from page 314\n",
      "Saved checkpoint with 7846 total car records\n",
      "\n",
      "Scraping page 315: https://www.sbtjapan.com/used-cars/?custom_search=japan_inventory&location=japan&p_num=315#listbox\n"
     ]
    },
    {
     "name": "stderr",
     "output_type": "stream",
     "text": [
      "Page 315/385 - Total cars: 7846:  82%|████████▏ | 315/385 [42:48:25<5:30:33, 283.33s/it]"
     ]
    },
    {
     "name": "stdout",
     "output_type": "stream",
     "text": [
      "Processed 25 cars from page 315\n",
      "Saved checkpoint with 7871 total car records\n",
      "\n",
      "Scraping page 316: https://www.sbtjapan.com/used-cars/?custom_search=japan_inventory&location=japan&p_num=316#listbox\n"
     ]
    },
    {
     "name": "stderr",
     "output_type": "stream",
     "text": [
      "Page 316/385 - Total cars: 7871:  82%|████████▏ | 316/385 [42:52:39<5:15:39, 274.48s/it]"
     ]
    },
    {
     "name": "stdout",
     "output_type": "stream",
     "text": [
      "Processed 25 cars from page 316\n",
      "Saved checkpoint with 7896 total car records\n",
      "\n",
      "Scraping page 317: https://www.sbtjapan.com/used-cars/?custom_search=japan_inventory&location=japan&p_num=317#listbox\n"
     ]
    },
    {
     "name": "stderr",
     "output_type": "stream",
     "text": [
      "Page 317/385 - Total cars: 7896:  82%|████████▏ | 317/385 [42:56:53<5:04:09, 268.37s/it]"
     ]
    },
    {
     "name": "stdout",
     "output_type": "stream",
     "text": [
      "Processed 25 cars from page 317\n",
      "Saved checkpoint with 7921 total car records\n",
      "\n",
      "Scraping page 318: https://www.sbtjapan.com/used-cars/?custom_search=japan_inventory&location=japan&p_num=318#listbox\n"
     ]
    },
    {
     "name": "stderr",
     "output_type": "stream",
     "text": [
      "Page 318/385 - Total cars: 7921:  83%|████████▎ | 318/385 [43:01:27<5:01:39, 270.14s/it]"
     ]
    },
    {
     "name": "stdout",
     "output_type": "stream",
     "text": [
      "Processed 25 cars from page 318\n",
      "Saved checkpoint with 7946 total car records\n",
      "\n",
      "Scraping page 319: https://www.sbtjapan.com/used-cars/?custom_search=japan_inventory&location=japan&p_num=319#listbox\n"
     ]
    },
    {
     "name": "stderr",
     "output_type": "stream",
     "text": [
      "Page 319/385 - Total cars: 7946:  83%|████████▎ | 319/385 [43:05:54<4:56:09, 269.24s/it]"
     ]
    },
    {
     "name": "stdout",
     "output_type": "stream",
     "text": [
      "Processed 25 cars from page 319\n",
      "Saved checkpoint with 7971 total car records\n",
      "\n",
      "Scraping page 320: https://www.sbtjapan.com/used-cars/?custom_search=japan_inventory&location=japan&p_num=320#listbox\n"
     ]
    },
    {
     "name": "stderr",
     "output_type": "stream",
     "text": [
      "Page 320/385 - Total cars: 7971:  83%|████████▎ | 320/385 [49:50:14<134:48:24, 7466.23s/it]"
     ]
    },
    {
     "name": "stdout",
     "output_type": "stream",
     "text": [
      "Processed 25 cars from page 320\n",
      "Saved checkpoint with 7996 total car records\n",
      "\n",
      "Scraping page 321: https://www.sbtjapan.com/used-cars/?custom_search=japan_inventory&location=japan&p_num=321#listbox\n"
     ]
    },
    {
     "name": "stderr",
     "output_type": "stream",
     "text": [
      "Page 321/385 - Total cars: 7996:  83%|████████▎ | 321/385 [49:54:25<94:15:19, 5301.87s/it] "
     ]
    },
    {
     "name": "stdout",
     "output_type": "stream",
     "text": [
      "Processed 25 cars from page 321\n",
      "Saved checkpoint with 8021 total car records\n",
      "\n",
      "Scraping page 322: https://www.sbtjapan.com/used-cars/?custom_search=japan_inventory&location=japan&p_num=322#listbox\n"
     ]
    },
    {
     "name": "stderr",
     "output_type": "stream",
     "text": [
      "Page 322/385 - Total cars: 8021:  84%|████████▎ | 322/385 [49:58:25<66:12:19, 3783.16s/it]"
     ]
    },
    {
     "name": "stdout",
     "output_type": "stream",
     "text": [
      "Processed 25 cars from page 322\n",
      "Saved checkpoint with 8046 total car records\n",
      "\n",
      "Scraping page 323: https://www.sbtjapan.com/used-cars/?custom_search=japan_inventory&location=japan&p_num=323#listbox\n"
     ]
    },
    {
     "name": "stderr",
     "output_type": "stream",
     "text": [
      "Page 323/385 - Total cars: 8046:  84%|████████▍ | 323/385 [50:02:20<46:49:16, 2718.66s/it]"
     ]
    },
    {
     "name": "stdout",
     "output_type": "stream",
     "text": [
      "Processed 25 cars from page 323\n",
      "Saved checkpoint with 8071 total car records\n",
      "\n",
      "Scraping page 324: https://www.sbtjapan.com/used-cars/?custom_search=japan_inventory&location=japan&p_num=324#listbox\n"
     ]
    },
    {
     "name": "stderr",
     "output_type": "stream",
     "text": [
      "Page 324/385 - Total cars: 8071:  84%|████████▍ | 324/385 [50:06:20<33:27:58, 1975.05s/it]"
     ]
    },
    {
     "name": "stdout",
     "output_type": "stream",
     "text": [
      "Processed 25 cars from page 324\n",
      "Saved checkpoint with 8096 total car records\n",
      "\n",
      "Scraping page 325: https://www.sbtjapan.com/used-cars/?custom_search=japan_inventory&location=japan&p_num=325#listbox\n"
     ]
    },
    {
     "name": "stderr",
     "output_type": "stream",
     "text": [
      "Page 325/385 - Total cars: 8096:  84%|████████▍ | 325/385 [50:10:10<24:11:45, 1451.76s/it]"
     ]
    },
    {
     "name": "stdout",
     "output_type": "stream",
     "text": [
      "Processed 25 cars from page 325\n",
      "Saved checkpoint with 8121 total car records\n",
      "\n",
      "Scraping page 326: https://www.sbtjapan.com/used-cars/?custom_search=japan_inventory&location=japan&p_num=326#listbox\n"
     ]
    },
    {
     "name": "stderr",
     "output_type": "stream",
     "text": [
      "Page 326/385 - Total cars: 8121:  85%|████████▍ | 326/385 [50:14:06<17:48:48, 1086.93s/it]"
     ]
    },
    {
     "name": "stdout",
     "output_type": "stream",
     "text": [
      "Processed 25 cars from page 326\n",
      "Saved checkpoint with 8146 total car records\n",
      "\n",
      "Scraping page 327: https://www.sbtjapan.com/used-cars/?custom_search=japan_inventory&location=japan&p_num=327#listbox\n"
     ]
    },
    {
     "name": "stderr",
     "output_type": "stream",
     "text": [
      "Page 327/385 - Total cars: 8146:  85%|████████▍ | 327/385 [50:18:03<13:24:13, 831.95s/it] "
     ]
    },
    {
     "name": "stdout",
     "output_type": "stream",
     "text": [
      "Processed 25 cars from page 327\n",
      "Saved checkpoint with 8171 total car records\n",
      "\n",
      "Scraping page 328: https://www.sbtjapan.com/used-cars/?custom_search=japan_inventory&location=japan&p_num=328#listbox\n"
     ]
    },
    {
     "name": "stderr",
     "output_type": "stream",
     "text": [
      "Page 328/385 - Total cars: 8171:  85%|████████▌ | 328/385 [50:30:23<12:44:17, 804.51s/it]"
     ]
    },
    {
     "name": "stdout",
     "output_type": "stream",
     "text": [
      "Processed 25 cars from page 328\n",
      "Saved checkpoint with 8196 total car records\n",
      "\n",
      "Scraping page 329: https://www.sbtjapan.com/used-cars/?custom_search=japan_inventory&location=japan&p_num=329#listbox\n"
     ]
    },
    {
     "name": "stderr",
     "output_type": "stream",
     "text": [
      "Page 329/385 - Total cars: 8196:  85%|████████▌ | 329/385 [50:34:25<9:53:17, 635.68s/it] "
     ]
    },
    {
     "name": "stdout",
     "output_type": "stream",
     "text": [
      "Processed 25 cars from page 329\n",
      "Saved checkpoint with 8221 total car records\n",
      "\n",
      "Scraping page 330: https://www.sbtjapan.com/used-cars/?custom_search=japan_inventory&location=japan&p_num=330#listbox\n"
     ]
    },
    {
     "name": "stderr",
     "output_type": "stream",
     "text": [
      "Page 330/385 - Total cars: 8221:  86%|████████▌ | 330/385 [50:38:24<7:53:37, 516.68s/it]"
     ]
    },
    {
     "name": "stdout",
     "output_type": "stream",
     "text": [
      "Processed 25 cars from page 330\n",
      "Saved checkpoint with 8246 total car records\n",
      "\n",
      "Scraping page 331: https://www.sbtjapan.com/used-cars/?custom_search=japan_inventory&location=japan&p_num=331#listbox\n"
     ]
    },
    {
     "name": "stderr",
     "output_type": "stream",
     "text": [
      "Page 331/385 - Total cars: 8246:  86%|████████▌ | 331/385 [50:42:26<6:30:51, 434.29s/it]"
     ]
    },
    {
     "name": "stdout",
     "output_type": "stream",
     "text": [
      "Processed 25 cars from page 331\n",
      "Saved checkpoint with 8271 total car records\n",
      "\n",
      "Scraping page 332: https://www.sbtjapan.com/used-cars/?custom_search=japan_inventory&location=japan&p_num=332#listbox\n"
     ]
    },
    {
     "name": "stderr",
     "output_type": "stream",
     "text": [
      "Page 332/385 - Total cars: 8271:  86%|████████▌ | 332/385 [50:46:45<5:37:07, 381.66s/it]"
     ]
    },
    {
     "name": "stdout",
     "output_type": "stream",
     "text": [
      "Processed 25 cars from page 332\n",
      "Saved checkpoint with 8296 total car records\n",
      "\n",
      "Scraping page 333: https://www.sbtjapan.com/used-cars/?custom_search=japan_inventory&location=japan&p_num=333#listbox\n"
     ]
    },
    {
     "name": "stderr",
     "output_type": "stream",
     "text": [
      "Page 333/385 - Total cars: 8296:  86%|████████▋ | 333/385 [50:50:43<4:53:20, 338.47s/it]"
     ]
    },
    {
     "name": "stdout",
     "output_type": "stream",
     "text": [
      "Processed 25 cars from page 333\n",
      "Saved checkpoint with 8321 total car records\n",
      "\n",
      "Scraping page 334: https://www.sbtjapan.com/used-cars/?custom_search=japan_inventory&location=japan&p_num=334#listbox\n"
     ]
    },
    {
     "name": "stderr",
     "output_type": "stream",
     "text": [
      "Page 334/385 - Total cars: 8321:  87%|████████▋ | 334/385 [50:54:43<4:22:44, 309.10s/it]"
     ]
    },
    {
     "name": "stdout",
     "output_type": "stream",
     "text": [
      "Processed 25 cars from page 334\n",
      "Saved checkpoint with 8346 total car records\n",
      "\n",
      "Scraping page 335: https://www.sbtjapan.com/used-cars/?custom_search=japan_inventory&location=japan&p_num=335#listbox\n"
     ]
    },
    {
     "name": "stderr",
     "output_type": "stream",
     "text": [
      "Page 335/385 - Total cars: 8346:  87%|████████▋ | 335/385 [50:58:21<3:54:48, 281.77s/it]"
     ]
    },
    {
     "name": "stdout",
     "output_type": "stream",
     "text": [
      "Processed 25 cars from page 335\n",
      "Saved checkpoint with 8371 total car records\n",
      "\n",
      "Scraping page 336: https://www.sbtjapan.com/used-cars/?custom_search=japan_inventory&location=japan&p_num=336#listbox\n"
     ]
    },
    {
     "name": "stderr",
     "output_type": "stream",
     "text": [
      "Page 336/385 - Total cars: 8371:  87%|████████▋ | 336/385 [51:02:08<3:36:36, 265.23s/it]"
     ]
    },
    {
     "name": "stdout",
     "output_type": "stream",
     "text": [
      "Processed 25 cars from page 336\n",
      "Saved checkpoint with 8396 total car records\n",
      "\n",
      "Scraping page 337: https://www.sbtjapan.com/used-cars/?custom_search=japan_inventory&location=japan&p_num=337#listbox\n"
     ]
    },
    {
     "name": "stderr",
     "output_type": "stream",
     "text": [
      "Page 337/385 - Total cars: 8396:  88%|████████▊ | 337/385 [51:06:12<3:27:02, 258.81s/it]"
     ]
    },
    {
     "name": "stdout",
     "output_type": "stream",
     "text": [
      "Processed 25 cars from page 337\n",
      "Saved checkpoint with 8421 total car records\n",
      "\n",
      "Scraping page 338: https://www.sbtjapan.com/used-cars/?custom_search=japan_inventory&location=japan&p_num=338#listbox\n"
     ]
    },
    {
     "name": "stderr",
     "output_type": "stream",
     "text": [
      "Page 338/385 - Total cars: 8421:  88%|████████▊ | 338/385 [51:10:25<3:21:23, 257.10s/it]"
     ]
    },
    {
     "name": "stdout",
     "output_type": "stream",
     "text": [
      "Processed 25 cars from page 338\n",
      "Saved checkpoint with 8446 total car records\n",
      "\n",
      "Scraping page 339: https://www.sbtjapan.com/used-cars/?custom_search=japan_inventory&location=japan&p_num=339#listbox\n"
     ]
    },
    {
     "name": "stderr",
     "output_type": "stream",
     "text": [
      "Page 339/385 - Total cars: 8446:  88%|████████▊ | 339/385 [51:14:29<3:14:07, 253.21s/it]"
     ]
    },
    {
     "name": "stdout",
     "output_type": "stream",
     "text": [
      "Processed 25 cars from page 339\n",
      "Saved checkpoint with 8471 total car records\n",
      "\n",
      "Scraping page 340: https://www.sbtjapan.com/used-cars/?custom_search=japan_inventory&location=japan&p_num=340#listbox\n"
     ]
    },
    {
     "name": "stderr",
     "output_type": "stream",
     "text": [
      "Page 340/385 - Total cars: 8471:  88%|████████▊ | 340/385 [51:18:07<3:01:54, 242.55s/it]"
     ]
    },
    {
     "name": "stdout",
     "output_type": "stream",
     "text": [
      "Processed 25 cars from page 340\n",
      "Saved checkpoint with 8496 total car records\n",
      "\n",
      "Scraping page 341: https://www.sbtjapan.com/used-cars/?custom_search=japan_inventory&location=japan&p_num=341#listbox\n"
     ]
    },
    {
     "name": "stderr",
     "output_type": "stream",
     "text": [
      "Page 341/385 - Total cars: 8496:  89%|████████▊ | 341/385 [51:21:57<2:55:04, 238.73s/it]"
     ]
    },
    {
     "name": "stdout",
     "output_type": "stream",
     "text": [
      "Processed 25 cars from page 341\n",
      "Saved checkpoint with 8521 total car records\n",
      "\n",
      "Scraping page 342: https://www.sbtjapan.com/used-cars/?custom_search=japan_inventory&location=japan&p_num=342#listbox\n"
     ]
    },
    {
     "name": "stderr",
     "output_type": "stream",
     "text": [
      "Page 342/385 - Total cars: 8521:  89%|████████▉ | 342/385 [51:25:49<2:49:47, 236.92s/it]"
     ]
    },
    {
     "name": "stdout",
     "output_type": "stream",
     "text": [
      "Processed 25 cars from page 342\n",
      "Saved checkpoint with 8546 total car records\n",
      "\n",
      "Scraping page 343: https://www.sbtjapan.com/used-cars/?custom_search=japan_inventory&location=japan&p_num=343#listbox\n"
     ]
    },
    {
     "name": "stderr",
     "output_type": "stream",
     "text": [
      "Page 343/385 - Total cars: 8546:  89%|████████▉ | 343/385 [51:29:33<2:43:03, 232.95s/it]"
     ]
    },
    {
     "name": "stdout",
     "output_type": "stream",
     "text": [
      "Processed 25 cars from page 343\n",
      "Saved checkpoint with 8571 total car records\n",
      "\n",
      "Scraping page 344: https://www.sbtjapan.com/used-cars/?custom_search=japan_inventory&location=japan&p_num=344#listbox\n"
     ]
    },
    {
     "name": "stderr",
     "output_type": "stream",
     "text": [
      "Page 344/385 - Total cars: 8571:  89%|████████▉ | 344/385 [51:33:55<2:45:08, 241.68s/it]"
     ]
    },
    {
     "name": "stdout",
     "output_type": "stream",
     "text": [
      "Processed 25 cars from page 344\n",
      "Saved checkpoint with 8596 total car records\n",
      "\n",
      "Scraping page 345: https://www.sbtjapan.com/used-cars/?custom_search=japan_inventory&location=japan&p_num=345#listbox\n"
     ]
    },
    {
     "name": "stderr",
     "output_type": "stream",
     "text": [
      "Page 345/385 - Total cars: 8596:  90%|████████▉ | 345/385 [51:37:39<2:37:38, 236.47s/it]"
     ]
    },
    {
     "name": "stdout",
     "output_type": "stream",
     "text": [
      "Processed 25 cars from page 345\n",
      "Saved checkpoint with 8621 total car records\n",
      "\n",
      "Scraping page 346: https://www.sbtjapan.com/used-cars/?custom_search=japan_inventory&location=japan&p_num=346#listbox\n"
     ]
    },
    {
     "name": "stderr",
     "output_type": "stream",
     "text": [
      "Page 346/385 - Total cars: 8621:  90%|████████▉ | 346/385 [51:41:19<2:30:31, 231.57s/it]"
     ]
    },
    {
     "name": "stdout",
     "output_type": "stream",
     "text": [
      "Processed 25 cars from page 346\n",
      "Saved checkpoint with 8646 total car records\n",
      "\n",
      "Scraping page 347: https://www.sbtjapan.com/used-cars/?custom_search=japan_inventory&location=japan&p_num=347#listbox\n"
     ]
    },
    {
     "name": "stderr",
     "output_type": "stream",
     "text": [
      "Page 347/385 - Total cars: 8646:  90%|█████████ | 347/385 [62:21:34<123:21:26, 11686.48s/it]"
     ]
    },
    {
     "name": "stdout",
     "output_type": "stream",
     "text": [
      "Processed 25 cars from page 347\n",
      "Saved checkpoint with 8671 total car records\n",
      "\n",
      "Scraping page 348: https://www.sbtjapan.com/used-cars/?custom_search=japan_inventory&location=japan&p_num=348#listbox\n"
     ]
    },
    {
     "name": "stderr",
     "output_type": "stream",
     "text": [
      "Page 348/385 - Total cars: 8671:  90%|█████████ | 348/385 [62:26:31<84:59:31, 8269.51s/it]  "
     ]
    },
    {
     "name": "stdout",
     "output_type": "stream",
     "text": [
      "Processed 25 cars from page 348\n",
      "Saved checkpoint with 8696 total car records\n",
      "\n",
      "Scraping page 349: https://www.sbtjapan.com/used-cars/?custom_search=japan_inventory&location=japan&p_num=349#listbox\n"
     ]
    },
    {
     "name": "stderr",
     "output_type": "stream",
     "text": [
      "Page 349/385 - Total cars: 8696:  91%|█████████ | 349/385 [62:31:13<58:43:57, 5873.26s/it]"
     ]
    },
    {
     "name": "stdout",
     "output_type": "stream",
     "text": [
      "Processed 25 cars from page 349\n",
      "Saved checkpoint with 8721 total car records\n",
      "\n",
      "Scraping page 350: https://www.sbtjapan.com/used-cars/?custom_search=japan_inventory&location=japan&p_num=350#listbox\n"
     ]
    },
    {
     "name": "stderr",
     "output_type": "stream",
     "text": [
      "Page 350/385 - Total cars: 8721:  91%|█████████ | 350/385 [62:37:49<41:07:41, 4230.34s/it]"
     ]
    },
    {
     "name": "stdout",
     "output_type": "stream",
     "text": [
      "Processed 25 cars from page 350\n",
      "Saved checkpoint with 8746 total car records\n",
      "\n",
      "Scraping page 351: https://www.sbtjapan.com/used-cars/?custom_search=japan_inventory&location=japan&p_num=351#listbox\n"
     ]
    },
    {
     "name": "stderr",
     "output_type": "stream",
     "text": [
      "Page 351/385 - Total cars: 8746:  91%|█████████ | 351/385 [62:44:21<29:04:35, 3078.70s/it]"
     ]
    },
    {
     "name": "stdout",
     "output_type": "stream",
     "text": [
      "Processed 25 cars from page 351\n",
      "Saved checkpoint with 8771 total car records\n",
      "\n",
      "Scraping page 352: https://www.sbtjapan.com/used-cars/?custom_search=japan_inventory&location=japan&p_num=352#listbox\n"
     ]
    },
    {
     "name": "stderr",
     "output_type": "stream",
     "text": [
      "Page 352/385 - Total cars: 8771:  91%|█████████▏| 352/385 [62:51:00<20:51:05, 2274.72s/it]"
     ]
    },
    {
     "name": "stdout",
     "output_type": "stream",
     "text": [
      "Connection error on attempt 1: HTTPSConnectionPool(host='www.sbtjapan.com', port=443): Read timed out.\n",
      "Connection error on attempt 1: HTTPSConnectionPool(host='www.sbtjapan.com', port=443): Read timed out.\n",
      "Processed 25 cars from page 352\n",
      "Saved checkpoint with 8796 total car records\n",
      "\n",
      "Scraping page 353: https://www.sbtjapan.com/used-cars/?custom_search=japan_inventory&location=japan&p_num=353#listbox\n"
     ]
    },
    {
     "name": "stderr",
     "output_type": "stream",
     "text": [
      "Page 353/385 - Total cars: 8796:  92%|█████████▏| 353/385 [63:00:54<15:44:16, 1770.52s/it]"
     ]
    },
    {
     "name": "stdout",
     "output_type": "stream",
     "text": [
      "Processed 25 cars from page 353\n",
      "Saved checkpoint with 8821 total car records\n",
      "\n",
      "Scraping page 354: https://www.sbtjapan.com/used-cars/?custom_search=japan_inventory&location=japan&p_num=354#listbox\n"
     ]
    },
    {
     "name": "stderr",
     "output_type": "stream",
     "text": [
      "Page 354/385 - Total cars: 8821:  92%|█████████▏| 354/385 [63:04:46<11:16:16, 1308.93s/it]"
     ]
    },
    {
     "name": "stdout",
     "output_type": "stream",
     "text": [
      "Processed 25 cars from page 354\n",
      "Saved checkpoint with 8846 total car records\n",
      "\n",
      "Scraping page 355: https://www.sbtjapan.com/used-cars/?custom_search=japan_inventory&location=japan&p_num=355#listbox\n"
     ]
    },
    {
     "name": "stderr",
     "output_type": "stream",
     "text": [
      "Page 355/385 - Total cars: 8846:  92%|█████████▏| 355/385 [63:08:05<8:08:04, 976.15s/it]  "
     ]
    },
    {
     "name": "stdout",
     "output_type": "stream",
     "text": [
      "Processed 25 cars from page 355\n",
      "Saved checkpoint with 8871 total car records\n",
      "\n",
      "Scraping page 356: https://www.sbtjapan.com/used-cars/?custom_search=japan_inventory&location=japan&p_num=356#listbox\n"
     ]
    },
    {
     "name": "stderr",
     "output_type": "stream",
     "text": [
      "Page 356/385 - Total cars: 8871:  92%|█████████▏| 356/385 [63:11:56<6:03:42, 752.51s/it]"
     ]
    },
    {
     "name": "stdout",
     "output_type": "stream",
     "text": [
      "Processed 25 cars from page 356\n",
      "Saved checkpoint with 8896 total car records\n",
      "\n",
      "Scraping page 357: https://www.sbtjapan.com/used-cars/?custom_search=japan_inventory&location=japan&p_num=357#listbox\n"
     ]
    },
    {
     "name": "stderr",
     "output_type": "stream",
     "text": [
      "Page 357/385 - Total cars: 8896:  93%|█████████▎| 357/385 [63:15:53<4:39:02, 597.95s/it]"
     ]
    },
    {
     "name": "stdout",
     "output_type": "stream",
     "text": [
      "Processed 25 cars from page 357\n",
      "Saved checkpoint with 8921 total car records\n",
      "\n",
      "Scraping page 358: https://www.sbtjapan.com/used-cars/?custom_search=japan_inventory&location=japan&p_num=358#listbox\n"
     ]
    },
    {
     "name": "stderr",
     "output_type": "stream",
     "text": [
      "Page 358/385 - Total cars: 8921:  93%|█████████▎| 358/385 [63:19:30<3:37:38, 483.63s/it]"
     ]
    },
    {
     "name": "stdout",
     "output_type": "stream",
     "text": [
      "Processed 26 cars from page 358\n",
      "Saved checkpoint with 8947 total car records\n",
      "\n",
      "Scraping page 359: https://www.sbtjapan.com/used-cars/?custom_search=japan_inventory&location=japan&p_num=359#listbox\n"
     ]
    },
    {
     "name": "stderr",
     "output_type": "stream",
     "text": [
      "Page 359/385 - Total cars: 8947:  93%|█████████▎| 359/385 [63:23:38<2:58:55, 412.89s/it]"
     ]
    },
    {
     "name": "stdout",
     "output_type": "stream",
     "text": [
      "Processed 26 cars from page 359\n",
      "Saved checkpoint with 8973 total car records\n",
      "\n",
      "Scraping page 360: https://www.sbtjapan.com/used-cars/?custom_search=japan_inventory&location=japan&p_num=360#listbox\n"
     ]
    },
    {
     "name": "stderr",
     "output_type": "stream",
     "text": [
      "Page 360/385 - Total cars: 8973:  94%|█████████▎| 360/385 [63:27:08<2:26:41, 352.05s/it]"
     ]
    },
    {
     "name": "stdout",
     "output_type": "stream",
     "text": [
      "Processed 25 cars from page 360\n",
      "Saved checkpoint with 8998 total car records\n",
      "\n",
      "Scraping page 361: https://www.sbtjapan.com/used-cars/?custom_search=japan_inventory&location=japan&p_num=361#listbox\n"
     ]
    },
    {
     "name": "stderr",
     "output_type": "stream",
     "text": [
      "Page 361/385 - Total cars: 8998:  94%|█████████▍| 361/385 [63:31:06<2:07:04, 317.67s/it]"
     ]
    },
    {
     "name": "stdout",
     "output_type": "stream",
     "text": [
      "Processed 25 cars from page 361\n",
      "Saved checkpoint with 9023 total car records\n",
      "\n",
      "Scraping page 362: https://www.sbtjapan.com/used-cars/?custom_search=japan_inventory&location=japan&p_num=362#listbox\n"
     ]
    },
    {
     "name": "stderr",
     "output_type": "stream",
     "text": [
      "Page 362/385 - Total cars: 9023:  94%|█████████▍| 362/385 [63:34:51<1:51:11, 290.06s/it]"
     ]
    },
    {
     "name": "stdout",
     "output_type": "stream",
     "text": [
      "Processed 25 cars from page 362\n",
      "Saved checkpoint with 9048 total car records\n",
      "\n",
      "Scraping page 363: https://www.sbtjapan.com/used-cars/?custom_search=japan_inventory&location=japan&p_num=363#listbox\n"
     ]
    },
    {
     "name": "stderr",
     "output_type": "stream",
     "text": [
      "Page 363/385 - Total cars: 9048:  94%|█████████▍| 363/385 [63:38:32<1:38:45, 269.34s/it]"
     ]
    },
    {
     "name": "stdout",
     "output_type": "stream",
     "text": [
      "Processed 25 cars from page 363\n",
      "Saved checkpoint with 9073 total car records\n",
      "\n",
      "Scraping page 364: https://www.sbtjapan.com/used-cars/?custom_search=japan_inventory&location=japan&p_num=364#listbox\n"
     ]
    },
    {
     "name": "stderr",
     "output_type": "stream",
     "text": [
      "Page 364/385 - Total cars: 9073:  95%|█████████▍| 364/385 [65:20:05<11:45:43, 2016.37s/it]"
     ]
    },
    {
     "name": "stdout",
     "output_type": "stream",
     "text": [
      "Processed 25 cars from page 364\n",
      "Saved checkpoint with 9098 total car records\n",
      "\n",
      "Scraping page 365: https://www.sbtjapan.com/used-cars/?custom_search=japan_inventory&location=japan&p_num=365#listbox\n"
     ]
    },
    {
     "name": "stderr",
     "output_type": "stream",
     "text": [
      "Page 365/385 - Total cars: 9098:  95%|█████████▍| 365/385 [65:24:01<8:14:04, 1482.23s/it] "
     ]
    },
    {
     "name": "stdout",
     "output_type": "stream",
     "text": [
      "Processed 25 cars from page 365\n",
      "Saved checkpoint with 9123 total car records\n",
      "\n",
      "Scraping page 366: https://www.sbtjapan.com/used-cars/?custom_search=japan_inventory&location=japan&p_num=366#listbox\n"
     ]
    },
    {
     "name": "stderr",
     "output_type": "stream",
     "text": [
      "Page 366/385 - Total cars: 9123:  95%|█████████▌| 366/385 [65:27:55<5:50:49, 1107.89s/it]"
     ]
    },
    {
     "name": "stdout",
     "output_type": "stream",
     "text": [
      "Processed 25 cars from page 366\n",
      "Saved checkpoint with 9148 total car records\n",
      "\n",
      "Scraping page 367: https://www.sbtjapan.com/used-cars/?custom_search=japan_inventory&location=japan&p_num=367#listbox\n"
     ]
    },
    {
     "name": "stderr",
     "output_type": "stream",
     "text": [
      "Page 367/385 - Total cars: 9148:  95%|█████████▌| 367/385 [65:31:56<4:14:16, 847.59s/it] "
     ]
    },
    {
     "name": "stdout",
     "output_type": "stream",
     "text": [
      "Processed 25 cars from page 367\n",
      "Saved checkpoint with 9173 total car records\n",
      "\n",
      "Scraping page 368: https://www.sbtjapan.com/used-cars/?custom_search=japan_inventory&location=japan&p_num=368#listbox\n"
     ]
    },
    {
     "name": "stderr",
     "output_type": "stream",
     "text": [
      "Page 368/385 - Total cars: 9173:  96%|█████████▌| 368/385 [65:35:56<3:08:31, 665.41s/it]"
     ]
    },
    {
     "name": "stdout",
     "output_type": "stream",
     "text": [
      "Processed 25 cars from page 368\n",
      "Saved checkpoint with 9198 total car records\n",
      "\n",
      "Scraping page 369: https://www.sbtjapan.com/used-cars/?custom_search=japan_inventory&location=japan&p_num=369#listbox\n"
     ]
    },
    {
     "name": "stderr",
     "output_type": "stream",
     "text": [
      "Page 369/385 - Total cars: 9198:  96%|█████████▌| 369/385 [65:40:19<2:25:15, 544.69s/it]"
     ]
    },
    {
     "name": "stdout",
     "output_type": "stream",
     "text": [
      "Processed 25 cars from page 369\n",
      "Saved checkpoint with 9223 total car records\n",
      "\n",
      "Scraping page 370: https://www.sbtjapan.com/used-cars/?custom_search=japan_inventory&location=japan&p_num=370#listbox\n"
     ]
    },
    {
     "name": "stderr",
     "output_type": "stream",
     "text": [
      "Page 370/385 - Total cars: 9223:  96%|█████████▌| 370/385 [65:44:24<1:53:41, 454.77s/it]"
     ]
    },
    {
     "name": "stdout",
     "output_type": "stream",
     "text": [
      "Processed 25 cars from page 370\n",
      "Saved checkpoint with 9248 total car records\n",
      "\n",
      "Scraping page 371: https://www.sbtjapan.com/used-cars/?custom_search=japan_inventory&location=japan&p_num=371#listbox\n"
     ]
    },
    {
     "name": "stderr",
     "output_type": "stream",
     "text": [
      "Page 371/385 - Total cars: 9248:  96%|█████████▋| 371/385 [65:48:54<1:33:12, 399.45s/it]"
     ]
    },
    {
     "name": "stdout",
     "output_type": "stream",
     "text": [
      "Processed 25 cars from page 371\n",
      "Saved checkpoint with 9273 total car records\n",
      "\n",
      "Scraping page 372: https://www.sbtjapan.com/used-cars/?custom_search=japan_inventory&location=japan&p_num=372#listbox\n"
     ]
    },
    {
     "name": "stderr",
     "output_type": "stream",
     "text": [
      "Page 372/385 - Total cars: 9273:  97%|█████████▋| 372/385 [65:53:03<1:16:44, 354.16s/it]"
     ]
    },
    {
     "name": "stdout",
     "output_type": "stream",
     "text": [
      "Processed 25 cars from page 372\n",
      "Saved checkpoint with 9298 total car records\n",
      "\n",
      "Scraping page 373: https://www.sbtjapan.com/used-cars/?custom_search=japan_inventory&location=japan&p_num=373#listbox\n"
     ]
    },
    {
     "name": "stderr",
     "output_type": "stream",
     "text": [
      "Page 373/385 - Total cars: 9298:  97%|█████████▋| 373/385 [65:57:17<1:04:50, 324.19s/it]"
     ]
    },
    {
     "name": "stdout",
     "output_type": "stream",
     "text": [
      "Processed 25 cars from page 373\n",
      "Saved checkpoint with 9323 total car records\n",
      "\n",
      "Scraping page 374: https://www.sbtjapan.com/used-cars/?custom_search=japan_inventory&location=japan&p_num=374#listbox\n"
     ]
    },
    {
     "name": "stderr",
     "output_type": "stream",
     "text": [
      "Page 374/385 - Total cars: 9323:  97%|█████████▋| 374/385 [66:00:57<53:42, 292.94s/it]  "
     ]
    },
    {
     "name": "stdout",
     "output_type": "stream",
     "text": [
      "Processed 25 cars from page 374\n",
      "Saved checkpoint with 9348 total car records\n",
      "\n",
      "Scraping page 375: https://www.sbtjapan.com/used-cars/?custom_search=japan_inventory&location=japan&p_num=375#listbox\n"
     ]
    },
    {
     "name": "stderr",
     "output_type": "stream",
     "text": [
      "Page 375/385 - Total cars: 9348:  97%|█████████▋| 375/385 [66:04:54<46:02, 276.28s/it]"
     ]
    },
    {
     "name": "stdout",
     "output_type": "stream",
     "text": [
      "Processed 26 cars from page 375\n",
      "Saved checkpoint with 9374 total car records\n",
      "\n",
      "Scraping page 376: https://www.sbtjapan.com/used-cars/?custom_search=japan_inventory&location=japan&p_num=376#listbox\n"
     ]
    },
    {
     "name": "stderr",
     "output_type": "stream",
     "text": [
      "Page 376/385 - Total cars: 9374:  98%|█████████▊| 376/385 [66:09:06<40:20, 268.90s/it]"
     ]
    },
    {
     "name": "stdout",
     "output_type": "stream",
     "text": [
      "Processed 25 cars from page 376\n",
      "Saved checkpoint with 9399 total car records\n",
      "\n",
      "Scraping page 377: https://www.sbtjapan.com/used-cars/?custom_search=japan_inventory&location=japan&p_num=377#listbox\n"
     ]
    },
    {
     "name": "stderr",
     "output_type": "stream",
     "text": [
      "Page 377/385 - Total cars: 9399:  98%|█████████▊| 377/385 [66:13:08<34:45, 260.66s/it]"
     ]
    },
    {
     "name": "stdout",
     "output_type": "stream",
     "text": [
      "Processed 25 cars from page 377\n",
      "Saved checkpoint with 9424 total car records\n",
      "\n",
      "Scraping page 378: https://www.sbtjapan.com/used-cars/?custom_search=japan_inventory&location=japan&p_num=378#listbox\n"
     ]
    },
    {
     "name": "stderr",
     "output_type": "stream",
     "text": [
      "Page 378/385 - Total cars: 9424:  98%|█████████▊| 378/385 [66:17:04<29:34, 253.53s/it]"
     ]
    },
    {
     "name": "stdout",
     "output_type": "stream",
     "text": [
      "Processed 25 cars from page 378\n",
      "Saved checkpoint with 9449 total car records\n",
      "\n",
      "Scraping page 379: https://www.sbtjapan.com/used-cars/?custom_search=japan_inventory&location=japan&p_num=379#listbox\n"
     ]
    },
    {
     "name": "stderr",
     "output_type": "stream",
     "text": [
      "Page 379/385 - Total cars: 9449:  98%|█████████▊| 379/385 [66:21:07<25:01, 250.23s/it]"
     ]
    },
    {
     "name": "stdout",
     "output_type": "stream",
     "text": [
      "Processed 25 cars from page 379\n",
      "Saved checkpoint with 9474 total car records\n",
      "\n",
      "Scraping page 380: https://www.sbtjapan.com/used-cars/?custom_search=japan_inventory&location=japan&p_num=380#listbox\n"
     ]
    },
    {
     "name": "stderr",
     "output_type": "stream",
     "text": [
      "Page 380/385 - Total cars: 9474:  99%|█████████▊| 380/385 [66:25:18<20:51, 250.39s/it]"
     ]
    },
    {
     "name": "stdout",
     "output_type": "stream",
     "text": [
      "Processed 25 cars from page 380\n",
      "Saved checkpoint with 9499 total car records\n",
      "\n",
      "Scraping page 381: https://www.sbtjapan.com/used-cars/?custom_search=japan_inventory&location=japan&p_num=381#listbox\n"
     ]
    },
    {
     "name": "stderr",
     "output_type": "stream",
     "text": [
      "Page 381/385 - Total cars: 9499:  99%|█████████▉| 381/385 [74:33:33<9:57:35, 8963.98s/it]"
     ]
    },
    {
     "name": "stdout",
     "output_type": "stream",
     "text": [
      "Processed 25 cars from page 381\n",
      "Saved checkpoint with 9524 total car records\n",
      "\n",
      "Scraping page 382: https://www.sbtjapan.com/used-cars/?custom_search=japan_inventory&location=japan&p_num=382#listbox\n"
     ]
    },
    {
     "name": "stderr",
     "output_type": "stream",
     "text": [
      "Page 382/385 - Total cars: 9524:  99%|█████████▉| 382/385 [74:37:17<5:17:05, 6341.81s/it]"
     ]
    },
    {
     "name": "stdout",
     "output_type": "stream",
     "text": [
      "Processed 25 cars from page 382\n",
      "Saved checkpoint with 9549 total car records\n",
      "\n",
      "Scraping page 383: https://www.sbtjapan.com/used-cars/?custom_search=japan_inventory&location=japan&p_num=383#listbox\n"
     ]
    },
    {
     "name": "stderr",
     "output_type": "stream",
     "text": [
      "Page 383/385 - Total cars: 9549:  99%|█████████▉| 383/385 [74:41:02<2:30:13, 4506.82s/it]"
     ]
    },
    {
     "name": "stdout",
     "output_type": "stream",
     "text": [
      "Processed 25 cars from page 383\n",
      "Saved checkpoint with 9574 total car records\n",
      "\n",
      "Scraping page 384: https://www.sbtjapan.com/used-cars/?custom_search=japan_inventory&location=japan&p_num=384#listbox\n"
     ]
    },
    {
     "name": "stderr",
     "output_type": "stream",
     "text": [
      "Page 384/385 - Total cars: 9574: 100%|█████████▉| 384/385 [74:44:52<53:43, 3223.90s/it]  "
     ]
    },
    {
     "name": "stdout",
     "output_type": "stream",
     "text": [
      "Processed 25 cars from page 384\n",
      "Saved checkpoint with 9599 total car records\n",
      "\n",
      "Scraping page 385: https://www.sbtjapan.com/used-cars/?custom_search=japan_inventory&location=japan&p_num=385#listbox\n"
     ]
    },
    {
     "name": "stderr",
     "output_type": "stream",
     "text": [
      "Page 385/385 - Total cars: 9599: 100%|██████████| 385/385 [74:48:37<00:00, 2324.04s/it]"
     ]
    },
    {
     "name": "stdout",
     "output_type": "stream",
     "text": [
      "Processed 25 cars from page 385\n",
      "Saved checkpoint with 9624 total car records\n"
     ]
    },
    {
     "name": "stderr",
     "output_type": "stream",
     "text": [
      "Page 385/385 - Total cars: 9599: 100%|██████████| 385/385 [74:52:34<00:00, 700.14s/it] \n"
     ]
    },
    {
     "name": "stdout",
     "output_type": "stream",
     "text": [
      "Scraping complete. Processed 385 pages and collected data for 9624 cars.\n",
      "Data saved to 'car_listings_final.csv'.\n"
     ]
    }
   ],
   "source": [
    "import requests\n",
    "from bs4 import BeautifulSoup\n",
    "import pandas as pd\n",
    "import time\n",
    "from requests.adapters import HTTPAdapter\n",
    "from urllib3.util.retry import Retry\n",
    "import os\n",
    "from tqdm import tqdm\n",
    "\n",
    "# Set up a session with retry logic\n",
    "session = requests.Session()\n",
    "retry = Retry(total=5, backoff_factor=1, status_forcelist=[502, 503, 504])\n",
    "adapter = HTTPAdapter(max_retries=retry)\n",
    "session.mount('http://', adapter)\n",
    "session.mount('https://', adapter)\n",
    "\n",
    "# Headers to mimic a browser\n",
    "headers = {\n",
    "    'User-Agent': 'Mozilla/5.0 (Windows NT 10.0; Win64; x64) AppleWebKit/537.36 (KHTML, like Gecko) Chrome/91.0.4472.124 Safari/537.36'\n",
    "}\n",
    "\n",
    "# Function to scrape a list page\n",
    "def scrape_list_page(url):\n",
    "    try:\n",
    "        response = session.get(url, headers=headers, timeout=10)\n",
    "        if response.status_code != 200:\n",
    "            print(f\"Failed to fetch list page: {response.status_code}\")\n",
    "            return [], None\n",
    "    except (requests.exceptions.SSLError, requests.exceptions.ConnectionError) as e:\n",
    "        print(f\"Connection error while fetching list page: {e}\")\n",
    "        return [], None\n",
    "    \n",
    "    soup = BeautifulSoup(response.text, 'html.parser')\n",
    "    listings = soup.find_all('li', class_='car_listitem')\n",
    "    car_data_list = []\n",
    "    \n",
    "    for listing in listings:\n",
    "        try:\n",
    "            stock_id = listing['id'].split('_')[-1]\n",
    "            price_div = listing.find('div', class_='car_prices')\n",
    "            prices = price_div.find_all('p', class_='price_para') if price_div else []\n",
    "            fob_price = prices[0].text.strip().replace('USD ', '').replace(',', '') if prices else \"N/A\"\n",
    "            total_price = prices[1].text.strip().replace('USD ', '').replace(',', '') if len(prices) > 1 else \"N/A\"\n",
    "            a_tag = listing.find('h2').find('a')\n",
    "            detail_url = a_tag['href']\n",
    "            if not detail_url.startswith('http'):\n",
    "                detail_url = \"https://www.sbtjapan.com\" + detail_url\n",
    "            car_data_list.append({\n",
    "                'stock_id': stock_id,\n",
    "                'fob_price': fob_price,\n",
    "                'total_price': total_price,\n",
    "                'detail_url': detail_url\n",
    "            })\n",
    "        except Exception as e:\n",
    "            print(f\"Error processing listing: {e}\")\n",
    "    \n",
    "    next_page_li = soup.find('li', class_='page_next')\n",
    "    next_url = None\n",
    "    if next_page_li:\n",
    "        next_link = next_page_li.find('a')\n",
    "        if next_link and 'href' in next_link.attrs:\n",
    "            next_url = next_link['href']\n",
    "            if not next_url.startswith('http'):\n",
    "                next_url = \"https://www.sbtjapan.com\" + next_url\n",
    "    return car_data_list, next_url\n",
    "\n",
    "# Function to scrape a detail page with retries\n",
    "def scrape_detail_page(url, retries=3):\n",
    "    for attempt in range(retries):\n",
    "        try:\n",
    "            response = session.get(url, headers=headers, timeout=10)\n",
    "            if response.status_code == 200:\n",
    "                soup = BeautifulSoup(response.text, 'html.parser')\n",
    "                car_data = {}\n",
    "                h3 = soup.find('h3')\n",
    "                if h3:\n",
    "                    full_name = h3.text.split(\" - \")[0].strip()\n",
    "                    parts = full_name.split(\" \", 1)\n",
    "                    car_data['make'] = parts[0]\n",
    "                    car_data['model'] = parts[1] if len(parts) > 1 else \"\"\n",
    "                table = soup.find('table', class_='tabA')\n",
    "                if table:\n",
    "                    for tr in table.find_all('tr'):\n",
    "                        ths = tr.find_all('th')\n",
    "                        tds = tr.find_all('td')\n",
    "                        for i in range(len(ths)):\n",
    "                            key = ths[i].text.strip().lower().replace(' ', '_')\n",
    "                            value = tds[i].text.strip() if i < len(tds) else \"N/A\"\n",
    "                            car_data[key] = value\n",
    "                return car_data\n",
    "            else:\n",
    "                print(f\"Failed to fetch detail page: {response.status_code}\")\n",
    "        except (requests.exceptions.SSLError, requests.exceptions.ConnectionError) as e:\n",
    "            print(f\"Connection error on attempt {attempt + 1}: {e}\")\n",
    "            time.sleep(5)  # Wait before retrying\n",
    "    print(f\"Failed to fetch {url} after {retries} attempts.\")\n",
    "    return {}\n",
    "\n",
    "# Function to save the current data to CSV\n",
    "def save_data_to_csv(car_data, filename='car_listings.csv'):\n",
    "    # Define desired columns\n",
    "    columns = [\n",
    "        'stock_id', 'make', 'model', 'inventory_location', 'model_code', 'year',\n",
    "        'transmission', 'color', 'drive', 'doors', 'steering', 'seats', 'engine_type',\n",
    "        'body_type', 'engine_size', 'mileage', 'fuel', 'fob_price', 'total_price'\n",
    "    ]\n",
    "    \n",
    "    # Create DataFrame\n",
    "    df = pd.DataFrame(car_data)\n",
    "    df = df.rename(columns={'door': 'doors'})\n",
    "    df = df.reindex(columns=columns, fill_value=\"N/A\")\n",
    "    \n",
    "    # Save to CSV\n",
    "    df.to_csv(filename, index=False)\n",
    "    return df\n",
    "\n",
    "# Main scraping process\n",
    "base_url = \"https://www.sbtjapan.com/used-cars/?custom_search=japan_inventory&location=japan\"\n",
    "current_url = base_url\n",
    "all_cars = []\n",
    "page_count = 0\n",
    "max_pages = 385  # Maximum number of pages to scrape\n",
    "\n",
    "# Check if we have existing data to resume from\n",
    "checkpoint_file = 'car_listings_checkpoint.csv'\n",
    "if os.path.exists(checkpoint_file):\n",
    "    print(f\"Found checkpoint file. Loading existing data...\")\n",
    "    existing_df = pd.read_csv(checkpoint_file)\n",
    "    all_cars = existing_df.to_dict('records')\n",
    "    page_count = len(all_cars) // 10  # Approximate page count based on ~10 cars per page\n",
    "    print(f\"Loaded {len(all_cars)} existing car records. Resuming from around page {page_count}.\")\n",
    "\n",
    "# Create progress bar for visual tracking\n",
    "progress_bar = tqdm(total=max_pages, initial=page_count, desc=\"Scraping Progress\")\n",
    "\n",
    "while current_url and page_count < max_pages:\n",
    "    try:\n",
    "        print(f\"\\nScraping page {page_count + 1}: {current_url}\")\n",
    "        car_list_data, next_url = scrape_list_page(current_url)\n",
    "        \n",
    "        # Update progress information\n",
    "        page_count += 1\n",
    "        progress_bar.update(1)\n",
    "        progress_bar.set_description(f\"Page {page_count}/{max_pages} - Total cars: {len(all_cars)}\")\n",
    "        \n",
    "        # Process cars on the current page\n",
    "        cars_processed = 0\n",
    "        for car in car_list_data:\n",
    "            try:\n",
    "                detail_data = scrape_detail_page(car['detail_url'])\n",
    "                combined_data = {**car, **detail_data}\n",
    "                all_cars.append(combined_data)\n",
    "                cars_processed += 1\n",
    "            except Exception as e:\n",
    "                print(f\"Failed to scrape detail page for {car['stock_id']}: {e}\")\n",
    "                continue\n",
    "            time.sleep(5)  # Delay between detail page requests\n",
    "        \n",
    "        print(f\"Processed {cars_processed} cars from page {page_count}\")\n",
    "        \n",
    "        # Save checkpoint after each page\n",
    "        save_data_to_csv(all_cars, checkpoint_file)\n",
    "        print(f\"Saved checkpoint with {len(all_cars)} total car records\")\n",
    "        \n",
    "        if next_url and next_url != current_url:\n",
    "            current_url = next_url\n",
    "            time.sleep(10)  # Delay between list page requests\n",
    "        else:\n",
    "            print(f\"Stopping at page {page_count}. No more pages to scrape.\")\n",
    "            current_url = None\n",
    "    \n",
    "    except Exception as e:\n",
    "        print(f\"Error processing page {page_count}: {e}\")\n",
    "        # Still save data before continuing to next page\n",
    "        save_data_to_csv(all_cars, checkpoint_file)\n",
    "        if next_url and next_url != current_url:\n",
    "            current_url = next_url\n",
    "        else:\n",
    "            current_url = None\n",
    "\n",
    "# Close progress bar\n",
    "progress_bar.close()\n",
    "\n",
    "# Save final results\n",
    "final_df = save_data_to_csv(all_cars, 'car_listings_final.csv')\n",
    "print(f\"Scraping complete. Processed {page_count} pages and collected data for {len(all_cars)} cars.\")\n",
    "print(f\"Data saved to 'car_listings_final.csv'.\")"
   ]
  },
  {
   "cell_type": "code",
   "execution_count": null,
   "metadata": {},
   "outputs": [],
   "source": []
  },
  {
   "cell_type": "code",
   "execution_count": null,
   "metadata": {},
   "outputs": [],
   "source": []
  },
  {
   "cell_type": "code",
   "execution_count": 15,
   "metadata": {},
   "outputs": [
    {
     "name": "stdout",
     "output_type": "stream",
     "text": [
      "Successfully scraped https://www.sbtjapan.com/used-cars/toyota/corolla-fielder/GD9805/. Status code: 200\n",
      "Successfully scraped https://www.sbtjapan.com/used-cars/nissan/note/SF0847/. Status code: 200\n",
      "Successfully scraped https://www.sbtjapan.com/used-cars/nissan/vanette-truck/GI9155/. Status code: 200\n"
     ]
    }
   ],
   "source": [
    "import requests\n",
    "import time\n",
    "import random\n",
    "\n",
    "def scrape_with_retries(url, max_retries=5, initial_delay=5):\n",
    "    \"\"\"Scrapes a URL with retries and delays to handle 503 errors.\"\"\"\n",
    "\n",
    "    retries = 0\n",
    "    delay = initial_delay\n",
    "\n",
    "    user_agents = [\n",
    "        \"Mozilla/5.0 (Windows NT 10.0; Win64; x64) AppleWebKit/537.36 (KHTML, like Gecko) Chrome/91.0.4472.124 Safari/537.36\",\n",
    "        \"Mozilla/5.0 (Windows NT 10.0; Win64; x64) AppleWebKit/537.36 (KHTML, like Gecko) Firefox/89.0 Safari/537.36\",\n",
    "        \"Mozilla/5.0 (Macintosh; Intel Mac OS X 10_15_7) AppleWebKit/605.1.15 (KHTML, like Gecko) Version/14.0 Safari/605.1.15\",\n",
    "        # Add more user agents here\n",
    "    ]\n",
    "\n",
    "    while retries < max_retries:\n",
    "        try:\n",
    "            headers = {'User-Agent': random.choice(user_agents)} #rotate user agent\n",
    "            response = requests.get(url, headers=headers)\n",
    "            response.raise_for_status()  # Raise HTTPError for bad responses (4xx or 5xx)\n",
    "            return response\n",
    "\n",
    "        except requests.exceptions.HTTPError as e:\n",
    "            if e.response.status_code == 503:\n",
    "                print(f\"503 error for {url}. Retrying in {delay} seconds...\")\n",
    "                time.sleep(delay)\n",
    "                retries += 1\n",
    "                delay *= 2  # Exponential backoff\n",
    "            else:\n",
    "                print(f\"HTTP error for {url}: {e}\") #Print other http errors.\n",
    "                return None #return none if its another type of error.\n",
    "\n",
    "        except requests.exceptions.RequestException as e:\n",
    "            print(f\"Request error for {url}: {e}\")\n",
    "            return None #return none if a request exception occurs.\n",
    "\n",
    "    print(f\"Max retries exceeded for {url}\")\n",
    "    return None\n",
    "\n",
    "# Example usage:\n",
    "urls = [\n",
    "    \"https://www.sbtjapan.com/used-cars/toyota/corolla-fielder/GD9805/\",\n",
    "    \"https://www.sbtjapan.com/used-cars/nissan/note/SF0847/\",\n",
    "    \"https://www.sbtjapan.com/used-cars/nissan/vanette-truck/GI9155/\",\n",
    "]\n",
    "\n",
    "for url in urls:\n",
    "    response = scrape_with_retries(url)\n",
    "    if response:\n",
    "        # Process the successful response here\n",
    "        print(f\"Successfully scraped {url}. Status code: {response.status_code}\")\n",
    "        # Example: print(response.text)\n",
    "    else:\n",
    "        print(f\"Failed to scrape {url}\")"
   ]
  },
  {
   "cell_type": "markdown",
   "metadata": {},
   "source": [
    "\n",
    "\n",
    "```python\n",
    "import requests\n",
    "from bs4 import BeautifulSoup\n",
    "import pandas as pd\n",
    "import time\n",
    "from requests.adapters import HTTPAdapter\n",
    "from urllib3.util.retry import Retry\n",
    "import os\n",
    "from tqdm import tqdm\n",
    "\n",
    "# Set up a session with retry logic\n",
    "session = requests.Session()\n",
    "retry = Retry(total=5, backoff_factor=1, status_forcelist=[502, 503, 504])\n",
    "adapter = HTTPAdapter(max_retries=retry)\n",
    "session.mount('http://', adapter)\n",
    "session.mount('https://', adapter)\n",
    "\n",
    "# Headers to mimic a browser\n",
    "headers = {\n",
    "    'User-Agent': 'Mozilla/5.0 (Windows NT 10.0; Win64; x64) AppleWebKit/537.36 (KHTML, like Gecko) Chrome/91.0.4472.124 Safari/537.36'\n",
    "}\n",
    "\n",
    "# Function to scrape a list page\n",
    "def scrape_list_page(url):\n",
    "    try:\n",
    "        response = session.get(url, headers=headers, timeout=10)\n",
    "        if response.status_code != 200:\n",
    "            print(f\"Failed to fetch list page: {response.status_code}\")\n",
    "            return [], None\n",
    "    except (requests.exceptions.SSLError, requests.exceptions.ConnectionError) as e:\n",
    "        print(f\"Connection error while fetching list page: {e}\")\n",
    "        return [], None\n",
    "    \n",
    "    soup = BeautifulSoup(response.text, 'html.parser')\n",
    "    listings = soup.find_all('li', class_='car_listitem')\n",
    "    car_data_list = []\n",
    "    \n",
    "    for listing in listings:\n",
    "        try:\n",
    "            stock_id = listing['id'].split('_')[-1]\n",
    "            price_div = listing.find('div', class_='car_prices')\n",
    "            prices = price_div.find_all('p', class_='price_para') if price_div else []\n",
    "            fob_price = prices[0].text.strip().replace('USD ', '').replace(',', '') if prices else \"N/A\"\n",
    "            total_price = prices[1].text.strip().replace('USD ', '').replace(',', '') if len(prices) > 1 else \"N/A\"\n",
    "            a_tag = listing.find('h2').find('a')\n",
    "            detail_url = a_tag['href']\n",
    "            if not detail_url.startswith('http'):\n",
    "                detail_url = \"https://www.sbtjapan.com\" + detail_url\n",
    "            car_data_list.append({\n",
    "                'stock_id': stock_id,\n",
    "                'fob_price': fob_price,\n",
    "                'total_price': total_price,\n",
    "                'detail_url': detail_url\n",
    "            })\n",
    "        except Exception as e:\n",
    "            print(f\"Error processing listing: {e}\")\n",
    "    \n",
    "    next_page_li = soup.find('li', class_='page_next')\n",
    "    next_url = None\n",
    "    if next_page_li:\n",
    "        next_link = next_page_li.find('a')\n",
    "        if next_link and 'href' in next_link.attrs:\n",
    "            next_url = next_link['href']\n",
    "            if not next_url.startswith('http'):\n",
    "                next_url = \"https://www.sbtjapan.com\" + next_url\n",
    "    return car_data_list, next_url\n",
    "\n",
    "# Function to scrape a detail page with retries\n",
    "def scrape_detail_page(url, retries=3):\n",
    "    for attempt in range(retries):\n",
    "        try:\n",
    "            response = session.get(url, headers=headers, timeout=10)\n",
    "            if response.status_code == 200:\n",
    "                soup = BeautifulSoup(response.text, 'html.parser')\n",
    "                car_data = {}\n",
    "                h3 = soup.find('h3')\n",
    "                if h3:\n",
    "                    full_name = h3.text.split(\" - \")[0].strip()\n",
    "                    parts = full_name.split(\" \", 1)\n",
    "                    car_data['make'] = parts[0]\n",
    "                    car_data['model'] = parts[1] if len(parts) > 1 else \"\"\n",
    "                table = soup.find('table', class_='tabA')\n",
    "                if table:\n",
    "                    for tr in table.find_all('tr'):\n",
    "                        ths = tr.find_all('th')\n",
    "                        tds = tr.find_all('td')\n",
    "                        for i in range(len(ths)):\n",
    "                            key = ths[i].text.strip().lower().replace(' ', '_')\n",
    "                            value = tds[i].text.strip() if i < len(tds) else \"N/A\"\n",
    "                            car_data[key] = value\n",
    "                return car_data\n",
    "            else:\n",
    "                print(f\"Failed to fetch detail page: {response.status_code}\")\n",
    "        except (requests.exceptions.SSLError, requests.exceptions.ConnectionError) as e:\n",
    "            print(f\"Connection error on attempt {attempt + 1}: {e}\")\n",
    "            time.sleep(5)  # Wait before retrying\n",
    "    print(f\"Failed to fetch {url} after {retries} attempts.\")\n",
    "    return {}\n",
    "\n",
    "# Function to save the current data to CSV\n",
    "def save_data_to_csv(car_data, filename='car_listings.csv'):\n",
    "    # Define desired columns\n",
    "    columns = [\n",
    "        'stock_id', 'make', 'model', 'inventory_location', 'model_code', 'year',\n",
    "        'transmission', 'color', 'drive', 'doors', 'steering', 'seats', 'engine_type',\n",
    "        'body_type', 'engine_size', 'mileage', 'fuel', 'fob_price', 'total_price'\n",
    "    ]\n",
    "    \n",
    "    # Create DataFrame\n",
    "    df = pd.DataFrame(car_data)\n",
    "    df = df.rename(columns={'door': 'doors'})\n",
    "    df = df.reindex(columns=columns, fill_value=\"N/A\")\n",
    "    \n",
    "    # Save to CSV\n",
    "    df.to_csv(filename, index=False)\n",
    "    return df\n",
    "\n",
    "# Main scraping process\n",
    "base_url = \"https://www.sbtjapan.com/used-cars/?custom_search=japan_inventory&location=japan\"\n",
    "current_url = base_url\n",
    "all_cars = []\n",
    "page_count = 0\n",
    "max_pages = 385  # Maximum number of pages to scrape\n",
    "\n",
    "# Check if we have existing data to resume from\n",
    "checkpoint_file = 'car_listings_checkpoint.csv'\n",
    "if os.path.exists(checkpoint_file):\n",
    "    print(f\"Found checkpoint file. Loading existing data...\")\n",
    "    existing_df = pd.read_csv(checkpoint_file)\n",
    "    all_cars = existing_df.to_dict('records')\n",
    "    page_count = len(all_cars) // 10  # Approximate page count based on ~10 cars per page\n",
    "    print(f\"Loaded {len(all_cars)} existing car records. Resuming from around page {page_count}.\")\n",
    "\n",
    "# Create progress bar for visual tracking\n",
    "progress_bar = tqdm(total=max_pages, initial=page_count, desc=\"Scraping Progress\")\n",
    "\n",
    "while current_url and page_count < max_pages:\n",
    "    try:\n",
    "        print(f\"\\nScraping page {page_count + 1}: {current_url}\")\n",
    "        car_list_data, next_url = scrape_list_page(current_url)\n",
    "        \n",
    "        # Update progress information\n",
    "        page_count += 1\n",
    "        progress_bar.update(1)\n",
    "        progress_bar.set_description(f\"Page {page_count}/{max_pages} - Total cars: {len(all_cars)}\")\n",
    "        \n",
    "        # Process cars on the current page\n",
    "        cars_processed = 0\n",
    "        for car in car_list_data:\n",
    "            try:\n",
    "                detail_data = scrape_detail_page(car['detail_url'])\n",
    "                combined_data = {**car, **detail_data}\n",
    "                all_cars.append(combined_data)\n",
    "                cars_processed += 1\n",
    "            except Exception as e:\n",
    "                print(f\"Failed to scrape detail page for {car['stock_id']}: {e}\")\n",
    "                continue\n",
    "            time.sleep(5)  # Delay between detail page requests\n",
    "        \n",
    "        print(f\"Processed {cars_processed} cars from page {page_count}\")\n",
    "        \n",
    "        # Save checkpoint after each page\n",
    "        save_data_to_csv(all_cars, checkpoint_file)\n",
    "        print(f\"Saved checkpoint with {len(all_cars)} total car records\")\n",
    "        \n",
    "        if next_url and next_url != current_url:\n",
    "            current_url = next_url\n",
    "            time.sleep(10)  # Delay between list page requests\n",
    "        else:\n",
    "            print(f\"Stopping at page {page_count}. No more pages to scrape.\")\n",
    "            current_url = None\n",
    "    \n",
    "    except Exception as e:\n",
    "        print(f\"Error processing page {page_count}: {e}\")\n",
    "        # Still save data before continuing to next page\n",
    "        save_data_to_csv(all_cars, checkpoint_file)\n",
    "        if next_url and next_url != current_url:\n",
    "            current_url = next_url\n",
    "        else:\n",
    "            current_url = None\n",
    "\n",
    "# Close progress bar\n",
    "progress_bar.close()\n",
    "\n",
    "# Save final results\n",
    "final_df = save_data_to_csv(all_cars, 'car_listings_final.csv')\n",
    "print(f\"Scraping complete. Processed {page_count} pages and collected data for {len(all_cars)} cars.\")\n",
    "print(f\"Data saved to 'car_listings_final.csv'.\")\n",
    "\n",
    "```\n",
    "\n",
    "I've implemented all the improvements you requested:\n",
    "\n",
    "1. **Incremental data saving**: \n",
    "   - After each page is scraped, the data is saved to a checkpoint file (`car_listings_checkpoint.csv`)\n",
    "   - If the script is interrupted and restarted, it will load the existing data from the checkpoint file\n",
    "   - This prevents data loss in case of errors or interruptions\n",
    "\n",
    "2. **Limiting to 385 pages**:\n",
    "   - Added a `max_pages` variable set to 385\n",
    "   - The script will stop after reaching this limit, even if there are more pages available\n",
    "\n",
    "3. **Progress tracking**:\n",
    "   - Added the `tqdm` library to show a progress bar in the console\n",
    "   - The progress bar displays the current page number, maximum pages, and total cars collected\n",
    "   - Added additional print statements showing how many cars were processed on each page\n",
    "\n",
    "Additional improvements:\n",
    "\n",
    "1. **Better error handling**:\n",
    "   - Added try/except blocks to handle errors at the page level\n",
    "   - Even if a page fails, the script will save the data collected so far and try to continue\n",
    "\n",
    "2. **Resumption capability**:\n",
    "   - If the script is stopped and restarted, it will attempt to resume from where it left off\n",
    "   - It loads existing data from the checkpoint file\n",
    "\n",
    "3. **Final output file**:\n",
    "   - Saves the final complete dataset to a separate file (`car_listings_final.csv`)\n",
    "   - Keeps the checkpoint file for backup purposes\n",
    "\n",
    "To use this script, you'll need to install the `tqdm` library if you don't have it already:\n",
    "\n",
    "```\n",
    "pip install tqdm\n",
    "```\n",
    "\n",
    "This will give you the visual progress indicator you requested. Would you like me to make any other improvements or modifications to the code?"
   ]
  },
  {
   "cell_type": "markdown",
   "metadata": {},
   "source": []
  }
 ],
 "metadata": {
  "kernelspec": {
   "display_name": "base",
   "language": "python",
   "name": "python3"
  },
  "language_info": {
   "codemirror_mode": {
    "name": "ipython",
    "version": 3
   },
   "file_extension": ".py",
   "mimetype": "text/x-python",
   "name": "python",
   "nbconvert_exporter": "python",
   "pygments_lexer": "ipython3",
   "version": "3.9.21"
  }
 },
 "nbformat": 4,
 "nbformat_minor": 2
}
